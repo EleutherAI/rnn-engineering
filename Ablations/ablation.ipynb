{
 "cells": [
  {
   "cell_type": "code",
   "execution_count": 1,
   "metadata": {},
   "outputs": [
    {
     "name": "stderr",
     "output_type": "stream",
     "text": [
      "/mnt/ssd-1/gpaulo/miniconda3/envs/new_transformers/lib/python3.10/site-packages/tqdm/auto.py:21: TqdmWarning: IProgress not found. Please update jupyter and ipywidgets. See https://ipywidgets.readthedocs.io/en/stable/user_install.html\n",
      "  from .autonotebook import tqdm as notebook_tqdm\n"
     ]
    }
   ],
   "source": [
    "from transformers import MambaForCausalLM\n",
    "from torch import nn\n",
    "import torch"
   ]
  },
  {
   "cell_type": "code",
   "execution_count": 2,
   "metadata": {},
   "outputs": [
    {
     "name": "stderr",
     "output_type": "stream",
     "text": [
      "Loading checkpoint shards: 100%|██████████| 3/3 [00:01<00:00,  2.27it/s]\n"
     ]
    }
   ],
   "source": [
    "mamba = MambaForCausalLM.from_pretrained(\"state-spaces/mamba-2.8b-hf\")"
   ]
  },
  {
   "cell_type": "code",
   "execution_count": 3,
   "metadata": {},
   "outputs": [
    {
     "data": {
      "text/plain": [
       "MambaForCausalLM(\n",
       "  (backbone): MambaModel(\n",
       "    (embeddings): Embedding(50280, 2560)\n",
       "    (layers): ModuleList(\n",
       "      (0-63): 64 x MambaBlock(\n",
       "        (norm): MambaRMSNorm()\n",
       "        (mixer): MambaMixer(\n",
       "          (conv1d): Conv1d(5120, 5120, kernel_size=(4,), stride=(1,), padding=(3,), groups=5120)\n",
       "          (act): SiLU()\n",
       "          (in_proj): Linear(in_features=2560, out_features=10240, bias=False)\n",
       "          (x_proj): Linear(in_features=5120, out_features=192, bias=False)\n",
       "          (dt_proj): Linear(in_features=160, out_features=5120, bias=True)\n",
       "          (out_proj): Linear(in_features=5120, out_features=2560, bias=False)\n",
       "        )\n",
       "      )\n",
       "    )\n",
       "    (norm_f): MambaRMSNorm()\n",
       "  )\n",
       "  (lm_head): Linear(in_features=2560, out_features=50280, bias=False)\n",
       ")"
      ]
     },
     "execution_count": 3,
     "metadata": {},
     "output_type": "execute_result"
    }
   ],
   "source": [
    "mamba"
   ]
  },
  {
   "cell_type": "code",
   "execution_count": 9,
   "metadata": {},
   "outputs": [],
   "source": [
    "class UnitarySSM(nn.Module):\n",
    "    def __init__(self, model: nn.Module):\n",
    "        super().__init__()\n",
    "        self.model = model\n",
    "\n",
    "        # Register a hook for each layer\n",
    "        self.hooks = []\n",
    "        self.add_hooks()\n",
    "        \n",
    "    def forward(self,x) :\n",
    "        return self.model(x)\n",
    "\n",
    "    def remove_hooks(self):\n",
    "        for h in self.hooks:\n",
    "            h.remove()\n",
    "\n",
    "    def add_hooks(self):\n",
    "        for name, layer in self.model.backbone.layers.named_children():\n",
    "            print(layer.named_children())\n",
    "            layer.__name__ = name\n",
    "            self.hooks.append(layer.register_forward_hook(\n",
    "                lambda layer, _, output: print(f\"{layer.__name__}: output\")\n",
    "            ))\n"
   ]
  },
  {
   "cell_type": "code",
   "execution_count": 10,
   "metadata": {},
   "outputs": [
    {
     "name": "stdout",
     "output_type": "stream",
     "text": [
      "<generator object Module.named_children at 0x7f56396dba70>\n",
      "<generator object Module.named_children at 0x7f56396dba70>\n",
      "<generator object Module.named_children at 0x7f56396dba70>\n",
      "<generator object Module.named_children at 0x7f56396dba70>\n",
      "<generator object Module.named_children at 0x7f56396dba70>\n",
      "<generator object Module.named_children at 0x7f56396dba70>\n",
      "<generator object Module.named_children at 0x7f56396dba70>\n",
      "<generator object Module.named_children at 0x7f56396dba70>\n",
      "<generator object Module.named_children at 0x7f56396dba70>\n",
      "<generator object Module.named_children at 0x7f56396dba70>\n",
      "<generator object Module.named_children at 0x7f56396dba70>\n",
      "<generator object Module.named_children at 0x7f56396dba70>\n",
      "<generator object Module.named_children at 0x7f56396dba70>\n",
      "<generator object Module.named_children at 0x7f56396dba70>\n",
      "<generator object Module.named_children at 0x7f56396dba70>\n",
      "<generator object Module.named_children at 0x7f56396dba70>\n",
      "<generator object Module.named_children at 0x7f56396dba70>\n",
      "<generator object Module.named_children at 0x7f56396dba70>\n",
      "<generator object Module.named_children at 0x7f56396dba70>\n",
      "<generator object Module.named_children at 0x7f56396dba70>\n",
      "<generator object Module.named_children at 0x7f56396dba70>\n",
      "<generator object Module.named_children at 0x7f56396dba70>\n",
      "<generator object Module.named_children at 0x7f56396dba70>\n",
      "<generator object Module.named_children at 0x7f56396dba70>\n",
      "<generator object Module.named_children at 0x7f56396dba70>\n",
      "<generator object Module.named_children at 0x7f56396dba70>\n",
      "<generator object Module.named_children at 0x7f56396dba70>\n",
      "<generator object Module.named_children at 0x7f56396dba70>\n",
      "<generator object Module.named_children at 0x7f56396dba70>\n",
      "<generator object Module.named_children at 0x7f56396dba70>\n",
      "<generator object Module.named_children at 0x7f56396dba70>\n",
      "<generator object Module.named_children at 0x7f56396dba70>\n",
      "<generator object Module.named_children at 0x7f56396dba70>\n",
      "<generator object Module.named_children at 0x7f56396dba70>\n",
      "<generator object Module.named_children at 0x7f56396dba70>\n",
      "<generator object Module.named_children at 0x7f56396dba70>\n",
      "<generator object Module.named_children at 0x7f56396dba70>\n",
      "<generator object Module.named_children at 0x7f56396dba70>\n",
      "<generator object Module.named_children at 0x7f56396dba70>\n",
      "<generator object Module.named_children at 0x7f56396dba70>\n",
      "<generator object Module.named_children at 0x7f56396dba70>\n",
      "<generator object Module.named_children at 0x7f56396dba70>\n",
      "<generator object Module.named_children at 0x7f56396dba70>\n",
      "<generator object Module.named_children at 0x7f56396dba70>\n",
      "<generator object Module.named_children at 0x7f56396dba70>\n",
      "<generator object Module.named_children at 0x7f56396dba70>\n",
      "<generator object Module.named_children at 0x7f56396dba70>\n",
      "<generator object Module.named_children at 0x7f56396dba70>\n",
      "<generator object Module.named_children at 0x7f56396dba70>\n",
      "<generator object Module.named_children at 0x7f56396dba70>\n",
      "<generator object Module.named_children at 0x7f56396dba70>\n",
      "<generator object Module.named_children at 0x7f56396dba70>\n",
      "<generator object Module.named_children at 0x7f56396dba70>\n",
      "<generator object Module.named_children at 0x7f56396dba70>\n",
      "<generator object Module.named_children at 0x7f56396dba70>\n",
      "<generator object Module.named_children at 0x7f56396dba70>\n",
      "<generator object Module.named_children at 0x7f56396dba70>\n",
      "<generator object Module.named_children at 0x7f56396dba70>\n",
      "<generator object Module.named_children at 0x7f56396dba70>\n",
      "<generator object Module.named_children at 0x7f56396dba70>\n",
      "<generator object Module.named_children at 0x7f56396dba70>\n",
      "<generator object Module.named_children at 0x7f56396dba70>\n",
      "<generator object Module.named_children at 0x7f56396dba70>\n",
      "<generator object Module.named_children at 0x7f56396dba70>\n"
     ]
    }
   ],
   "source": [
    "verbose = UnitarySSM(mamba)"
   ]
  },
  {
   "cell_type": "code",
   "execution_count": 11,
   "metadata": {},
   "outputs": [
    {
     "name": "stdout",
     "output_type": "stream",
     "text": [
      "0: output\n",
      "1: output\n",
      "2: output\n",
      "3: output\n",
      "4: output\n",
      "5: output\n",
      "6: output\n",
      "7: output\n",
      "8: output\n",
      "9: output\n",
      "10: output\n",
      "11: output\n",
      "12: output\n",
      "13: output\n",
      "14: output\n",
      "15: output\n",
      "16: output\n",
      "17: output\n",
      "18: output\n",
      "19: output\n",
      "20: output\n",
      "21: output\n",
      "22: output\n",
      "23: output\n",
      "24: output\n",
      "25: output\n",
      "26: output\n",
      "27: output\n",
      "28: output\n",
      "29: output\n",
      "30: output\n",
      "31: output\n",
      "32: output\n",
      "33: output\n",
      "34: output\n",
      "35: output\n",
      "36: output\n",
      "37: output\n",
      "38: output\n",
      "39: output\n",
      "40: output\n",
      "41: output\n",
      "42: output\n",
      "43: output\n",
      "44: output\n",
      "45: output\n",
      "46: output\n",
      "47: output\n",
      "48: output\n",
      "49: output\n",
      "50: output\n",
      "51: output\n",
      "52: output\n",
      "53: output\n",
      "54: output\n",
      "55: output\n",
      "56: output\n",
      "57: output\n",
      "58: output\n",
      "59: output\n",
      "60: output\n",
      "61: output\n",
      "62: output\n",
      "63: output\n"
     ]
    }
   ],
   "source": [
    "output = verbose(torch.tensor([[0]]))"
   ]
  },
  {
   "cell_type": "code",
   "execution_count": 8,
   "metadata": {},
   "outputs": [],
   "source": [
    "verbose.remove_hooks()"
   ]
  },
  {
   "cell_type": "code",
   "execution_count": null,
   "metadata": {},
   "outputs": [],
   "source": []
  }
 ],
 "metadata": {
  "kernelspec": {
   "display_name": "new_transformers",
   "language": "python",
   "name": "python3"
  },
  "language_info": {
   "codemirror_mode": {
    "name": "ipython",
    "version": 3
   },
   "file_extension": ".py",
   "mimetype": "text/x-python",
   "name": "python",
   "nbconvert_exporter": "python",
   "pygments_lexer": "ipython3",
   "version": "3.10.13"
  }
 },
 "nbformat": 4,
 "nbformat_minor": 2
}
