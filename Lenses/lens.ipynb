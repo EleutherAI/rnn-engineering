{
 "cells": [
  {
   "cell_type": "code",
   "execution_count": 1,
   "metadata": {},
   "outputs": [],
   "source": [
    "from copy import deepcopy\n",
    "from typing import List\n",
    "import sys\n",
    "sys.path.append('../../tuned-lens')\n",
    "\n",
    "import accelerate\n",
    "import torch\n",
    "from datasets import load_dataset\n",
    "from torch.utils.data import DataLoader, Subset\n",
    "from mamba_ssm.ops.triton.layernorm import rms_norm_fn\n",
    "from tqdm import tqdm\n",
    "from tuned_lens.nn.lenses import Lens, LogitLens, TunedLens\n",
    "from tuned_lens.scripts.ingredients import Model\n",
    "import wandb\n",
    "from transformers import (\n",
    "    AutoConfig,\n",
    "    AutoModelForCausalLM,\n",
    "    AutoTokenizer,\n",
    "    PretrainedConfig,\n",
    "    PreTrainedModel,\n",
    "    PreTrainedTokenizerBase,\n",
    "    get_linear_schedule_with_warmup,\n",
    ")\n",
    "from tuned_lens.scripts.ingredients import Model\n",
    "from tuned_lens.model_patches.mamba_model import PreMambaConfig, MambaModel, MambaTokenizer\n"
   ]
  },
  {
   "cell_type": "code",
   "execution_count": 2,
   "metadata": {},
   "outputs": [
    {
     "name": "stderr",
     "output_type": "stream",
     "text": [
      "Special tokens have been added in the vocabulary, make sure the associated word embeddings are fine-tuned or trained.\n"
     ]
    }
   ],
   "source": [
    "AutoConfig.register(\"mamba\", PreMambaConfig)\n",
    "AutoModelForCausalLM.register(PreMambaConfig, MambaModel)\n",
    "AutoTokenizer.register(PreMambaConfig, MambaTokenizer)\n",
    "name = \"state-spaces/mamba-130m\"\n",
    "model = AutoModelForCausalLM.from_pretrained(  # type: ignore\n",
    "                name,\n",
    "            )\n",
    "model = model.to(\"cuda\")\n",
    "tokenizer =  AutoTokenizer.from_pretrained(\"EleutherAI/gpt-neox-20b\")\n",
    "tuned_lens=TunedLens.from_model_and_pretrained(model,\"../../tuned-lens/my_lens/mamba/130m\").to(\"cuda\")\n",
    "logit_lens=LogitLens.from_model(model)"
   ]
  },
  {
   "cell_type": "code",
   "execution_count": 3,
   "metadata": {},
   "outputs": [],
   "source": [
    "from tuned_lens.plotting import PredictionTrajectory\n",
    "import ipywidgets as widgets\n",
    "from plotly import graph_objects as go\n",
    "\n",
    "\n",
    "def make_plot(lens, text, layer_stride, statistic, token_range):\n",
    "    input_ids = tokenizer.encode(text)\n",
    "    targets = input_ids[1:] + [tokenizer.eos_token_id]\n",
    "\n",
    "    if len(input_ids) == 0:\n",
    "        return widgets.Text(\"Please enter some text.\")\n",
    "    \n",
    "    if (token_range[0] == token_range[1]):\n",
    "        return widgets.Text(\"Please provide valid token range.\")\n",
    "    pred_traj = PredictionTrajectory.from_lens_and_model(\n",
    "        lens=lens,\n",
    "        model=model,\n",
    "        input_ids=input_ids,\n",
    "        tokenizer=tokenizer,\n",
    "        targets=targets,\n",
    "    ).slice_sequence(slice(*token_range))\n",
    "\n",
    "    return getattr(pred_traj, statistic)().stride(layer_stride).figure(\n",
    "        title=f\"{lens.__class__.__name__} ({model.name_or_path}) {statistic}\",\n",
    "    )\n",
    "\n",
    "style = {'description_width': 'initial'}\n",
    "statistic_wdg = widgets.Dropdown(\n",
    "    options=[\n",
    "        ('Entropy', 'entropy'),\n",
    "        ('Cross Entropy', 'cross_entropy'),\n",
    "        ('Forward KL', 'forward_kl'),\n",
    "    ],\n",
    "    description='Select Statistic:',\n",
    "    style=style,\n",
    ")\n",
    "text_wdg = widgets.Textarea(\n",
    "    description=\"Input Text\",\n",
    "    value=\"I start like this and end like that\",\n",
    ")\n",
    "lens_wdg = widgets.Dropdown(\n",
    "    options=[('Tuned Lens', tuned_lens), ('Logit Lens', logit_lens)],\n",
    "    description='Select Lens:',\n",
    "    style=style,\n",
    ")\n",
    "\n",
    "layer_stride_wdg = widgets.BoundedIntText(\n",
    "    value=2,\n",
    "    min=1,\n",
    "    max=10,\n",
    "    step=1,\n",
    "    description='Layer Stride:',\n",
    "    disabled=False\n",
    ")\n",
    "\n",
    "token_range_wdg = widgets.IntRangeSlider(\n",
    "    description='Token Range',\n",
    "    min=0,\n",
    "    max=1,\n",
    "    step=1,\n",
    "    style=style,\n",
    ")\n",
    "\n",
    "\n",
    "def update_token_range(*args):\n",
    "    token_range_wdg.max = len(tokenizer.encode(text_wdg.value))\n",
    "\n"
   ]
  },
  {
   "cell_type": "code",
   "execution_count": 7,
   "metadata": {},
   "outputs": [
    {
     "data": {
      "application/vnd.jupyter.widget-view+json": {
       "model_id": "953b795cad6f40d6a0b7713cf2a0b99c",
       "version_major": 2,
       "version_minor": 0
      },
      "text/plain": [
       "interactive(children=(Dropdown(description='Select Lens:', options=(('Tuned Lens', TunedLens(\n",
       "  (unembed): Une…"
      ]
     },
     "metadata": {},
     "output_type": "display_data"
    },
    {
     "data": {
      "application/vnd.plotly.v1+json": {
       "config": {
        "plotlyServerURL": "https://plot.ly"
       },
       "data": [
        {
         "colorbar": {
          "title": {
           "side": "right",
           "text": "Cross Entropy (nats)"
          }
         },
         "colorscale": [
          [
           0,
           "rgb(5,48,97)"
          ],
          [
           0.1,
           "rgb(33,102,172)"
          ],
          [
           0.2,
           "rgb(67,147,195)"
          ],
          [
           0.3,
           "rgb(146,197,222)"
          ],
          [
           0.4,
           "rgb(209,229,240)"
          ],
          [
           0.5,
           "rgb(247,247,247)"
          ],
          [
           0.6,
           "rgb(253,219,199)"
          ],
          [
           0.7,
           "rgb(244,165,130)"
          ],
          [
           0.8,
           "rgb(214,96,77)"
          ],
          [
           0.9,
           "rgb(178,24,43)"
          ],
          [
           1,
           "rgb(103,0,31)"
          ]
         ],
         "customdata": [
          [
           [
            "       I",
            "  97.75%",
            "      _I",
            "   1.45%",
            "    _ion",
            "   0.02%",
            "  _saliv",
            "   0.01%",
            "     )_\\",
            "   0.01%",
            " _impro…",
            "   0.01%",
            "       ă",
            "   0.01%",
            " _furth…",
            "   0.01%",
            "    )={\\",
            "   0.01%",
            "   _magn",
            "   0.01%"
           ],
           [
            "  _start",
            "  99.31%",
            "       .",
            "   0.24%",
            "       ,",
            "   0.24%",
            "     _of",
            "   0.06%",
            "      \\n",
            "   0.03%",
            "     _to",
            "   0.02%",
            "     _in",
            "   0.01%",
            " _starts",
            "   0.01%",
            "     _on",
            "   0.01%",
            "    _the",
            "   0.01%"
           ],
           [
            "   _like",
            "  99.99%",
            "    like",
            "   0.00%",
            "      \\n",
            "   0.00%",
            "    _the",
            "   0.00%",
            "      _a",
            "   0.00%",
            "       -",
            "   0.00%",
            "       .",
            "   0.00%",
            "       _",
            "   0.00%",
            "       ,",
            "   0.00%",
            "      _\"",
            "   0.00%"
           ],
           [
            "   _this",
            "  18.64%",
            "      \\n",
            "   2.99%",
            " _selec…",
            "   1.52%",
            "    this",
            "   1.29%",
            "   _work",
            "   1.01%",
            " _proce…",
            "   0.64%",
            "    _est",
            "   0.63%",
            "  _solid",
            "   0.63%",
            "  _event",
            "   0.60%",
            " _scree…",
            "   0.60%"
           ],
           [
            "    _and",
            "   7.01%",
            "    _the",
            "   3.49%",
            " _hydro…",
            "   0.87%",
            "   _look",
            "   0.71%",
            "      \\n",
            "   0.65%",
            "    _SiO",
            "   0.58%",
            "  _nanoc",
            "   0.57%",
            "      _a",
            "   0.51%",
            " _elect…",
            "   0.46%",
            "     _et",
            "   0.45%"
           ],
           [
            "    _end",
            "  99.77%",
            "       ,",
            "   0.11%",
            "       .",
            "   0.06%",
            "       -",
            "   0.03%",
            "      \\n",
            "   0.01%",
            "     _of",
            "   0.01%",
            "     end",
            "   0.00%",
            "    _End",
            "   0.00%",
            "    _and",
            "   0.00%",
            "    _the",
            "   0.00%"
           ],
           [
            "   _like",
            " 100.00%",
            "    like",
            "   0.00%",
            "      \\n",
            "   0.00%",
            "    _the",
            "   0.00%",
            "       -",
            "   0.00%",
            "      _a",
            "   0.00%",
            "       .",
            "   0.00%",
            "       _",
            "   0.00%",
            "       ,",
            "   0.00%",
            "      _\"",
            "   0.00%"
           ],
           [
            "   _that",
            "  42.16%",
            "      \\n",
            "  19.22%",
            "     _he",
            "   1.49%",
            "       4",
            "   1.01%",
            "      _F",
            "   0.99%",
            "       2",
            "   0.96%",
            "       3",
            "   0.95%",
            "      _M",
            "   0.89%",
            "      _P",
            "   0.87%",
            "       1",
            "   0.77%"
           ]
          ],
          [
           [
            "       I",
            "  95.73%",
            "      _I",
            "   0.44%",
            " _ethyl…",
            "   0.11%",
            "    _ion",
            "   0.06%",
            " _cobalt",
            "   0.06%",
            "   _acry",
            "   0.04%",
            "     ulf",
            "   0.04%",
            "      'm",
            "   0.03%",
            "   _didn",
            "   0.03%",
            "  _saliv",
            "   0.02%"
           ],
           [
            "  _start",
            "  96.65%",
            " _starts",
            "   0.79%",
            " _start…",
            "   0.73%",
            "       ,",
            "   0.38%",
            "     _to",
            "   0.30%",
            "       .",
            "   0.21%",
            "     _on",
            "   0.14%",
            "     _of",
            "   0.14%",
            "    _the",
            "   0.10%",
            "   _with",
            "   0.08%"
           ],
           [
            "   _like",
            "  99.81%",
            "    _the",
            "   0.07%",
            "      _a",
            "   0.03%",
            "      \\n",
            "   0.03%",
            "    like",
            "   0.03%",
            "      _I",
            "   0.01%",
            "       -",
            "   0.00%",
            "       .",
            "   0.00%",
            "      _A",
            "   0.00%",
            "      _\"",
            "   0.00%"
           ],
           [
            "   _this",
            "  41.89%",
            "     _is",
            "   2.24%",
            "      \\n",
            "   1.89%",
            "    _âĢľ",
            "   1.50%",
            "    this",
            "   1.28%",
            "      _\"",
            "   0.99%",
            "       .",
            "   0.90%",
            " _proce…",
            "   0.64%",
            "    This",
            "   0.57%",
            "   _This",
            "   0.54%"
           ],
           [
            "    _the",
            "   7.81%",
            "    _and",
            "   7.80%",
            "      _a",
            "   1.06%",
            "      \\n",
            "   0.69%",
            " _hydro…",
            "   0.66%",
            "  _nanoc",
            "   0.61%",
            " _groups",
            "   0.58%",
            "   _acry",
            "   0.49%",
            "     _he",
            "   0.47%",
            "    _und",
            "   0.42%"
           ],
           [
            "    _end",
            "  99.88%",
            "       ,",
            "   0.04%",
            "     end",
            "   0.03%",
            "       .",
            "   0.02%",
            "     _of",
            "   0.01%",
            "    _End",
            "   0.01%",
            "    _the",
            "   0.00%",
            "       -",
            "   0.00%",
            "      \\n",
            "   0.00%",
            "     _to",
            "   0.00%"
           ],
           [
            "   _like",
            "  99.93%",
            "    like",
            "   0.03%",
            "      \\n",
            "   0.02%",
            "    _the",
            "   0.01%",
            "      _a",
            "   0.00%",
            "       -",
            "   0.00%",
            "      _I",
            "   0.00%",
            "       .",
            "   0.00%",
            "   _Like",
            "   0.00%",
            "      _A",
            "   0.00%"
           ],
           [
            "   _that",
            "  38.29%",
            "      \\n",
            "  15.25%",
            "      _I",
            "   3.64%",
            "      _\"",
            "   3.63%",
            "     _is",
            "   2.81%",
            "      _M",
            "   1.95%",
            "    _the",
            "   1.59%",
            "       I",
            "   1.48%",
            "      _P",
            "   1.41%",
            "      _S",
            "   1.26%"
           ]
          ],
          [
           [
            "       I",
            "  94.47%",
            "      _I",
            "   0.93%",
            "    _ion",
            "   0.08%",
            "      'm",
            "   0.06%",
            " _ethyl…",
            "   0.05%",
            " _cobalt",
            "   0.05%",
            "       \"",
            "   0.04%",
            "   _didn",
            "   0.04%",
            "       ]",
            "   0.03%",
            "   _acry",
            "   0.03%"
           ],
           [
            "  _start",
            "  89.83%",
            " _start…",
            "   3.86%",
            " _starts",
            "   2.44%",
            "       ,",
            "   0.64%",
            "     _to",
            "   0.50%",
            "     _of",
            "   0.32%",
            "       .",
            "   0.26%",
            "   _with",
            "   0.18%",
            "   _from",
            "   0.17%",
            "     _in",
            "   0.15%"
           ],
           [
            "   _like",
            "  99.64%",
            "      \\n",
            "   0.07%",
            "    _the",
            "   0.06%",
            "    like",
            "   0.05%",
            "      _a",
            "   0.02%",
            "      _I",
            "   0.02%",
            "      _A",
            "   0.01%",
            "       -",
            "   0.01%",
            "      _\"",
            "   0.01%",
            "   _Like",
            "   0.01%"
           ],
           [
            "   _this",
            "  31.88%",
            "      \\n",
            "  26.44%",
            "       .",
            "   8.03%",
            "     _is",
            "   5.10%",
            "       ,",
            "   2.24%",
            "      _\"",
            "   2.17%",
            "      _I",
            "   1.40%",
            "   _This",
            "   0.88%",
            "       :",
            "   0.83%",
            "     _in",
            "   0.67%"
           ],
           [
            "    _and",
            "   7.65%",
            "    _the",
            "   6.94%",
            "      \\n",
            "   0.69%",
            "      _a",
            "   0.68%",
            "  _nanoc",
            "   0.53%",
            "     _he",
            "   0.49%",
            "   _then",
            "   0.47%",
            " _groups",
            "   0.45%",
            " _hydro…",
            "   0.42%",
            "      _I",
            "   0.42%"
           ],
           [
            "    _end",
            "  97.66%",
            "       ,",
            "   0.81%",
            "     _of",
            "   0.66%",
            "       .",
            "   0.35%",
            "    _the",
            "   0.10%",
            "     _to",
            "   0.09%",
            "   _with",
            "   0.05%",
            "     _in",
            "   0.04%",
            "     end",
            "   0.04%",
            "      \\n",
            "   0.04%"
           ],
           [
            "   _like",
            "  99.87%",
            "    like",
            "   0.09%",
            "      \\n",
            "   0.02%",
            "   _Like",
            "   0.00%",
            "    _the",
            "   0.00%",
            "      _I",
            "   0.00%",
            "       -",
            "   0.00%",
            "      _a",
            "   0.00%",
            "      _A",
            "   0.00%",
            "      _\"",
            "   0.00%"
           ],
           [
            "      \\n",
            "  34.21%",
            "   _that",
            "  17.44%",
            "     _is",
            "   3.70%",
            "      _M",
            "   3.39%",
            "      _\"",
            "   3.26%",
            "       .",
            "   3.23%",
            "      _I",
            "   2.00%",
            "      _H",
            "   1.30%",
            "       ,",
            "   1.29%",
            "      's",
            "   1.08%"
           ]
          ],
          [
           [
            "       I",
            "  93.53%",
            "      _I",
            "   1.12%",
            "       i",
            "   0.13%",
            "      'm",
            "   0.08%",
            "       \"",
            "   0.07%",
            "   _didn",
            "   0.06%",
            "      's",
            "   0.04%",
            "       ]",
            "   0.04%",
            "    _ion",
            "   0.04%",
            "      He",
            "   0.03%"
           ],
           [
            "  _start",
            "  78.58%",
            " _start…",
            "   5.50%",
            " _starts",
            "   4.71%",
            "     _to",
            "   1.39%",
            "       ,",
            "   0.96%",
            "     _of",
            "   0.65%",
            "    _the",
            "   0.59%",
            "  _Start",
            "   0.56%",
            "     _in",
            "   0.43%",
            "       .",
            "   0.37%"
           ],
           [
            "   _like",
            "  99.25%",
            "    _the",
            "   0.09%",
            "    like",
            "   0.09%",
            "      _a",
            "   0.05%",
            "      \\n",
            "   0.05%",
            "       -",
            "   0.04%",
            "   _Like",
            "   0.03%",
            "      _I",
            "   0.03%",
            "   _them",
            "   0.02%",
            "     _it",
            "   0.02%"
           ],
           [
            "      \\n",
            "  31.34%",
            "   _this",
            "  21.12%",
            "       .",
            "   8.08%",
            "     _is",
            "   6.24%",
            "       ,",
            "   3.73%",
            "       :",
            "   2.56%",
            "      _\"",
            "   1.73%",
            "      _(",
            "   1.23%",
            "   _This",
            "   0.81%",
            "     _in",
            "   0.80%"
           ],
           [
            "    _the",
            "   6.15%",
            "    _and",
            "   4.67%",
            "     _an",
            "   1.11%",
            "     _it",
            "   0.91%",
            "      _I",
            "   0.85%",
            "   _that",
            "   0.82%",
            " _hydro…",
            "   0.79%",
            "    _two",
            "   0.74%",
            "      _a",
            "   0.71%",
            "   _then",
            "   0.70%"
           ],
           [
            "    _end",
            "  96.03%",
            "     _of",
            "   0.92%",
            "       ,",
            "   0.45%",
            "       .",
            "   0.43%",
            "  _ended",
            "   0.34%",
            "     _to",
            "   0.26%",
            "    _the",
            "   0.25%",
            "   _with",
            "   0.24%",
            "     end",
            "   0.20%",
            "   _ends",
            "   0.07%"
           ],
           [
            "   _like",
            "  99.79%",
            "    like",
            "   0.06%",
            "      \\n",
            "   0.03%",
            "    _the",
            "   0.02%",
            "   _Like",
            "   0.01%",
            "       -",
            "   0.01%",
            "      _I",
            "   0.01%",
            "      _a",
            "   0.01%",
            "      _A",
            "   0.00%",
            "    _you",
            "   0.00%"
           ],
           [
            "      \\n",
            "  42.53%",
            "       .",
            "  16.34%",
            "       ,",
            "   8.40%",
            "   _that",
            "   5.17%",
            "     _is",
            "   4.29%",
            "      _M",
            "   2.15%",
            "      _\"",
            "   2.11%",
            "      _(",
            "   1.39%",
            "      __",
            "   0.97%",
            "       :",
            "   0.75%"
           ]
          ],
          [
           [
            "       I",
            "  32.24%",
            "      _I",
            "   2.40%",
            "       ]",
            "   1.27%",
            "       \"",
            "   1.10%",
            "       )",
            "   1.03%",
            "      ],",
            "   0.64%",
            "      ,\"",
            "   0.62%",
            "       ,",
            "   0.50%",
            "      \")",
            "   0.48%",
            "      ),",
            "   0.44%"
           ],
           [
            "  _start",
            "  87.52%",
            " _starts",
            "   4.85%",
            " _start…",
            "   4.00%",
            "     _to",
            "   0.33%",
            "       ,",
            "   0.28%",
            "  _Start",
            "   0.24%",
            "  _began",
            "   0.21%",
            "    _the",
            "   0.20%",
            "     _of",
            "   0.19%",
            "   start",
            "   0.16%"
           ],
           [
            "   _like",
            "  98.38%",
            "    like",
            "   0.33%",
            "   _Like",
            "   0.09%",
            "      _a",
            "   0.07%",
            "   _them",
            "   0.07%",
            "    _the",
            "   0.04%",
            "   _this",
            "   0.04%",
            "    _you",
            "   0.04%",
            "     _an",
            "   0.03%",
            "    Like",
            "   0.03%"
           ],
           [
            "      \\n",
            "  14.72%",
            "       :",
            "  11.04%",
            "   _this",
            "   6.28%",
            "     _is",
            "   5.31%",
            "       .",
            "   3.82%",
            "      _(",
            "   1.70%",
            "       ,",
            "   1.55%",
            "      _\"",
            "   1.27%",
            "      \":",
            "   1.09%",
            "      .\"",
            "   1.00%"
           ],
           [
            " _hydro…",
            "   2.37%",
            "    _the",
            "   2.30%",
            "    _and",
            "   1.96%",
            "     _it",
            "   1.86%",
            "   _then",
            "   1.66%",
            "    _you",
            "   1.47%",
            "    _two",
            "   1.18%",
            "      _I",
            "   0.93%",
            "     _an",
            "   0.92%",
            "   _this",
            "   0.51%"
           ],
           [
            "    _end",
            "  85.80%",
            "     _of",
            "   2.66%",
            "    _the",
            "   1.75%",
            "       .",
            "   1.56%",
            "  _ended",
            "   1.26%",
            "   _with",
            "   1.22%",
            "   _ends",
            "   0.72%",
            "       ,",
            "   0.65%",
            "     _to",
            "   0.37%",
            "      \\n",
            "   0.20%"
           ],
           [
            "   _like",
            "  99.32%",
            "    like",
            "   0.33%",
            "   _Like",
            "   0.03%",
            "    _the",
            "   0.02%",
            "    _you",
            "   0.02%",
            "      \\n",
            "   0.01%",
            "   _they",
            "   0.01%",
            "    Like",
            "   0.01%",
            "   _them",
            "   0.01%",
            "      _a",
            "   0.01%"
           ],
           [
            "       .",
            "  56.13%",
            "      \\n",
            "  12.72%",
            "       ,",
            "   9.71%",
            "   _that",
            "   4.36%",
            "      .\"",
            "   1.73%",
            "       :",
            "   1.21%",
            "      _(",
            "   1.03%",
            "     _is",
            "   1.02%",
            "     _in",
            "   0.65%",
            "       ;",
            "   0.58%"
           ]
          ],
          [
           [
            "       I",
            "  26.19%",
            "      _I",
            "   2.68%",
            "       \"",
            "   1.69%",
            "       )",
            "   1.56%",
            "       ]",
            "   1.55%",
            "       ,",
            "   1.15%",
            "      ,\"",
            "   0.65%",
            "      ],",
            "   0.59%",
            "       .",
            "   0.56%",
            "      ),",
            "   0.45%"
           ],
           [
            "  _start",
            "  80.21%",
            " _starts",
            "   6.96%",
            " _start…",
            "   5.59%",
            "     _to",
            "   0.65%",
            "       ,",
            "   0.43%",
            "   _with",
            "   0.39%",
            "  _began",
            "   0.35%",
            "    _the",
            "   0.33%",
            " _begins",
            "   0.28%",
            "  _Start",
            "   0.28%"
           ],
           [
            "   _like",
            "  97.16%",
            "   _Like",
            "   0.17%",
            "    like",
            "   0.16%",
            "      _a",
            "   0.09%",
            "   _this",
            "   0.09%",
            "    _you",
            "   0.08%",
            "   _kind",
            "   0.07%",
            "    _the",
            "   0.07%",
            "   _them",
            "   0.06%",
            " _before",
            "   0.04%"
           ],
           [
            "       :",
            "  10.88%",
            "   _this",
            "   8.41%",
            "      \\n",
            "   7.13%",
            "     _is",
            "   6.26%",
            "       .",
            "   5.44%",
            "   _with",
            "   2.47%",
            "      \":",
            "   1.92%",
            "       ,",
            "   1.46%",
            "    _are",
            "   1.43%",
            "      _I",
            "   1.38%"
           ],
           [
            "      _I",
            "  24.15%",
            "   _then",
            "   8.24%",
            "     _we",
            "   3.93%",
            "    _you",
            "   2.28%",
            "     _it",
            "   1.30%",
            "    _non",
            "   1.01%",
            "    _the",
            "   0.90%",
            "       I",
            "   0.74%",
            "     _is",
            "   0.59%",
            "      _A",
            "   0.53%"
           ],
           [
            "    _end",
            "  73.15%",
            "   _ends",
            "   4.53%",
            "    _the",
            "   3.05%",
            "  _ended",
            "   2.54%",
            "     _of",
            "   1.99%",
            "   _with",
            "   1.92%",
            "       .",
            "   1.13%",
            "     _to",
            "   0.86%",
            "      \\n",
            "   0.58%",
            "       ,",
            "   0.53%"
           ],
           [
            "   _like",
            "  98.50%",
            "    like",
            "   0.27%",
            "   _Like",
            "   0.08%",
            "   _they",
            "   0.04%",
            "    _you",
            "   0.04%",
            "      _I",
            "   0.03%",
            "    _the",
            "   0.03%",
            "      _\\",
            "   0.03%",
            "      _a",
            "   0.02%",
            "       -",
            "   0.02%"
           ],
           [
            "       .",
            "  45.80%",
            "      \\n",
            "  12.16%",
            "      .\"",
            "   4.06%",
            "       ,",
            "   3.80%",
            "      _(",
            "   2.82%",
            "      _\\",
            "   2.18%",
            "     _is",
            "   2.02%",
            "       :",
            "   1.58%",
            "      _I",
            "   1.40%",
            "   _that",
            "   1.07%"
           ]
          ],
          [
           [
            "       I",
            "   9.03%",
            "       )",
            "   2.06%",
            "       \"",
            "   2.04%",
            "      _I",
            "   1.86%",
            "       ,",
            "   1.67%",
            "       ]",
            "   1.39%",
            "       .",
            "   0.98%",
            "       :",
            "   0.61%",
            "      ?\"",
            "   0.58%",
            "      \\n",
            "   0.51%"
           ],
           [
            "  _start",
            "  70.75%",
            " _start…",
            "   7.62%",
            " _starts",
            "   6.76%",
            "   _with",
            "   0.95%",
            "  _began",
            "   0.68%",
            "     _to",
            "   0.61%",
            " _begins",
            "   0.58%",
            "     _up",
            "   0.48%",
            "  _Start",
            "   0.37%",
            "    _the",
            "   0.36%"
           ],
           [
            "   _like",
            "  96.02%",
            "   _Like",
            "   0.29%",
            "   _kind",
            "   0.23%",
            "    like",
            "   0.19%",
            "      _a",
            "   0.18%",
            " _semic…",
            "   0.09%",
            "     _an",
            "   0.09%",
            "    _the",
            "   0.08%",
            "   _this",
            "   0.08%",
            " _before",
            "   0.08%"
           ],
           [
            "       :",
            "  45.09%",
            "       .",
            "  14.43%",
            "      \\n",
            "   3.32%",
            "     _is",
            "   3.26%",
            "       ,",
            "   2.14%",
            "   _with",
            "   2.07%",
            "      \":",
            "   1.70%",
            "      _I",
            "   1.11%",
            "      .\"",
            "   0.77%",
            "       ;",
            "   0.76%"
           ],
           [
            "      _I",
            "  37.05%",
            "   _then",
            "   7.30%",
            "       I",
            "   2.16%",
            "     _we",
            "   1.62%",
            "     _it",
            "   1.33%",
            "     _my",
            "   1.16%",
            "    _non",
            "   1.07%",
            "    _the",
            "   0.76%",
            "      \\n",
            "   0.68%",
            "       /",
            "   0.64%"
           ],
           [
            "    _end",
            "  58.37%",
            "   _with",
            "   5.27%",
            "    _the",
            "   3.59%",
            "       .",
            "   2.06%",
            "   _ends",
            "   2.04%",
            "      _P",
            "   1.82%",
            "  _ended",
            "   1.58%",
            " _result",
            "   1.47%",
            "     _of",
            "   1.36%",
            "       ,",
            "   1.19%"
           ],
           [
            "   _like",
            "  98.19%",
            "    like",
            "   0.19%",
            "   _Like",
            "   0.18%",
            "      _I",
            "   0.10%",
            "    _the",
            "   0.08%",
            "   _that",
            "   0.07%",
            "      _a",
            "   0.06%",
            "   _this",
            "   0.05%",
            "      \\n",
            "   0.05%",
            "   _they",
            "   0.05%"
           ],
           [
            "       .",
            "  43.09%",
            "       :",
            "  11.29%",
            "      \\n",
            "   8.03%",
            "       ,",
            "   4.77%",
            "      .\"",
            "   2.89%",
            "     _is",
            "   1.78%",
            "      _\\",
            "   1.17%",
            "      _(",
            "   1.11%",
            "      _I",
            "   0.98%",
            "       ;",
            "   0.85%"
           ]
          ],
          [
           [
            "       I",
            "   6.97%",
            "       \"",
            "   1.05%",
            "      _I",
            "   1.01%",
            "       )",
            "   0.89%",
            "       ,",
            "   0.83%",
            "       .",
            "   0.68%",
            "       ]",
            "   0.57%",
            "  ICENSE",
            "   0.51%",
            "      ?\"",
            "   0.50%",
            "      ),",
            "   0.44%"
           ],
           [
            "  _start",
            "  43.93%",
            " _start…",
            "  11.72%",
            " _starts",
            "   7.39%",
            "   _with",
            "   1.84%",
            "     _to",
            "   1.67%",
            "    _the",
            "   0.92%",
            " _begins",
            "   0.89%",
            "   _from",
            "   0.82%",
            "  _began",
            "   0.78%",
            "     _up",
            "   0.64%"
           ],
           [
            "   _like",
            "  49.16%",
            "      _a",
            "   9.06%",
            "   _this",
            "   3.09%",
            " _semic…",
            "   2.70%",
            "     _an",
            "   2.62%",
            " _before",
            "   2.14%",
            "   _that",
            "   1.67%",
            "   _with",
            "   1.41%",
            "     _as",
            "   1.33%",
            "    _the",
            "   1.15%"
           ],
           [
            "       :",
            "  75.12%",
            "       .",
            "   6.75%",
            "      \\n",
            "   2.61%",
            "   _with",
            "   1.13%",
            "     _is",
            "   1.09%",
            "      \":",
            "   0.99%",
            "       ,",
            "   0.95%",
            "      _I",
            "   0.42%",
            " _becau…",
            "   0.42%",
            "       ?",
            "   0.41%"
           ],
           [
            "      _I",
            "  37.60%",
            "   _then",
            "   9.08%",
            "       I",
            "   1.55%",
            "    _the",
            "   1.12%",
            "       /",
            "   0.84%",
            "     _we",
            "   0.80%",
            "      \\n",
            "   0.67%",
            "     _go",
            "   0.67%",
            "     _my",
            "   0.66%",
            "     _is",
            "   0.65%"
           ],
           [
            "    _end",
            "  27.19%",
            "   _with",
            "  25.84%",
            " _result",
            "   3.49%",
            "  _ended",
            "   2.56%",
            "   _ends",
            "   2.13%",
            "     _in",
            "   1.78%",
            "       .",
            "   1.68%",
            "    _the",
            "   1.28%",
            "     _to",
            "   1.18%",
            "     _it",
            "   1.01%"
           ],
           [
            "   _like",
            "  18.16%",
            "   _with",
            "  11.75%",
            "   _that",
            "  10.61%",
            "      _a",
            "   8.23%",
            " _produ…",
            "   4.52%",
            "     _in",
            "   4.50%",
            "      _I",
            "   3.95%",
            "   _this",
            "   2.44%",
            " _produ…",
            "   2.05%",
            "    _the",
            "   1.98%"
           ],
           [
            "       .",
            "  57.77%",
            "       :",
            "   7.66%",
            "      \\n",
            "   6.32%",
            "       ,",
            "   5.66%",
            "     _is",
            "   2.03%",
            "      .\"",
            "   1.57%",
            "      _(",
            "   1.38%",
            "       ;",
            "   0.70%",
            "      _I",
            "   0.62%",
            "      ,\"",
            "   0.60%"
           ]
          ],
          [
           [
            "       I",
            "   3.46%",
            "       \"",
            "   1.45%",
            "       )",
            "   1.08%",
            "       ,",
            "   0.95%",
            "       .",
            "   0.89%",
            "       ]",
            "   0.81%",
            "      _I",
            "   0.63%",
            "      ),",
            "   0.61%",
            "      }\\",
            "   0.59%",
            "      \\n",
            "   0.45%"
           ],
           [
            "  _start",
            "  14.46%",
            " _start…",
            "   7.59%",
            "   _with",
            "   6.46%",
            "     _to",
            "   3.09%",
            " _starts",
            "   2.42%",
            "       ,",
            "   1.63%",
            "   _from",
            "   1.58%",
            "    _the",
            "   1.54%",
            "      \\n",
            "   1.05%",
            "     _of",
            "   1.05%"
           ],
           [
            "   _like",
            "  29.27%",
            "      _a",
            "  12.45%",
            "   _this",
            "  12.33%",
            "     _an",
            "   4.00%",
            "   _with",
            "   2.91%",
            "     _in",
            "   2.08%",
            "    _the",
            "   1.78%",
            "   _that",
            "   1.60%",
            "       ,",
            "   1.55%",
            "     _as",
            "   1.43%"
           ],
           [
            "       :",
            "  83.80%",
            "       .",
            "   3.06%",
            "      \":",
            "   1.95%",
            "      \\n",
            "   0.92%",
            "       ,",
            "   0.82%",
            "     _is",
            "   0.69%",
            "   _with",
            "   0.49%",
            "      _:",
            "   0.29%",
            "      ):",
            "   0.24%",
            "   _this",
            "   0.18%"
           ],
           [
            "      _I",
            "  44.22%",
            "   _then",
            "   3.77%",
            "    _the",
            "   1.80%",
            "  _after",
            "   1.58%",
            "    _you",
            "   0.96%",
            "       I",
            "   0.95%",
            "     _my",
            "   0.76%",
            "     _it",
            "   0.75%",
            "     _we",
            "   0.73%",
            "       /",
            "   0.63%"
           ],
           [
            "    _end",
            "  17.94%",
            "    _out",
            "  15.42%",
            "   _like",
            "  10.36%",
            "  _ended",
            "  10.35%",
            "   _ends",
            "   3.95%",
            "   _with",
            "   3.72%",
            "     _as",
            "   2.18%",
            " _result",
            "   2.00%",
            "     _in",
            "   1.77%",
            " _produ…",
            "   1.73%"
           ],
           [
            "   _this",
            "  99.64%",
            "   _This",
            "   0.10%",
            "    this",
            "   0.08%",
            "  _these",
            "   0.05%",
            "   _like",
            "   0.04%",
            "   _that",
            "   0.03%",
            "    This",
            "   0.01%",
            "     _in",
            "   0.01%",
            "   _with",
            "   0.01%",
            "       ,",
            "   0.00%"
           ],
           [
            "       .",
            "  41.02%",
            "       ,",
            "  16.15%",
            "      \\n",
            "   9.33%",
            "       :",
            "   8.35%",
            "      _(",
            "   3.00%",
            "     _is",
            "   1.23%",
            "      _\\",
            "   1.10%",
            "       ;",
            "   1.05%",
            "      ,\"",
            "   0.90%",
            "      's",
            "   0.75%"
           ]
          ],
          [
           [
            "       I",
            "   3.75%",
            "       ,",
            "   2.02%",
            "       .",
            "   1.45%",
            "       \"",
            "   1.18%",
            "      _I",
            "   1.14%",
            "      \\n",
            "   0.50%",
            "      }\\",
            "   0.50%",
            "       ]",
            "   0.47%",
            "       )",
            "   0.45%",
            "       :",
            "   0.41%"
           ],
           [
            "   _with",
            "   6.28%",
            "  _start",
            "   5.70%",
            " _start…",
            "   4.48%",
            "     _to",
            "   2.42%",
            " _starts",
            "   2.22%",
            "       ,",
            "   1.30%",
            " _linear",
            "   1.18%",
            "    _off",
            "   1.08%",
            "     _at",
            "   1.07%",
            "     _of",
            "   1.06%"
           ],
           [
            "   _this",
            "  70.48%",
            "   _that",
            "   4.78%",
            "      _a",
            "   4.42%",
            "     _an",
            "   1.51%",
            "    _the",
            "   0.90%",
            "       ,",
            "   0.90%",
            "     _in",
            "   0.88%",
            "      _I",
            "   0.53%",
            "   _This",
            "   0.46%",
            "       -",
            "   0.43%"
           ],
           [
            "       :",
            "  85.08%",
            "      \":",
            "   6.72%",
            "       ,",
            "   0.92%",
            "       .",
            "   0.59%",
            "      ):",
            "   0.54%",
            "      _:",
            "   0.48%",
            "      :\\",
            "   0.40%",
            "      \\n",
            "   0.33%",
            "    _$$\\",
            "   0.17%",
            "     :**",
            "   0.15%"
           ],
           [
            "      _I",
            "  31.56%",
            "     _it",
            "   3.01%",
            "    _the",
            "   2.46%",
            "  _after",
            "   2.35%",
            "   _then",
            "   1.41%",
            "  _ended",
            "   1.38%",
            "       ,",
            "   1.13%",
            "     _my",
            "   1.07%",
            "   _ends",
            "   1.02%",
            "     _as",
            "   0.85%"
           ],
           [
            "   _like",
            "  73.77%",
            "    _end",
            "   8.22%",
            "  _ended",
            "   3.05%",
            "   _with",
            "   1.98%",
            "   _ends",
            "   1.33%",
            "    _out",
            "   0.88%",
            "     _as",
            "   0.79%",
            "     _in",
            "   0.54%",
            " _produ…",
            "   0.40%",
            " _ending",
            "   0.33%"
           ],
           [
            "   _this",
            "  99.91%",
            "    this",
            "   0.08%",
            "   _This",
            "   0.01%",
            "  _these",
            "   0.00%",
            "    This",
            "   0.00%",
            "   _THIS",
            "   0.00%",
            "   _that",
            "   0.00%",
            " _questo",
            "   0.00%",
            "    THIS",
            "   0.00%",
            "  _These",
            "   0.00%"
           ],
           [
            "       :",
            "  31.07%",
            "       .",
            "  25.85%",
            "       ,",
            "  18.72%",
            "      _(",
            "   2.42%",
            "      \\n",
            "   1.35%",
            "      _\\",
            "   1.17%",
            "      \":",
            "   0.98%",
            "      .\"",
            "   0.73%",
            "      _:",
            "   0.46%",
            "       \\",
            "   0.38%"
           ]
          ],
          [
           [
            "       .",
            "   7.19%",
            "       I",
            "   5.80%",
            "      'm",
            "   2.88%",
            "       ,",
            "   2.12%",
            "    _was",
            "   1.83%",
            "      _I",
            "   1.68%",
            "     âĢĻ",
            "   1.05%",
            "      IS",
            "   0.90%",
            "   _have",
            "   0.75%",
            "       \\",
            "   0.73%"
           ],
           [
            "   _with",
            "  18.88%",
            "     _to",
            "   5.50%",
            "    _off",
            "   4.38%",
            "    _out",
            "   2.14%",
            "       ,",
            "   1.24%",
            "     _my",
            "   1.08%",
            "  _fires",
            "   1.04%",
            "    _the",
            "   0.80%",
            "       .",
            "   0.71%",
            " _presu…",
            "   0.69%"
           ],
           [
            "   _this",
            "  83.71%",
            "      _a",
            "   7.08%",
            "   _that",
            "   5.82%",
            "     _an",
            "   0.76%",
            "       ,",
            "   0.27%",
            "    _the",
            "   0.22%",
            "      _I",
            "   0.12%",
            "   _This",
            "   0.11%",
            "    _you",
            "   0.08%",
            "  _clock",
            "   0.06%"
           ],
           [
            "       :",
            "  91.78%",
            "       ,",
            "   4.20%",
            "       .",
            "   2.00%",
            "      _(",
            "   0.15%",
            "      \\n",
            "   0.14%",
            "     _is",
            "   0.08%",
            "     _in",
            "   0.06%",
            "    _and",
            "   0.06%",
            "      _:",
            "   0.05%",
            "     _at",
            "   0.05%"
           ],
           [
            "      _I",
            "  40.42%",
            "     _it",
            "  12.12%",
            " _proce…",
            "   2.39%",
            "    _the",
            "   2.10%",
            "   _then",
            "   1.58%",
            "       I",
            "   1.13%",
            "  _after",
            "   1.08%",
            "    _try",
            "   1.06%",
            "     _go",
            "   0.96%",
            "  _ended",
            "   0.90%"
           ],
           [
            "   _like",
            "  99.92%",
            "   _with",
            "   0.03%",
            "     _up",
            "   0.01%",
            "   _Like",
            "   0.01%",
            "     _as",
            "   0.00%",
            "     _in",
            "   0.00%",
            "  _comme",
            "   0.00%",
            "    Like",
            "   0.00%",
            "  _after",
            "   0.00%",
            " _predi…",
            "   0.00%"
           ],
           [
            "   _this",
            "  99.98%",
            "    this",
            "   0.01%",
            "  _these",
            "   0.00%",
            "   _that",
            "   0.00%",
            "   _This",
            "   0.00%",
            "   _THIS",
            "   0.00%",
            "    This",
            "   0.00%",
            "    THIS",
            "   0.00%",
            " _Î±ÏħÏĦ",
            "   0.00%",
            " _questo",
            "   0.00%"
           ],
           [
            "       :",
            "  56.08%",
            "       .",
            "  21.91%",
            "       ,",
            "  16.79%",
            "      _(",
            "   1.18%",
            "      \\n",
            "   0.30%",
            "    _and",
            "   0.19%",
            "     _in",
            "   0.17%",
            " _before",
            "   0.16%",
            "      _:",
            "   0.12%",
            "     ...",
            "   0.11%"
           ]
          ],
          [
           [
            "      'm",
            "  13.13%",
            "   _have",
            "   4.55%",
            "    _was",
            "   4.26%",
            "     _am",
            "   3.13%",
            "  _think",
            "   3.08%",
            "    _don",
            "   2.42%",
            "    _can",
            "   1.69%",
            "     'll",
            "   1.42%",
            "  _would",
            "   1.07%",
            "    _got",
            "   1.07%"
           ],
           [
            "   _with",
            "  27.02%",
            "     _to",
            "  10.71%",
            "     _my",
            "   4.90%",
            "    _the",
            "   2.65%",
            "    _off",
            "   2.12%",
            "   _from",
            "   1.83%",
            "      _a",
            "   1.57%",
            "    _out",
            "   1.38%",
            "       ,",
            "   1.31%",
            "     _by",
            "   1.20%"
           ],
           [
            "   _this",
            "  65.64%",
            "   _that",
            "  12.75%",
            "      _a",
            "   6.13%",
            "    _you",
            "   1.14%",
            "     _an",
            "   1.10%",
            "    _the",
            "   0.54%",
            "     _it",
            "   0.53%",
            "      _I",
            "   0.53%",
            "       ,",
            "   0.47%",
            "     _so",
            "   0.27%"
           ],
           [
            "       :",
            "  51.01%",
            "       ,",
            "  16.43%",
            "       .",
            "  13.50%",
            "      \\n",
            "   1.46%",
            "    _and",
            "   1.32%",
            "      .\"",
            "   0.89%",
            "       ;",
            "   0.72%",
            "      _(",
            "   0.62%",
            "      ,\"",
            "   0.58%",
            "   _with",
            "   0.49%"
           ],
           [
            "      _I",
            "  19.85%",
            "     _it",
            "  19.46%",
            "   _then",
            "   4.44%",
            "    _you",
            "   3.45%",
            "    _the",
            "   2.85%",
            "    _get",
            "   1.56%",
            "     _go",
            "   1.54%",
            "    _end",
            "   1.28%",
            "   _when",
            "   1.27%",
            "  _after",
            "   1.08%"
           ],
           [
            "   _like",
            "  96.46%",
            "     _up",
            "   1.52%",
            "   _with",
            "   0.79%",
            "     _in",
            "   0.27%",
            "     _as",
            "   0.24%",
            "     _at",
            "   0.09%",
            "    _the",
            "   0.08%",
            "     _it",
            "   0.04%",
            "     _on",
            "   0.02%",
            "  _after",
            "   0.02%"
           ],
           [
            "   _this",
            "  98.84%",
            "   _that",
            "   1.00%",
            "  _these",
            "   0.11%",
            "   _THIS",
            "   0.01%",
            "    this",
            "   0.01%",
            "   _This",
            "   0.01%",
            "    _the",
            "   0.00%",
            "   _THAT",
            "   0.00%",
            "   _here",
            "   0.00%",
            "     _it",
            "   0.00%"
           ],
           [
            "       .",
            "  52.72%",
            "       ,",
            "  21.89%",
            "       :",
            "  12.69%",
            "      \\n",
            "   1.26%",
            "    _and",
            "   1.14%",
            "      _(",
            "   1.04%",
            "      .\"",
            "   0.98%",
            "    _but",
            "   0.43%",
            "       ;",
            "   0.40%",
            "   _with",
            "   0.38%"
           ]
          ],
          [
           [
            "      'm",
            "   8.20%",
            "   _have",
            "   4.82%",
            "     _am",
            "   3.55%",
            "    _was",
            "   3.36%",
            "  _think",
            "   2.98%",
            "    _don",
            "   2.68%",
            "    _can",
            "   2.25%",
            "       .",
            "   2.02%",
            "     've",
            "   2.00%",
            "   _will",
            "   1.52%"
           ],
           [
            "     _to",
            "  13.31%",
            "   _with",
            "  12.41%",
            "    _the",
            "   3.99%",
            "    _out",
            "   3.74%",
            "    _off",
            "   2.98%",
            "     _my",
            "   2.77%",
            "      _a",
            "   2.48%",
            "   _from",
            "   1.75%",
            " _think…",
            "   1.75%",
            "     _at",
            "   1.57%"
           ],
           [
            "   _this",
            "  42.04%",
            "   _that",
            "  11.74%",
            "      _a",
            "  10.50%",
            "      _I",
            "   3.59%",
            "    _you",
            "   1.98%",
            "       ,",
            "   1.92%",
            "    _the",
            "   1.79%",
            "     _an",
            "   1.71%",
            "     _it",
            "   1.33%",
            "      \\n",
            "   0.77%"
           ],
           [
            "       :",
            "  32.09%",
            "       ,",
            "  10.34%",
            "       .",
            "  10.16%",
            "      .\"",
            "   4.01%",
            "      \\n",
            "   3.33%",
            "       \"",
            "   2.58%",
            "     ...",
            "   2.36%",
            "      ,\"",
            "   2.15%",
            "    _and",
            "   2.06%",
            "    ...\"",
            "   1.29%"
           ],
           [
            "      _I",
            "  19.52%",
            "     _it",
            "  11.89%",
            "   _then",
            "   3.53%",
            "    _the",
            "   2.87%",
            "    _you",
            "   2.68%",
            "    _end",
            "   2.11%",
            "    _get",
            "   1.81%",
            "     _my",
            "   1.39%",
            "   _have",
            "   1.29%",
            "    _don",
            "   1.20%"
           ],
           [
            "   _like",
            "  76.06%",
            "     _up",
            "  10.99%",
            "   _with",
            "   2.72%",
            "     _in",
            "   1.74%",
            "     _as",
            "   1.38%",
            "    _the",
            "   0.67%",
            "     _at",
            "   0.44%",
            "     _it",
            "   0.33%",
            "     _on",
            "   0.31%",
            "      \\n",
            "   0.22%"
           ],
           [
            "   _this",
            "  86.03%",
            "   _that",
            "  10.40%",
            "    _the",
            "   0.36%",
            "      \\n",
            "   0.33%",
            "      _I",
            "   0.21%",
            "     _it",
            "   0.14%",
            "      _a",
            "   0.14%",
            "  _these",
            "   0.14%",
            "       :",
            "   0.10%",
            "    _you",
            "   0.10%"
           ],
           [
            "       .",
            "  24.79%",
            "       :",
            "  11.96%",
            "       ,",
            "  11.62%",
            "      .\"",
            "   5.02%",
            "      \\n",
            "   3.84%",
            "      ,\"",
            "   2.38%",
            "       \"",
            "   2.27%",
            "     ...",
            "   2.19%",
            "    _and",
            "   2.12%",
            "       ?",
            "   1.22%"
           ]
          ]
         ],
         "hoverlabel": {
          "bgcolor": "rgb(42, 42, 50)",
          "font": {
           "family": "Monospace"
          }
         },
         "hovertemplate": "%{customdata[0]}%{customdata[1]}<br>%{customdata[2]}%{customdata[3]}<br>%{customdata[4]}%{customdata[5]}<br>%{customdata[6]}%{customdata[7]}<br>%{customdata[8]}%{customdata[9]}<br>%{customdata[10]}%{customdata[11]}<br>%{customdata[12]}%{customdata[13]}<br>%{customdata[14]}%{customdata[15]}<br>%{customdata[16]}%{customdata[17]}<br>%{customdata[18]}%{customdata[19]}<br><extra></extra>",
         "text": [
          [
           "I",
           "_start",
           "_like",
           "_this",
           "_and",
           "_end",
           "_like",
           "_that"
          ],
          [
           "I",
           "_start",
           "_like",
           "_this",
           "_the",
           "_end",
           "_like",
           "_that"
          ],
          [
           "I",
           "_start",
           "_like",
           "_this",
           "_and",
           "_end",
           "_like",
           "\\n"
          ],
          [
           "I",
           "_start",
           "_like",
           "\\n",
           "_the",
           "_end",
           "_like",
           "\\n"
          ],
          [
           "I",
           "_start",
           "_like",
           "\\n",
           "_hydro…",
           "_end",
           "_like",
           "."
          ],
          [
           "I",
           "_start",
           "_like",
           ":",
           "_I",
           "_end",
           "_like",
           "."
          ],
          [
           "I",
           "_start",
           "_like",
           ":",
           "_I",
           "_end",
           "_like",
           "."
          ],
          [
           "I",
           "_start",
           "_like",
           ":",
           "_I",
           "_end",
           "_like",
           "."
          ],
          [
           "I",
           "_start",
           "_like",
           ":",
           "_I",
           "_end",
           "_this",
           "."
          ],
          [
           "I",
           "_with",
           "_this",
           ":",
           "_I",
           "_like",
           "_this",
           ":"
          ],
          [
           ".",
           "_with",
           "_this",
           ":",
           "_I",
           "_like",
           "_this",
           ":"
          ],
          [
           "'m",
           "_with",
           "_this",
           ":",
           "_I",
           "_like",
           "_this",
           "."
          ],
          [
           "'m",
           "_to",
           "_this",
           ":",
           "_I",
           "_like",
           "_this",
           "."
          ]
         ],
         "texttemplate": "<b>%{text}</b>",
         "type": "heatmap",
         "x": [
          "I",
          "_start‌",
          "_like‌‌",
          "_this‌‌‌",
          "_and‌‌‌‌",
          "_end‌‌‌‌‌",
          "_like‌‌‌‌‌‌",
          "_that‌‌‌‌‌‌‌"
         ],
         "y": [
          "0",
          "2",
          "4",
          "6",
          "8",
          "10",
          "12",
          "14",
          "16",
          "18",
          "20",
          "22",
          "output"
         ],
         "z": [
          [
           14.137417793273926,
           21.162904739379883,
           23.65903091430664,
           10.286994934082031,
           8.483577728271484,
           25.19957160949707,
           22.718416213989258,
           12.986601829528809
          ],
          [
           13.910375595092773,
           13.224472999572754,
           13.798221588134766,
           8.142799377441406,
           8.77849292755127,
           20.67465591430664,
           14.403210639953613,
           11.025398254394531
          ],
          [
           13.137020111083984,
           10.822519302368164,
           11.925010681152344,
           5.518318176269531,
           8.911728858947754,
           16.25952911376953,
           14.462224006652832,
           10.924474716186523
          ],
          [
           12.07330322265625,
           8.973788261413574,
           9.000492095947266,
           5.492956638336182,
           8.692821502685547,
           12.53132438659668,
           11.619693756103516,
           11.900412559509277
          ],
          [
           9.223348617553711,
           9.469036102294922,
           7.880857944488525,
           6.901638031005859,
           9.58938217163086,
           10.105565071105957,
           11.348639488220215,
           9.916768074035645
          ],
          [
           8.866094589233398,
           8.66965389251709,
           7.026653289794922,
           6.032843589782715,
           8.439242362976074,
           9.521697998046875,
           9.56270694732666,
           7.713833332061768
          ],
          [
           8.352559089660645,
           7.578244686126709,
           7.1612725257873535,
           6.715270042419434,
           7.523947238922119,
           8.44230842590332,
           7.272179126739502,
           8.910846710205078
          ],
          [
           8.580023765563965,
           7.081079006195068,
           3.476092576980591,
           8.022378921508789,
           6.553203582763672,
           6.610237121582031,
           2.2438032627105713,
           8.983626365661621
          ],
          [
           8.377762794494629,
           6.2774338722229,
           2.0928196907043457,
           7.680146217346191,
           6.060571193695068,
           2.267261028289795,
           8.006521224975586,
           8.358320236206055
          ],
          [
           7.829101085662842,
           7.971205711364746,
           0.34982019662857056,
           7.948500156402588,
           5.430352687835693,
           0.304222971200943,
           14.3410062789917,
           9.89102840423584
          ],
          [
           7.873161315917969,
           7.459747791290283,
           0.17784152925014496,
           7.463670253753662,
           4.775300025939941,
           0.0007793250260874629,
           10.31274700164795,
           12.720138549804688
          ],
          [
           8.820597648620605,
           5.981877326965332,
           0.42095130681991577,
           4.325878620147705,
           4.356769561767578,
           0.03599948063492775,
           4.607995986938477,
           10.07131290435791
          ],
          [
           7.81534481048584,
           6.207776069641113,
           0.8664448857307434,
           3.8807713985443115,
           3.8602347373962402,
           0.27360716462135315,
           2.263324737548828,
           7.15303897857666
          ]
         ],
         "zmax": 25.19957160949707,
         "zmin": 0.0007793250260874629
        }
       ],
       "layout": {
        "template": {
         "data": {
          "bar": [
           {
            "error_x": {
             "color": "#2a3f5f"
            },
            "error_y": {
             "color": "#2a3f5f"
            },
            "marker": {
             "line": {
              "color": "#E5ECF6",
              "width": 0.5
             },
             "pattern": {
              "fillmode": "overlay",
              "size": 10,
              "solidity": 0.2
             }
            },
            "type": "bar"
           }
          ],
          "barpolar": [
           {
            "marker": {
             "line": {
              "color": "#E5ECF6",
              "width": 0.5
             },
             "pattern": {
              "fillmode": "overlay",
              "size": 10,
              "solidity": 0.2
             }
            },
            "type": "barpolar"
           }
          ],
          "carpet": [
           {
            "aaxis": {
             "endlinecolor": "#2a3f5f",
             "gridcolor": "white",
             "linecolor": "white",
             "minorgridcolor": "white",
             "startlinecolor": "#2a3f5f"
            },
            "baxis": {
             "endlinecolor": "#2a3f5f",
             "gridcolor": "white",
             "linecolor": "white",
             "minorgridcolor": "white",
             "startlinecolor": "#2a3f5f"
            },
            "type": "carpet"
           }
          ],
          "choropleth": [
           {
            "colorbar": {
             "outlinewidth": 0,
             "ticks": ""
            },
            "type": "choropleth"
           }
          ],
          "contour": [
           {
            "colorbar": {
             "outlinewidth": 0,
             "ticks": ""
            },
            "colorscale": [
             [
              0,
              "#0d0887"
             ],
             [
              0.1111111111111111,
              "#46039f"
             ],
             [
              0.2222222222222222,
              "#7201a8"
             ],
             [
              0.3333333333333333,
              "#9c179e"
             ],
             [
              0.4444444444444444,
              "#bd3786"
             ],
             [
              0.5555555555555556,
              "#d8576b"
             ],
             [
              0.6666666666666666,
              "#ed7953"
             ],
             [
              0.7777777777777778,
              "#fb9f3a"
             ],
             [
              0.8888888888888888,
              "#fdca26"
             ],
             [
              1,
              "#f0f921"
             ]
            ],
            "type": "contour"
           }
          ],
          "contourcarpet": [
           {
            "colorbar": {
             "outlinewidth": 0,
             "ticks": ""
            },
            "type": "contourcarpet"
           }
          ],
          "heatmap": [
           {
            "colorbar": {
             "outlinewidth": 0,
             "ticks": ""
            },
            "colorscale": [
             [
              0,
              "#0d0887"
             ],
             [
              0.1111111111111111,
              "#46039f"
             ],
             [
              0.2222222222222222,
              "#7201a8"
             ],
             [
              0.3333333333333333,
              "#9c179e"
             ],
             [
              0.4444444444444444,
              "#bd3786"
             ],
             [
              0.5555555555555556,
              "#d8576b"
             ],
             [
              0.6666666666666666,
              "#ed7953"
             ],
             [
              0.7777777777777778,
              "#fb9f3a"
             ],
             [
              0.8888888888888888,
              "#fdca26"
             ],
             [
              1,
              "#f0f921"
             ]
            ],
            "type": "heatmap"
           }
          ],
          "heatmapgl": [
           {
            "colorbar": {
             "outlinewidth": 0,
             "ticks": ""
            },
            "colorscale": [
             [
              0,
              "#0d0887"
             ],
             [
              0.1111111111111111,
              "#46039f"
             ],
             [
              0.2222222222222222,
              "#7201a8"
             ],
             [
              0.3333333333333333,
              "#9c179e"
             ],
             [
              0.4444444444444444,
              "#bd3786"
             ],
             [
              0.5555555555555556,
              "#d8576b"
             ],
             [
              0.6666666666666666,
              "#ed7953"
             ],
             [
              0.7777777777777778,
              "#fb9f3a"
             ],
             [
              0.8888888888888888,
              "#fdca26"
             ],
             [
              1,
              "#f0f921"
             ]
            ],
            "type": "heatmapgl"
           }
          ],
          "histogram": [
           {
            "marker": {
             "pattern": {
              "fillmode": "overlay",
              "size": 10,
              "solidity": 0.2
             }
            },
            "type": "histogram"
           }
          ],
          "histogram2d": [
           {
            "colorbar": {
             "outlinewidth": 0,
             "ticks": ""
            },
            "colorscale": [
             [
              0,
              "#0d0887"
             ],
             [
              0.1111111111111111,
              "#46039f"
             ],
             [
              0.2222222222222222,
              "#7201a8"
             ],
             [
              0.3333333333333333,
              "#9c179e"
             ],
             [
              0.4444444444444444,
              "#bd3786"
             ],
             [
              0.5555555555555556,
              "#d8576b"
             ],
             [
              0.6666666666666666,
              "#ed7953"
             ],
             [
              0.7777777777777778,
              "#fb9f3a"
             ],
             [
              0.8888888888888888,
              "#fdca26"
             ],
             [
              1,
              "#f0f921"
             ]
            ],
            "type": "histogram2d"
           }
          ],
          "histogram2dcontour": [
           {
            "colorbar": {
             "outlinewidth": 0,
             "ticks": ""
            },
            "colorscale": [
             [
              0,
              "#0d0887"
             ],
             [
              0.1111111111111111,
              "#46039f"
             ],
             [
              0.2222222222222222,
              "#7201a8"
             ],
             [
              0.3333333333333333,
              "#9c179e"
             ],
             [
              0.4444444444444444,
              "#bd3786"
             ],
             [
              0.5555555555555556,
              "#d8576b"
             ],
             [
              0.6666666666666666,
              "#ed7953"
             ],
             [
              0.7777777777777778,
              "#fb9f3a"
             ],
             [
              0.8888888888888888,
              "#fdca26"
             ],
             [
              1,
              "#f0f921"
             ]
            ],
            "type": "histogram2dcontour"
           }
          ],
          "mesh3d": [
           {
            "colorbar": {
             "outlinewidth": 0,
             "ticks": ""
            },
            "type": "mesh3d"
           }
          ],
          "parcoords": [
           {
            "line": {
             "colorbar": {
              "outlinewidth": 0,
              "ticks": ""
             }
            },
            "type": "parcoords"
           }
          ],
          "pie": [
           {
            "automargin": true,
            "type": "pie"
           }
          ],
          "scatter": [
           {
            "fillpattern": {
             "fillmode": "overlay",
             "size": 10,
             "solidity": 0.2
            },
            "type": "scatter"
           }
          ],
          "scatter3d": [
           {
            "line": {
             "colorbar": {
              "outlinewidth": 0,
              "ticks": ""
             }
            },
            "marker": {
             "colorbar": {
              "outlinewidth": 0,
              "ticks": ""
             }
            },
            "type": "scatter3d"
           }
          ],
          "scattercarpet": [
           {
            "marker": {
             "colorbar": {
              "outlinewidth": 0,
              "ticks": ""
             }
            },
            "type": "scattercarpet"
           }
          ],
          "scattergeo": [
           {
            "marker": {
             "colorbar": {
              "outlinewidth": 0,
              "ticks": ""
             }
            },
            "type": "scattergeo"
           }
          ],
          "scattergl": [
           {
            "marker": {
             "colorbar": {
              "outlinewidth": 0,
              "ticks": ""
             }
            },
            "type": "scattergl"
           }
          ],
          "scattermapbox": [
           {
            "marker": {
             "colorbar": {
              "outlinewidth": 0,
              "ticks": ""
             }
            },
            "type": "scattermapbox"
           }
          ],
          "scatterpolar": [
           {
            "marker": {
             "colorbar": {
              "outlinewidth": 0,
              "ticks": ""
             }
            },
            "type": "scatterpolar"
           }
          ],
          "scatterpolargl": [
           {
            "marker": {
             "colorbar": {
              "outlinewidth": 0,
              "ticks": ""
             }
            },
            "type": "scatterpolargl"
           }
          ],
          "scatterternary": [
           {
            "marker": {
             "colorbar": {
              "outlinewidth": 0,
              "ticks": ""
             }
            },
            "type": "scatterternary"
           }
          ],
          "surface": [
           {
            "colorbar": {
             "outlinewidth": 0,
             "ticks": ""
            },
            "colorscale": [
             [
              0,
              "#0d0887"
             ],
             [
              0.1111111111111111,
              "#46039f"
             ],
             [
              0.2222222222222222,
              "#7201a8"
             ],
             [
              0.3333333333333333,
              "#9c179e"
             ],
             [
              0.4444444444444444,
              "#bd3786"
             ],
             [
              0.5555555555555556,
              "#d8576b"
             ],
             [
              0.6666666666666666,
              "#ed7953"
             ],
             [
              0.7777777777777778,
              "#fb9f3a"
             ],
             [
              0.8888888888888888,
              "#fdca26"
             ],
             [
              1,
              "#f0f921"
             ]
            ],
            "type": "surface"
           }
          ],
          "table": [
           {
            "cells": {
             "fill": {
              "color": "#EBF0F8"
             },
             "line": {
              "color": "white"
             }
            },
            "header": {
             "fill": {
              "color": "#C8D4E3"
             },
             "line": {
              "color": "white"
             }
            },
            "type": "table"
           }
          ]
         },
         "layout": {
          "annotationdefaults": {
           "arrowcolor": "#2a3f5f",
           "arrowhead": 0,
           "arrowwidth": 1
          },
          "autotypenumbers": "strict",
          "coloraxis": {
           "colorbar": {
            "outlinewidth": 0,
            "ticks": ""
           }
          },
          "colorscale": {
           "diverging": [
            [
             0,
             "#8e0152"
            ],
            [
             0.1,
             "#c51b7d"
            ],
            [
             0.2,
             "#de77ae"
            ],
            [
             0.3,
             "#f1b6da"
            ],
            [
             0.4,
             "#fde0ef"
            ],
            [
             0.5,
             "#f7f7f7"
            ],
            [
             0.6,
             "#e6f5d0"
            ],
            [
             0.7,
             "#b8e186"
            ],
            [
             0.8,
             "#7fbc41"
            ],
            [
             0.9,
             "#4d9221"
            ],
            [
             1,
             "#276419"
            ]
           ],
           "sequential": [
            [
             0,
             "#0d0887"
            ],
            [
             0.1111111111111111,
             "#46039f"
            ],
            [
             0.2222222222222222,
             "#7201a8"
            ],
            [
             0.3333333333333333,
             "#9c179e"
            ],
            [
             0.4444444444444444,
             "#bd3786"
            ],
            [
             0.5555555555555556,
             "#d8576b"
            ],
            [
             0.6666666666666666,
             "#ed7953"
            ],
            [
             0.7777777777777778,
             "#fb9f3a"
            ],
            [
             0.8888888888888888,
             "#fdca26"
            ],
            [
             1,
             "#f0f921"
            ]
           ],
           "sequentialminus": [
            [
             0,
             "#0d0887"
            ],
            [
             0.1111111111111111,
             "#46039f"
            ],
            [
             0.2222222222222222,
             "#7201a8"
            ],
            [
             0.3333333333333333,
             "#9c179e"
            ],
            [
             0.4444444444444444,
             "#bd3786"
            ],
            [
             0.5555555555555556,
             "#d8576b"
            ],
            [
             0.6666666666666666,
             "#ed7953"
            ],
            [
             0.7777777777777778,
             "#fb9f3a"
            ],
            [
             0.8888888888888888,
             "#fdca26"
            ],
            [
             1,
             "#f0f921"
            ]
           ]
          },
          "colorway": [
           "#636efa",
           "#EF553B",
           "#00cc96",
           "#ab63fa",
           "#FFA15A",
           "#19d3f3",
           "#FF6692",
           "#B6E880",
           "#FF97FF",
           "#FECB52"
          ],
          "font": {
           "color": "#2a3f5f"
          },
          "geo": {
           "bgcolor": "white",
           "lakecolor": "white",
           "landcolor": "#E5ECF6",
           "showlakes": true,
           "showland": true,
           "subunitcolor": "white"
          },
          "hoverlabel": {
           "align": "left"
          },
          "hovermode": "closest",
          "mapbox": {
           "style": "light"
          },
          "paper_bgcolor": "white",
          "plot_bgcolor": "#E5ECF6",
          "polar": {
           "angularaxis": {
            "gridcolor": "white",
            "linecolor": "white",
            "ticks": ""
           },
           "bgcolor": "#E5ECF6",
           "radialaxis": {
            "gridcolor": "white",
            "linecolor": "white",
            "ticks": ""
           }
          },
          "scene": {
           "xaxis": {
            "backgroundcolor": "#E5ECF6",
            "gridcolor": "white",
            "gridwidth": 2,
            "linecolor": "white",
            "showbackground": true,
            "ticks": "",
            "zerolinecolor": "white"
           },
           "yaxis": {
            "backgroundcolor": "#E5ECF6",
            "gridcolor": "white",
            "gridwidth": 2,
            "linecolor": "white",
            "showbackground": true,
            "ticks": "",
            "zerolinecolor": "white"
           },
           "zaxis": {
            "backgroundcolor": "#E5ECF6",
            "gridcolor": "white",
            "gridwidth": 2,
            "linecolor": "white",
            "showbackground": true,
            "ticks": "",
            "zerolinecolor": "white"
           }
          },
          "shapedefaults": {
           "line": {
            "color": "#2a3f5f"
           }
          },
          "ternary": {
           "aaxis": {
            "gridcolor": "white",
            "linecolor": "white",
            "ticks": ""
           },
           "baxis": {
            "gridcolor": "white",
            "linecolor": "white",
            "ticks": ""
           },
           "bgcolor": "#E5ECF6",
           "caxis": {
            "gridcolor": "white",
            "linecolor": "white",
            "ticks": ""
           }
          },
          "title": {
           "x": 0.05
          },
          "xaxis": {
           "automargin": true,
           "gridcolor": "white",
           "linecolor": "white",
           "ticks": "",
           "title": {
            "standoff": 15
           },
           "zerolinecolor": "white",
           "zerolinewidth": 2
          },
          "yaxis": {
           "automargin": true,
           "gridcolor": "white",
           "linecolor": "white",
           "ticks": "",
           "title": {
            "standoff": 15
           },
           "zerolinecolor": "white",
           "zerolinewidth": 2
          }
         }
        },
        "title": {
         "text": "TunedLens (state-spaces/mamba-130m) cross_entropy",
         "x": 0.5
        },
        "width": 840,
        "xaxis": {
         "title": {
          "text": "Input"
         }
        },
        "yaxis": {
         "title": {
          "text": "Layer"
         }
        }
       }
      },
      "text/html": [
       "<div>                            <div id=\"f3dfe7d2-4937-4c58-b895-ada2841eb98e\" class=\"plotly-graph-div\" style=\"height:525px; width:840px;\"></div>            <script type=\"text/javascript\">                require([\"plotly\"], function(Plotly) {                    window.PLOTLYENV=window.PLOTLYENV || {};                                    if (document.getElementById(\"f3dfe7d2-4937-4c58-b895-ada2841eb98e\")) {                    Plotly.newPlot(                        \"f3dfe7d2-4937-4c58-b895-ada2841eb98e\",                        [{\"colorbar\":{\"title\":{\"side\":\"right\",\"text\":\"Cross Entropy (nats)\"}},\"colorscale\":[[0.0,\"rgb(5,48,97)\"],[0.1,\"rgb(33,102,172)\"],[0.2,\"rgb(67,147,195)\"],[0.3,\"rgb(146,197,222)\"],[0.4,\"rgb(209,229,240)\"],[0.5,\"rgb(247,247,247)\"],[0.6,\"rgb(253,219,199)\"],[0.7,\"rgb(244,165,130)\"],[0.8,\"rgb(214,96,77)\"],[0.9,\"rgb(178,24,43)\"],[1.0,\"rgb(103,0,31)\"]],\"customdata\":[[[\"       I\",\"  97.75%\",\"      _I\",\"   1.45%\",\"    _ion\",\"   0.02%\",\"  _saliv\",\"   0.01%\",\"     )_\\\\\",\"   0.01%\",\" _impro\\u2026\",\"   0.01%\",\"       \\u0103\",\"   0.01%\",\" _furth\\u2026\",\"   0.01%\",\"    )={\\\\\",\"   0.01%\",\"   _magn\",\"   0.01%\"],[\"  _start\",\"  99.31%\",\"       .\",\"   0.24%\",\"       ,\",\"   0.24%\",\"     _of\",\"   0.06%\",\"      \\\\n\",\"   0.03%\",\"     _to\",\"   0.02%\",\"     _in\",\"   0.01%\",\" _starts\",\"   0.01%\",\"     _on\",\"   0.01%\",\"    _the\",\"   0.01%\"],[\"   _like\",\"  99.99%\",\"    like\",\"   0.00%\",\"      \\\\n\",\"   0.00%\",\"    _the\",\"   0.00%\",\"      _a\",\"   0.00%\",\"       -\",\"   0.00%\",\"       .\",\"   0.00%\",\"       _\",\"   0.00%\",\"       ,\",\"   0.00%\",\"      _\\\"\",\"   0.00%\"],[\"   _this\",\"  18.64%\",\"      \\\\n\",\"   2.99%\",\" _selec\\u2026\",\"   1.52%\",\"    this\",\"   1.29%\",\"   _work\",\"   1.01%\",\" _proce\\u2026\",\"   0.64%\",\"    _est\",\"   0.63%\",\"  _solid\",\"   0.63%\",\"  _event\",\"   0.60%\",\" _scree\\u2026\",\"   0.60%\"],[\"    _and\",\"   7.01%\",\"    _the\",\"   3.49%\",\" _hydro\\u2026\",\"   0.87%\",\"   _look\",\"   0.71%\",\"      \\\\n\",\"   0.65%\",\"    _SiO\",\"   0.58%\",\"  _nanoc\",\"   0.57%\",\"      _a\",\"   0.51%\",\" _elect\\u2026\",\"   0.46%\",\"     _et\",\"   0.45%\"],[\"    _end\",\"  99.77%\",\"       ,\",\"   0.11%\",\"       .\",\"   0.06%\",\"       -\",\"   0.03%\",\"      \\\\n\",\"   0.01%\",\"     _of\",\"   0.01%\",\"     end\",\"   0.00%\",\"    _End\",\"   0.00%\",\"    _and\",\"   0.00%\",\"    _the\",\"   0.00%\"],[\"   _like\",\" 100.00%\",\"    like\",\"   0.00%\",\"      \\\\n\",\"   0.00%\",\"    _the\",\"   0.00%\",\"       -\",\"   0.00%\",\"      _a\",\"   0.00%\",\"       .\",\"   0.00%\",\"       _\",\"   0.00%\",\"       ,\",\"   0.00%\",\"      _\\\"\",\"   0.00%\"],[\"   _that\",\"  42.16%\",\"      \\\\n\",\"  19.22%\",\"     _he\",\"   1.49%\",\"       4\",\"   1.01%\",\"      _F\",\"   0.99%\",\"       2\",\"   0.96%\",\"       3\",\"   0.95%\",\"      _M\",\"   0.89%\",\"      _P\",\"   0.87%\",\"       1\",\"   0.77%\"]],[[\"       I\",\"  95.73%\",\"      _I\",\"   0.44%\",\" _ethyl\\u2026\",\"   0.11%\",\"    _ion\",\"   0.06%\",\" _cobalt\",\"   0.06%\",\"   _acry\",\"   0.04%\",\"     ulf\",\"   0.04%\",\"      'm\",\"   0.03%\",\"   _didn\",\"   0.03%\",\"  _saliv\",\"   0.02%\"],[\"  _start\",\"  96.65%\",\" _starts\",\"   0.79%\",\" _start\\u2026\",\"   0.73%\",\"       ,\",\"   0.38%\",\"     _to\",\"   0.30%\",\"       .\",\"   0.21%\",\"     _on\",\"   0.14%\",\"     _of\",\"   0.14%\",\"    _the\",\"   0.10%\",\"   _with\",\"   0.08%\"],[\"   _like\",\"  99.81%\",\"    _the\",\"   0.07%\",\"      _a\",\"   0.03%\",\"      \\\\n\",\"   0.03%\",\"    like\",\"   0.03%\",\"      _I\",\"   0.01%\",\"       -\",\"   0.00%\",\"       .\",\"   0.00%\",\"      _A\",\"   0.00%\",\"      _\\\"\",\"   0.00%\"],[\"   _this\",\"  41.89%\",\"     _is\",\"   2.24%\",\"      \\\\n\",\"   1.89%\",\"    _\\u00e2\\u0122\\u013e\",\"   1.50%\",\"    this\",\"   1.28%\",\"      _\\\"\",\"   0.99%\",\"       .\",\"   0.90%\",\" _proce\\u2026\",\"   0.64%\",\"    This\",\"   0.57%\",\"   _This\",\"   0.54%\"],[\"    _the\",\"   7.81%\",\"    _and\",\"   7.80%\",\"      _a\",\"   1.06%\",\"      \\\\n\",\"   0.69%\",\" _hydro\\u2026\",\"   0.66%\",\"  _nanoc\",\"   0.61%\",\" _groups\",\"   0.58%\",\"   _acry\",\"   0.49%\",\"     _he\",\"   0.47%\",\"    _und\",\"   0.42%\"],[\"    _end\",\"  99.88%\",\"       ,\",\"   0.04%\",\"     end\",\"   0.03%\",\"       .\",\"   0.02%\",\"     _of\",\"   0.01%\",\"    _End\",\"   0.01%\",\"    _the\",\"   0.00%\",\"       -\",\"   0.00%\",\"      \\\\n\",\"   0.00%\",\"     _to\",\"   0.00%\"],[\"   _like\",\"  99.93%\",\"    like\",\"   0.03%\",\"      \\\\n\",\"   0.02%\",\"    _the\",\"   0.01%\",\"      _a\",\"   0.00%\",\"       -\",\"   0.00%\",\"      _I\",\"   0.00%\",\"       .\",\"   0.00%\",\"   _Like\",\"   0.00%\",\"      _A\",\"   0.00%\"],[\"   _that\",\"  38.29%\",\"      \\\\n\",\"  15.25%\",\"      _I\",\"   3.64%\",\"      _\\\"\",\"   3.63%\",\"     _is\",\"   2.81%\",\"      _M\",\"   1.95%\",\"    _the\",\"   1.59%\",\"       I\",\"   1.48%\",\"      _P\",\"   1.41%\",\"      _S\",\"   1.26%\"]],[[\"       I\",\"  94.47%\",\"      _I\",\"   0.93%\",\"    _ion\",\"   0.08%\",\"      'm\",\"   0.06%\",\" _ethyl\\u2026\",\"   0.05%\",\" _cobalt\",\"   0.05%\",\"       \\\"\",\"   0.04%\",\"   _didn\",\"   0.04%\",\"       ]\",\"   0.03%\",\"   _acry\",\"   0.03%\"],[\"  _start\",\"  89.83%\",\" _start\\u2026\",\"   3.86%\",\" _starts\",\"   2.44%\",\"       ,\",\"   0.64%\",\"     _to\",\"   0.50%\",\"     _of\",\"   0.32%\",\"       .\",\"   0.26%\",\"   _with\",\"   0.18%\",\"   _from\",\"   0.17%\",\"     _in\",\"   0.15%\"],[\"   _like\",\"  99.64%\",\"      \\\\n\",\"   0.07%\",\"    _the\",\"   0.06%\",\"    like\",\"   0.05%\",\"      _a\",\"   0.02%\",\"      _I\",\"   0.02%\",\"      _A\",\"   0.01%\",\"       -\",\"   0.01%\",\"      _\\\"\",\"   0.01%\",\"   _Like\",\"   0.01%\"],[\"   _this\",\"  31.88%\",\"      \\\\n\",\"  26.44%\",\"       .\",\"   8.03%\",\"     _is\",\"   5.10%\",\"       ,\",\"   2.24%\",\"      _\\\"\",\"   2.17%\",\"      _I\",\"   1.40%\",\"   _This\",\"   0.88%\",\"       :\",\"   0.83%\",\"     _in\",\"   0.67%\"],[\"    _and\",\"   7.65%\",\"    _the\",\"   6.94%\",\"      \\\\n\",\"   0.69%\",\"      _a\",\"   0.68%\",\"  _nanoc\",\"   0.53%\",\"     _he\",\"   0.49%\",\"   _then\",\"   0.47%\",\" _groups\",\"   0.45%\",\" _hydro\\u2026\",\"   0.42%\",\"      _I\",\"   0.42%\"],[\"    _end\",\"  97.66%\",\"       ,\",\"   0.81%\",\"     _of\",\"   0.66%\",\"       .\",\"   0.35%\",\"    _the\",\"   0.10%\",\"     _to\",\"   0.09%\",\"   _with\",\"   0.05%\",\"     _in\",\"   0.04%\",\"     end\",\"   0.04%\",\"      \\\\n\",\"   0.04%\"],[\"   _like\",\"  99.87%\",\"    like\",\"   0.09%\",\"      \\\\n\",\"   0.02%\",\"   _Like\",\"   0.00%\",\"    _the\",\"   0.00%\",\"      _I\",\"   0.00%\",\"       -\",\"   0.00%\",\"      _a\",\"   0.00%\",\"      _A\",\"   0.00%\",\"      _\\\"\",\"   0.00%\"],[\"      \\\\n\",\"  34.21%\",\"   _that\",\"  17.44%\",\"     _is\",\"   3.70%\",\"      _M\",\"   3.39%\",\"      _\\\"\",\"   3.26%\",\"       .\",\"   3.23%\",\"      _I\",\"   2.00%\",\"      _H\",\"   1.30%\",\"       ,\",\"   1.29%\",\"      's\",\"   1.08%\"]],[[\"       I\",\"  93.53%\",\"      _I\",\"   1.12%\",\"       i\",\"   0.13%\",\"      'm\",\"   0.08%\",\"       \\\"\",\"   0.07%\",\"   _didn\",\"   0.06%\",\"      's\",\"   0.04%\",\"       ]\",\"   0.04%\",\"    _ion\",\"   0.04%\",\"      He\",\"   0.03%\"],[\"  _start\",\"  78.58%\",\" _start\\u2026\",\"   5.50%\",\" _starts\",\"   4.71%\",\"     _to\",\"   1.39%\",\"       ,\",\"   0.96%\",\"     _of\",\"   0.65%\",\"    _the\",\"   0.59%\",\"  _Start\",\"   0.56%\",\"     _in\",\"   0.43%\",\"       .\",\"   0.37%\"],[\"   _like\",\"  99.25%\",\"    _the\",\"   0.09%\",\"    like\",\"   0.09%\",\"      _a\",\"   0.05%\",\"      \\\\n\",\"   0.05%\",\"       -\",\"   0.04%\",\"   _Like\",\"   0.03%\",\"      _I\",\"   0.03%\",\"   _them\",\"   0.02%\",\"     _it\",\"   0.02%\"],[\"      \\\\n\",\"  31.34%\",\"   _this\",\"  21.12%\",\"       .\",\"   8.08%\",\"     _is\",\"   6.24%\",\"       ,\",\"   3.73%\",\"       :\",\"   2.56%\",\"      _\\\"\",\"   1.73%\",\"      _(\",\"   1.23%\",\"   _This\",\"   0.81%\",\"     _in\",\"   0.80%\"],[\"    _the\",\"   6.15%\",\"    _and\",\"   4.67%\",\"     _an\",\"   1.11%\",\"     _it\",\"   0.91%\",\"      _I\",\"   0.85%\",\"   _that\",\"   0.82%\",\" _hydro\\u2026\",\"   0.79%\",\"    _two\",\"   0.74%\",\"      _a\",\"   0.71%\",\"   _then\",\"   0.70%\"],[\"    _end\",\"  96.03%\",\"     _of\",\"   0.92%\",\"       ,\",\"   0.45%\",\"       .\",\"   0.43%\",\"  _ended\",\"   0.34%\",\"     _to\",\"   0.26%\",\"    _the\",\"   0.25%\",\"   _with\",\"   0.24%\",\"     end\",\"   0.20%\",\"   _ends\",\"   0.07%\"],[\"   _like\",\"  99.79%\",\"    like\",\"   0.06%\",\"      \\\\n\",\"   0.03%\",\"    _the\",\"   0.02%\",\"   _Like\",\"   0.01%\",\"       -\",\"   0.01%\",\"      _I\",\"   0.01%\",\"      _a\",\"   0.01%\",\"      _A\",\"   0.00%\",\"    _you\",\"   0.00%\"],[\"      \\\\n\",\"  42.53%\",\"       .\",\"  16.34%\",\"       ,\",\"   8.40%\",\"   _that\",\"   5.17%\",\"     _is\",\"   4.29%\",\"      _M\",\"   2.15%\",\"      _\\\"\",\"   2.11%\",\"      _(\",\"   1.39%\",\"      __\",\"   0.97%\",\"       :\",\"   0.75%\"]],[[\"       I\",\"  32.24%\",\"      _I\",\"   2.40%\",\"       ]\",\"   1.27%\",\"       \\\"\",\"   1.10%\",\"       )\",\"   1.03%\",\"      ],\",\"   0.64%\",\"      ,\\\"\",\"   0.62%\",\"       ,\",\"   0.50%\",\"      \\\")\",\"   0.48%\",\"      ),\",\"   0.44%\"],[\"  _start\",\"  87.52%\",\" _starts\",\"   4.85%\",\" _start\\u2026\",\"   4.00%\",\"     _to\",\"   0.33%\",\"       ,\",\"   0.28%\",\"  _Start\",\"   0.24%\",\"  _began\",\"   0.21%\",\"    _the\",\"   0.20%\",\"     _of\",\"   0.19%\",\"   start\",\"   0.16%\"],[\"   _like\",\"  98.38%\",\"    like\",\"   0.33%\",\"   _Like\",\"   0.09%\",\"      _a\",\"   0.07%\",\"   _them\",\"   0.07%\",\"    _the\",\"   0.04%\",\"   _this\",\"   0.04%\",\"    _you\",\"   0.04%\",\"     _an\",\"   0.03%\",\"    Like\",\"   0.03%\"],[\"      \\\\n\",\"  14.72%\",\"       :\",\"  11.04%\",\"   _this\",\"   6.28%\",\"     _is\",\"   5.31%\",\"       .\",\"   3.82%\",\"      _(\",\"   1.70%\",\"       ,\",\"   1.55%\",\"      _\\\"\",\"   1.27%\",\"      \\\":\",\"   1.09%\",\"      .\\\"\",\"   1.00%\"],[\" _hydro\\u2026\",\"   2.37%\",\"    _the\",\"   2.30%\",\"    _and\",\"   1.96%\",\"     _it\",\"   1.86%\",\"   _then\",\"   1.66%\",\"    _you\",\"   1.47%\",\"    _two\",\"   1.18%\",\"      _I\",\"   0.93%\",\"     _an\",\"   0.92%\",\"   _this\",\"   0.51%\"],[\"    _end\",\"  85.80%\",\"     _of\",\"   2.66%\",\"    _the\",\"   1.75%\",\"       .\",\"   1.56%\",\"  _ended\",\"   1.26%\",\"   _with\",\"   1.22%\",\"   _ends\",\"   0.72%\",\"       ,\",\"   0.65%\",\"     _to\",\"   0.37%\",\"      \\\\n\",\"   0.20%\"],[\"   _like\",\"  99.32%\",\"    like\",\"   0.33%\",\"   _Like\",\"   0.03%\",\"    _the\",\"   0.02%\",\"    _you\",\"   0.02%\",\"      \\\\n\",\"   0.01%\",\"   _they\",\"   0.01%\",\"    Like\",\"   0.01%\",\"   _them\",\"   0.01%\",\"      _a\",\"   0.01%\"],[\"       .\",\"  56.13%\",\"      \\\\n\",\"  12.72%\",\"       ,\",\"   9.71%\",\"   _that\",\"   4.36%\",\"      .\\\"\",\"   1.73%\",\"       :\",\"   1.21%\",\"      _(\",\"   1.03%\",\"     _is\",\"   1.02%\",\"     _in\",\"   0.65%\",\"       ;\",\"   0.58%\"]],[[\"       I\",\"  26.19%\",\"      _I\",\"   2.68%\",\"       \\\"\",\"   1.69%\",\"       )\",\"   1.56%\",\"       ]\",\"   1.55%\",\"       ,\",\"   1.15%\",\"      ,\\\"\",\"   0.65%\",\"      ],\",\"   0.59%\",\"       .\",\"   0.56%\",\"      ),\",\"   0.45%\"],[\"  _start\",\"  80.21%\",\" _starts\",\"   6.96%\",\" _start\\u2026\",\"   5.59%\",\"     _to\",\"   0.65%\",\"       ,\",\"   0.43%\",\"   _with\",\"   0.39%\",\"  _began\",\"   0.35%\",\"    _the\",\"   0.33%\",\" _begins\",\"   0.28%\",\"  _Start\",\"   0.28%\"],[\"   _like\",\"  97.16%\",\"   _Like\",\"   0.17%\",\"    like\",\"   0.16%\",\"      _a\",\"   0.09%\",\"   _this\",\"   0.09%\",\"    _you\",\"   0.08%\",\"   _kind\",\"   0.07%\",\"    _the\",\"   0.07%\",\"   _them\",\"   0.06%\",\" _before\",\"   0.04%\"],[\"       :\",\"  10.88%\",\"   _this\",\"   8.41%\",\"      \\\\n\",\"   7.13%\",\"     _is\",\"   6.26%\",\"       .\",\"   5.44%\",\"   _with\",\"   2.47%\",\"      \\\":\",\"   1.92%\",\"       ,\",\"   1.46%\",\"    _are\",\"   1.43%\",\"      _I\",\"   1.38%\"],[\"      _I\",\"  24.15%\",\"   _then\",\"   8.24%\",\"     _we\",\"   3.93%\",\"    _you\",\"   2.28%\",\"     _it\",\"   1.30%\",\"    _non\",\"   1.01%\",\"    _the\",\"   0.90%\",\"       I\",\"   0.74%\",\"     _is\",\"   0.59%\",\"      _A\",\"   0.53%\"],[\"    _end\",\"  73.15%\",\"   _ends\",\"   4.53%\",\"    _the\",\"   3.05%\",\"  _ended\",\"   2.54%\",\"     _of\",\"   1.99%\",\"   _with\",\"   1.92%\",\"       .\",\"   1.13%\",\"     _to\",\"   0.86%\",\"      \\\\n\",\"   0.58%\",\"       ,\",\"   0.53%\"],[\"   _like\",\"  98.50%\",\"    like\",\"   0.27%\",\"   _Like\",\"   0.08%\",\"   _they\",\"   0.04%\",\"    _you\",\"   0.04%\",\"      _I\",\"   0.03%\",\"    _the\",\"   0.03%\",\"      _\\\\\",\"   0.03%\",\"      _a\",\"   0.02%\",\"       -\",\"   0.02%\"],[\"       .\",\"  45.80%\",\"      \\\\n\",\"  12.16%\",\"      .\\\"\",\"   4.06%\",\"       ,\",\"   3.80%\",\"      _(\",\"   2.82%\",\"      _\\\\\",\"   2.18%\",\"     _is\",\"   2.02%\",\"       :\",\"   1.58%\",\"      _I\",\"   1.40%\",\"   _that\",\"   1.07%\"]],[[\"       I\",\"   9.03%\",\"       )\",\"   2.06%\",\"       \\\"\",\"   2.04%\",\"      _I\",\"   1.86%\",\"       ,\",\"   1.67%\",\"       ]\",\"   1.39%\",\"       .\",\"   0.98%\",\"       :\",\"   0.61%\",\"      ?\\\"\",\"   0.58%\",\"      \\\\n\",\"   0.51%\"],[\"  _start\",\"  70.75%\",\" _start\\u2026\",\"   7.62%\",\" _starts\",\"   6.76%\",\"   _with\",\"   0.95%\",\"  _began\",\"   0.68%\",\"     _to\",\"   0.61%\",\" _begins\",\"   0.58%\",\"     _up\",\"   0.48%\",\"  _Start\",\"   0.37%\",\"    _the\",\"   0.36%\"],[\"   _like\",\"  96.02%\",\"   _Like\",\"   0.29%\",\"   _kind\",\"   0.23%\",\"    like\",\"   0.19%\",\"      _a\",\"   0.18%\",\" _semic\\u2026\",\"   0.09%\",\"     _an\",\"   0.09%\",\"    _the\",\"   0.08%\",\"   _this\",\"   0.08%\",\" _before\",\"   0.08%\"],[\"       :\",\"  45.09%\",\"       .\",\"  14.43%\",\"      \\\\n\",\"   3.32%\",\"     _is\",\"   3.26%\",\"       ,\",\"   2.14%\",\"   _with\",\"   2.07%\",\"      \\\":\",\"   1.70%\",\"      _I\",\"   1.11%\",\"      .\\\"\",\"   0.77%\",\"       ;\",\"   0.76%\"],[\"      _I\",\"  37.05%\",\"   _then\",\"   7.30%\",\"       I\",\"   2.16%\",\"     _we\",\"   1.62%\",\"     _it\",\"   1.33%\",\"     _my\",\"   1.16%\",\"    _non\",\"   1.07%\",\"    _the\",\"   0.76%\",\"      \\\\n\",\"   0.68%\",\"       \\u002f\",\"   0.64%\"],[\"    _end\",\"  58.37%\",\"   _with\",\"   5.27%\",\"    _the\",\"   3.59%\",\"       .\",\"   2.06%\",\"   _ends\",\"   2.04%\",\"      _P\",\"   1.82%\",\"  _ended\",\"   1.58%\",\" _result\",\"   1.47%\",\"     _of\",\"   1.36%\",\"       ,\",\"   1.19%\"],[\"   _like\",\"  98.19%\",\"    like\",\"   0.19%\",\"   _Like\",\"   0.18%\",\"      _I\",\"   0.10%\",\"    _the\",\"   0.08%\",\"   _that\",\"   0.07%\",\"      _a\",\"   0.06%\",\"   _this\",\"   0.05%\",\"      \\\\n\",\"   0.05%\",\"   _they\",\"   0.05%\"],[\"       .\",\"  43.09%\",\"       :\",\"  11.29%\",\"      \\\\n\",\"   8.03%\",\"       ,\",\"   4.77%\",\"      .\\\"\",\"   2.89%\",\"     _is\",\"   1.78%\",\"      _\\\\\",\"   1.17%\",\"      _(\",\"   1.11%\",\"      _I\",\"   0.98%\",\"       ;\",\"   0.85%\"]],[[\"       I\",\"   6.97%\",\"       \\\"\",\"   1.05%\",\"      _I\",\"   1.01%\",\"       )\",\"   0.89%\",\"       ,\",\"   0.83%\",\"       .\",\"   0.68%\",\"       ]\",\"   0.57%\",\"  ICENSE\",\"   0.51%\",\"      ?\\\"\",\"   0.50%\",\"      ),\",\"   0.44%\"],[\"  _start\",\"  43.93%\",\" _start\\u2026\",\"  11.72%\",\" _starts\",\"   7.39%\",\"   _with\",\"   1.84%\",\"     _to\",\"   1.67%\",\"    _the\",\"   0.92%\",\" _begins\",\"   0.89%\",\"   _from\",\"   0.82%\",\"  _began\",\"   0.78%\",\"     _up\",\"   0.64%\"],[\"   _like\",\"  49.16%\",\"      _a\",\"   9.06%\",\"   _this\",\"   3.09%\",\" _semic\\u2026\",\"   2.70%\",\"     _an\",\"   2.62%\",\" _before\",\"   2.14%\",\"   _that\",\"   1.67%\",\"   _with\",\"   1.41%\",\"     _as\",\"   1.33%\",\"    _the\",\"   1.15%\"],[\"       :\",\"  75.12%\",\"       .\",\"   6.75%\",\"      \\\\n\",\"   2.61%\",\"   _with\",\"   1.13%\",\"     _is\",\"   1.09%\",\"      \\\":\",\"   0.99%\",\"       ,\",\"   0.95%\",\"      _I\",\"   0.42%\",\" _becau\\u2026\",\"   0.42%\",\"       ?\",\"   0.41%\"],[\"      _I\",\"  37.60%\",\"   _then\",\"   9.08%\",\"       I\",\"   1.55%\",\"    _the\",\"   1.12%\",\"       \\u002f\",\"   0.84%\",\"     _we\",\"   0.80%\",\"      \\\\n\",\"   0.67%\",\"     _go\",\"   0.67%\",\"     _my\",\"   0.66%\",\"     _is\",\"   0.65%\"],[\"    _end\",\"  27.19%\",\"   _with\",\"  25.84%\",\" _result\",\"   3.49%\",\"  _ended\",\"   2.56%\",\"   _ends\",\"   2.13%\",\"     _in\",\"   1.78%\",\"       .\",\"   1.68%\",\"    _the\",\"   1.28%\",\"     _to\",\"   1.18%\",\"     _it\",\"   1.01%\"],[\"   _like\",\"  18.16%\",\"   _with\",\"  11.75%\",\"   _that\",\"  10.61%\",\"      _a\",\"   8.23%\",\" _produ\\u2026\",\"   4.52%\",\"     _in\",\"   4.50%\",\"      _I\",\"   3.95%\",\"   _this\",\"   2.44%\",\" _produ\\u2026\",\"   2.05%\",\"    _the\",\"   1.98%\"],[\"       .\",\"  57.77%\",\"       :\",\"   7.66%\",\"      \\\\n\",\"   6.32%\",\"       ,\",\"   5.66%\",\"     _is\",\"   2.03%\",\"      .\\\"\",\"   1.57%\",\"      _(\",\"   1.38%\",\"       ;\",\"   0.70%\",\"      _I\",\"   0.62%\",\"      ,\\\"\",\"   0.60%\"]],[[\"       I\",\"   3.46%\",\"       \\\"\",\"   1.45%\",\"       )\",\"   1.08%\",\"       ,\",\"   0.95%\",\"       .\",\"   0.89%\",\"       ]\",\"   0.81%\",\"      _I\",\"   0.63%\",\"      ),\",\"   0.61%\",\"      }\\\\\",\"   0.59%\",\"      \\\\n\",\"   0.45%\"],[\"  _start\",\"  14.46%\",\" _start\\u2026\",\"   7.59%\",\"   _with\",\"   6.46%\",\"     _to\",\"   3.09%\",\" _starts\",\"   2.42%\",\"       ,\",\"   1.63%\",\"   _from\",\"   1.58%\",\"    _the\",\"   1.54%\",\"      \\\\n\",\"   1.05%\",\"     _of\",\"   1.05%\"],[\"   _like\",\"  29.27%\",\"      _a\",\"  12.45%\",\"   _this\",\"  12.33%\",\"     _an\",\"   4.00%\",\"   _with\",\"   2.91%\",\"     _in\",\"   2.08%\",\"    _the\",\"   1.78%\",\"   _that\",\"   1.60%\",\"       ,\",\"   1.55%\",\"     _as\",\"   1.43%\"],[\"       :\",\"  83.80%\",\"       .\",\"   3.06%\",\"      \\\":\",\"   1.95%\",\"      \\\\n\",\"   0.92%\",\"       ,\",\"   0.82%\",\"     _is\",\"   0.69%\",\"   _with\",\"   0.49%\",\"      _:\",\"   0.29%\",\"      ):\",\"   0.24%\",\"   _this\",\"   0.18%\"],[\"      _I\",\"  44.22%\",\"   _then\",\"   3.77%\",\"    _the\",\"   1.80%\",\"  _after\",\"   1.58%\",\"    _you\",\"   0.96%\",\"       I\",\"   0.95%\",\"     _my\",\"   0.76%\",\"     _it\",\"   0.75%\",\"     _we\",\"   0.73%\",\"       \\u002f\",\"   0.63%\"],[\"    _end\",\"  17.94%\",\"    _out\",\"  15.42%\",\"   _like\",\"  10.36%\",\"  _ended\",\"  10.35%\",\"   _ends\",\"   3.95%\",\"   _with\",\"   3.72%\",\"     _as\",\"   2.18%\",\" _result\",\"   2.00%\",\"     _in\",\"   1.77%\",\" _produ\\u2026\",\"   1.73%\"],[\"   _this\",\"  99.64%\",\"   _This\",\"   0.10%\",\"    this\",\"   0.08%\",\"  _these\",\"   0.05%\",\"   _like\",\"   0.04%\",\"   _that\",\"   0.03%\",\"    This\",\"   0.01%\",\"     _in\",\"   0.01%\",\"   _with\",\"   0.01%\",\"       ,\",\"   0.00%\"],[\"       .\",\"  41.02%\",\"       ,\",\"  16.15%\",\"      \\\\n\",\"   9.33%\",\"       :\",\"   8.35%\",\"      _(\",\"   3.00%\",\"     _is\",\"   1.23%\",\"      _\\\\\",\"   1.10%\",\"       ;\",\"   1.05%\",\"      ,\\\"\",\"   0.90%\",\"      's\",\"   0.75%\"]],[[\"       I\",\"   3.75%\",\"       ,\",\"   2.02%\",\"       .\",\"   1.45%\",\"       \\\"\",\"   1.18%\",\"      _I\",\"   1.14%\",\"      \\\\n\",\"   0.50%\",\"      }\\\\\",\"   0.50%\",\"       ]\",\"   0.47%\",\"       )\",\"   0.45%\",\"       :\",\"   0.41%\"],[\"   _with\",\"   6.28%\",\"  _start\",\"   5.70%\",\" _start\\u2026\",\"   4.48%\",\"     _to\",\"   2.42%\",\" _starts\",\"   2.22%\",\"       ,\",\"   1.30%\",\" _linear\",\"   1.18%\",\"    _off\",\"   1.08%\",\"     _at\",\"   1.07%\",\"     _of\",\"   1.06%\"],[\"   _this\",\"  70.48%\",\"   _that\",\"   4.78%\",\"      _a\",\"   4.42%\",\"     _an\",\"   1.51%\",\"    _the\",\"   0.90%\",\"       ,\",\"   0.90%\",\"     _in\",\"   0.88%\",\"      _I\",\"   0.53%\",\"   _This\",\"   0.46%\",\"       -\",\"   0.43%\"],[\"       :\",\"  85.08%\",\"      \\\":\",\"   6.72%\",\"       ,\",\"   0.92%\",\"       .\",\"   0.59%\",\"      ):\",\"   0.54%\",\"      _:\",\"   0.48%\",\"      :\\\\\",\"   0.40%\",\"      \\\\n\",\"   0.33%\",\"    _$$\\\\\",\"   0.17%\",\"     :**\",\"   0.15%\"],[\"      _I\",\"  31.56%\",\"     _it\",\"   3.01%\",\"    _the\",\"   2.46%\",\"  _after\",\"   2.35%\",\"   _then\",\"   1.41%\",\"  _ended\",\"   1.38%\",\"       ,\",\"   1.13%\",\"     _my\",\"   1.07%\",\"   _ends\",\"   1.02%\",\"     _as\",\"   0.85%\"],[\"   _like\",\"  73.77%\",\"    _end\",\"   8.22%\",\"  _ended\",\"   3.05%\",\"   _with\",\"   1.98%\",\"   _ends\",\"   1.33%\",\"    _out\",\"   0.88%\",\"     _as\",\"   0.79%\",\"     _in\",\"   0.54%\",\" _produ\\u2026\",\"   0.40%\",\" _ending\",\"   0.33%\"],[\"   _this\",\"  99.91%\",\"    this\",\"   0.08%\",\"   _This\",\"   0.01%\",\"  _these\",\"   0.00%\",\"    This\",\"   0.00%\",\"   _THIS\",\"   0.00%\",\"   _that\",\"   0.00%\",\" _questo\",\"   0.00%\",\"    THIS\",\"   0.00%\",\"  _These\",\"   0.00%\"],[\"       :\",\"  31.07%\",\"       .\",\"  25.85%\",\"       ,\",\"  18.72%\",\"      _(\",\"   2.42%\",\"      \\\\n\",\"   1.35%\",\"      _\\\\\",\"   1.17%\",\"      \\\":\",\"   0.98%\",\"      .\\\"\",\"   0.73%\",\"      _:\",\"   0.46%\",\"       \\\\\",\"   0.38%\"]],[[\"       .\",\"   7.19%\",\"       I\",\"   5.80%\",\"      'm\",\"   2.88%\",\"       ,\",\"   2.12%\",\"    _was\",\"   1.83%\",\"      _I\",\"   1.68%\",\"     \\u00e2\\u0122\\u013b\",\"   1.05%\",\"      IS\",\"   0.90%\",\"   _have\",\"   0.75%\",\"       \\\\\",\"   0.73%\"],[\"   _with\",\"  18.88%\",\"     _to\",\"   5.50%\",\"    _off\",\"   4.38%\",\"    _out\",\"   2.14%\",\"       ,\",\"   1.24%\",\"     _my\",\"   1.08%\",\"  _fires\",\"   1.04%\",\"    _the\",\"   0.80%\",\"       .\",\"   0.71%\",\" _presu\\u2026\",\"   0.69%\"],[\"   _this\",\"  83.71%\",\"      _a\",\"   7.08%\",\"   _that\",\"   5.82%\",\"     _an\",\"   0.76%\",\"       ,\",\"   0.27%\",\"    _the\",\"   0.22%\",\"      _I\",\"   0.12%\",\"   _This\",\"   0.11%\",\"    _you\",\"   0.08%\",\"  _clock\",\"   0.06%\"],[\"       :\",\"  91.78%\",\"       ,\",\"   4.20%\",\"       .\",\"   2.00%\",\"      _(\",\"   0.15%\",\"      \\\\n\",\"   0.14%\",\"     _is\",\"   0.08%\",\"     _in\",\"   0.06%\",\"    _and\",\"   0.06%\",\"      _:\",\"   0.05%\",\"     _at\",\"   0.05%\"],[\"      _I\",\"  40.42%\",\"     _it\",\"  12.12%\",\" _proce\\u2026\",\"   2.39%\",\"    _the\",\"   2.10%\",\"   _then\",\"   1.58%\",\"       I\",\"   1.13%\",\"  _after\",\"   1.08%\",\"    _try\",\"   1.06%\",\"     _go\",\"   0.96%\",\"  _ended\",\"   0.90%\"],[\"   _like\",\"  99.92%\",\"   _with\",\"   0.03%\",\"     _up\",\"   0.01%\",\"   _Like\",\"   0.01%\",\"     _as\",\"   0.00%\",\"     _in\",\"   0.00%\",\"  _comme\",\"   0.00%\",\"    Like\",\"   0.00%\",\"  _after\",\"   0.00%\",\" _predi\\u2026\",\"   0.00%\"],[\"   _this\",\"  99.98%\",\"    this\",\"   0.01%\",\"  _these\",\"   0.00%\",\"   _that\",\"   0.00%\",\"   _This\",\"   0.00%\",\"   _THIS\",\"   0.00%\",\"    This\",\"   0.00%\",\"    THIS\",\"   0.00%\",\" _\\u00ce\\u00b1\\u00cf\\u0127\\u00cf\\u0126\",\"   0.00%\",\" _questo\",\"   0.00%\"],[\"       :\",\"  56.08%\",\"       .\",\"  21.91%\",\"       ,\",\"  16.79%\",\"      _(\",\"   1.18%\",\"      \\\\n\",\"   0.30%\",\"    _and\",\"   0.19%\",\"     _in\",\"   0.17%\",\" _before\",\"   0.16%\",\"      _:\",\"   0.12%\",\"     ...\",\"   0.11%\"]],[[\"      'm\",\"  13.13%\",\"   _have\",\"   4.55%\",\"    _was\",\"   4.26%\",\"     _am\",\"   3.13%\",\"  _think\",\"   3.08%\",\"    _don\",\"   2.42%\",\"    _can\",\"   1.69%\",\"     'll\",\"   1.42%\",\"  _would\",\"   1.07%\",\"    _got\",\"   1.07%\"],[\"   _with\",\"  27.02%\",\"     _to\",\"  10.71%\",\"     _my\",\"   4.90%\",\"    _the\",\"   2.65%\",\"    _off\",\"   2.12%\",\"   _from\",\"   1.83%\",\"      _a\",\"   1.57%\",\"    _out\",\"   1.38%\",\"       ,\",\"   1.31%\",\"     _by\",\"   1.20%\"],[\"   _this\",\"  65.64%\",\"   _that\",\"  12.75%\",\"      _a\",\"   6.13%\",\"    _you\",\"   1.14%\",\"     _an\",\"   1.10%\",\"    _the\",\"   0.54%\",\"     _it\",\"   0.53%\",\"      _I\",\"   0.53%\",\"       ,\",\"   0.47%\",\"     _so\",\"   0.27%\"],[\"       :\",\"  51.01%\",\"       ,\",\"  16.43%\",\"       .\",\"  13.50%\",\"      \\\\n\",\"   1.46%\",\"    _and\",\"   1.32%\",\"      .\\\"\",\"   0.89%\",\"       ;\",\"   0.72%\",\"      _(\",\"   0.62%\",\"      ,\\\"\",\"   0.58%\",\"   _with\",\"   0.49%\"],[\"      _I\",\"  19.85%\",\"     _it\",\"  19.46%\",\"   _then\",\"   4.44%\",\"    _you\",\"   3.45%\",\"    _the\",\"   2.85%\",\"    _get\",\"   1.56%\",\"     _go\",\"   1.54%\",\"    _end\",\"   1.28%\",\"   _when\",\"   1.27%\",\"  _after\",\"   1.08%\"],[\"   _like\",\"  96.46%\",\"     _up\",\"   1.52%\",\"   _with\",\"   0.79%\",\"     _in\",\"   0.27%\",\"     _as\",\"   0.24%\",\"     _at\",\"   0.09%\",\"    _the\",\"   0.08%\",\"     _it\",\"   0.04%\",\"     _on\",\"   0.02%\",\"  _after\",\"   0.02%\"],[\"   _this\",\"  98.84%\",\"   _that\",\"   1.00%\",\"  _these\",\"   0.11%\",\"   _THIS\",\"   0.01%\",\"    this\",\"   0.01%\",\"   _This\",\"   0.01%\",\"    _the\",\"   0.00%\",\"   _THAT\",\"   0.00%\",\"   _here\",\"   0.00%\",\"     _it\",\"   0.00%\"],[\"       .\",\"  52.72%\",\"       ,\",\"  21.89%\",\"       :\",\"  12.69%\",\"      \\\\n\",\"   1.26%\",\"    _and\",\"   1.14%\",\"      _(\",\"   1.04%\",\"      .\\\"\",\"   0.98%\",\"    _but\",\"   0.43%\",\"       ;\",\"   0.40%\",\"   _with\",\"   0.38%\"]],[[\"      'm\",\"   8.20%\",\"   _have\",\"   4.82%\",\"     _am\",\"   3.55%\",\"    _was\",\"   3.36%\",\"  _think\",\"   2.98%\",\"    _don\",\"   2.68%\",\"    _can\",\"   2.25%\",\"       .\",\"   2.02%\",\"     've\",\"   2.00%\",\"   _will\",\"   1.52%\"],[\"     _to\",\"  13.31%\",\"   _with\",\"  12.41%\",\"    _the\",\"   3.99%\",\"    _out\",\"   3.74%\",\"    _off\",\"   2.98%\",\"     _my\",\"   2.77%\",\"      _a\",\"   2.48%\",\"   _from\",\"   1.75%\",\" _think\\u2026\",\"   1.75%\",\"     _at\",\"   1.57%\"],[\"   _this\",\"  42.04%\",\"   _that\",\"  11.74%\",\"      _a\",\"  10.50%\",\"      _I\",\"   3.59%\",\"    _you\",\"   1.98%\",\"       ,\",\"   1.92%\",\"    _the\",\"   1.79%\",\"     _an\",\"   1.71%\",\"     _it\",\"   1.33%\",\"      \\\\n\",\"   0.77%\"],[\"       :\",\"  32.09%\",\"       ,\",\"  10.34%\",\"       .\",\"  10.16%\",\"      .\\\"\",\"   4.01%\",\"      \\\\n\",\"   3.33%\",\"       \\\"\",\"   2.58%\",\"     ...\",\"   2.36%\",\"      ,\\\"\",\"   2.15%\",\"    _and\",\"   2.06%\",\"    ...\\\"\",\"   1.29%\"],[\"      _I\",\"  19.52%\",\"     _it\",\"  11.89%\",\"   _then\",\"   3.53%\",\"    _the\",\"   2.87%\",\"    _you\",\"   2.68%\",\"    _end\",\"   2.11%\",\"    _get\",\"   1.81%\",\"     _my\",\"   1.39%\",\"   _have\",\"   1.29%\",\"    _don\",\"   1.20%\"],[\"   _like\",\"  76.06%\",\"     _up\",\"  10.99%\",\"   _with\",\"   2.72%\",\"     _in\",\"   1.74%\",\"     _as\",\"   1.38%\",\"    _the\",\"   0.67%\",\"     _at\",\"   0.44%\",\"     _it\",\"   0.33%\",\"     _on\",\"   0.31%\",\"      \\\\n\",\"   0.22%\"],[\"   _this\",\"  86.03%\",\"   _that\",\"  10.40%\",\"    _the\",\"   0.36%\",\"      \\\\n\",\"   0.33%\",\"      _I\",\"   0.21%\",\"     _it\",\"   0.14%\",\"      _a\",\"   0.14%\",\"  _these\",\"   0.14%\",\"       :\",\"   0.10%\",\"    _you\",\"   0.10%\"],[\"       .\",\"  24.79%\",\"       :\",\"  11.96%\",\"       ,\",\"  11.62%\",\"      .\\\"\",\"   5.02%\",\"      \\\\n\",\"   3.84%\",\"      ,\\\"\",\"   2.38%\",\"       \\\"\",\"   2.27%\",\"     ...\",\"   2.19%\",\"    _and\",\"   2.12%\",\"       ?\",\"   1.22%\"]]],\"hoverlabel\":{\"bgcolor\":\"rgb(42, 42, 50)\",\"font\":{\"family\":\"Monospace\"}},\"hovertemplate\":\"%{customdata[0]}%{customdata[1]}\\u003cbr\\u003e%{customdata[2]}%{customdata[3]}\\u003cbr\\u003e%{customdata[4]}%{customdata[5]}\\u003cbr\\u003e%{customdata[6]}%{customdata[7]}\\u003cbr\\u003e%{customdata[8]}%{customdata[9]}\\u003cbr\\u003e%{customdata[10]}%{customdata[11]}\\u003cbr\\u003e%{customdata[12]}%{customdata[13]}\\u003cbr\\u003e%{customdata[14]}%{customdata[15]}\\u003cbr\\u003e%{customdata[16]}%{customdata[17]}\\u003cbr\\u003e%{customdata[18]}%{customdata[19]}\\u003cbr\\u003e\\u003cextra\\u003e\\u003c\\u002fextra\\u003e\",\"text\":[[\"I\",\"_start\",\"_like\",\"_this\",\"_and\",\"_end\",\"_like\",\"_that\"],[\"I\",\"_start\",\"_like\",\"_this\",\"_the\",\"_end\",\"_like\",\"_that\"],[\"I\",\"_start\",\"_like\",\"_this\",\"_and\",\"_end\",\"_like\",\"\\\\n\"],[\"I\",\"_start\",\"_like\",\"\\\\n\",\"_the\",\"_end\",\"_like\",\"\\\\n\"],[\"I\",\"_start\",\"_like\",\"\\\\n\",\"_hydro\\u2026\",\"_end\",\"_like\",\".\"],[\"I\",\"_start\",\"_like\",\":\",\"_I\",\"_end\",\"_like\",\".\"],[\"I\",\"_start\",\"_like\",\":\",\"_I\",\"_end\",\"_like\",\".\"],[\"I\",\"_start\",\"_like\",\":\",\"_I\",\"_end\",\"_like\",\".\"],[\"I\",\"_start\",\"_like\",\":\",\"_I\",\"_end\",\"_this\",\".\"],[\"I\",\"_with\",\"_this\",\":\",\"_I\",\"_like\",\"_this\",\":\"],[\".\",\"_with\",\"_this\",\":\",\"_I\",\"_like\",\"_this\",\":\"],[\"'m\",\"_with\",\"_this\",\":\",\"_I\",\"_like\",\"_this\",\".\"],[\"'m\",\"_to\",\"_this\",\":\",\"_I\",\"_like\",\"_this\",\".\"]],\"texttemplate\":\"\\u003cb\\u003e%{text}\\u003c\\u002fb\\u003e\",\"x\":[\"I\",\"_start\\u200c\",\"_like\\u200c\\u200c\",\"_this\\u200c\\u200c\\u200c\",\"_and\\u200c\\u200c\\u200c\\u200c\",\"_end\\u200c\\u200c\\u200c\\u200c\\u200c\",\"_like\\u200c\\u200c\\u200c\\u200c\\u200c\\u200c\",\"_that\\u200c\\u200c\\u200c\\u200c\\u200c\\u200c\\u200c\"],\"y\":[\"0\",\"2\",\"4\",\"6\",\"8\",\"10\",\"12\",\"14\",\"16\",\"18\",\"20\",\"22\",\"output\"],\"z\":[[14.137417793273926,21.162904739379883,23.65903091430664,10.286994934082031,8.483577728271484,25.19957160949707,22.718416213989258,12.986601829528809],[13.910375595092773,13.224472999572754,13.798221588134766,8.142799377441406,8.77849292755127,20.67465591430664,14.403210639953613,11.025398254394531],[13.137020111083984,10.822519302368164,11.925010681152344,5.518318176269531,8.911728858947754,16.25952911376953,14.462224006652832,10.924474716186523],[12.07330322265625,8.973788261413574,9.000492095947266,5.492956638336182,8.692821502685547,12.53132438659668,11.619693756103516,11.900412559509277],[9.223348617553711,9.469036102294922,7.880857944488525,6.901638031005859,9.58938217163086,10.105565071105957,11.348639488220215,9.916768074035645],[8.866094589233398,8.66965389251709,7.026653289794922,6.032843589782715,8.439242362976074,9.521697998046875,9.56270694732666,7.713833332061768],[8.352559089660645,7.578244686126709,7.1612725257873535,6.715270042419434,7.523947238922119,8.44230842590332,7.272179126739502,8.910846710205078],[8.580023765563965,7.081079006195068,3.476092576980591,8.022378921508789,6.553203582763672,6.610237121582031,2.2438032627105713,8.983626365661621],[8.377762794494629,6.2774338722229,2.0928196907043457,7.680146217346191,6.060571193695068,2.267261028289795,8.006521224975586,8.358320236206055],[7.829101085662842,7.971205711364746,0.34982019662857056,7.948500156402588,5.430352687835693,0.304222971200943,14.3410062789917,9.89102840423584],[7.873161315917969,7.459747791290283,0.17784152925014496,7.463670253753662,4.775300025939941,0.0007793250260874629,10.31274700164795,12.720138549804688],[8.820597648620605,5.981877326965332,0.42095130681991577,4.325878620147705,4.356769561767578,0.03599948063492775,4.607995986938477,10.07131290435791],[7.81534481048584,6.207776069641113,0.8664448857307434,3.8807713985443115,3.8602347373962402,0.27360716462135315,2.263324737548828,7.15303897857666]],\"zmax\":25.19957160949707,\"zmin\":0.0007793250260874629,\"type\":\"heatmap\"}],                        {\"template\":{\"data\":{\"histogram2dcontour\":[{\"type\":\"histogram2dcontour\",\"colorbar\":{\"outlinewidth\":0,\"ticks\":\"\"},\"colorscale\":[[0.0,\"#0d0887\"],[0.1111111111111111,\"#46039f\"],[0.2222222222222222,\"#7201a8\"],[0.3333333333333333,\"#9c179e\"],[0.4444444444444444,\"#bd3786\"],[0.5555555555555556,\"#d8576b\"],[0.6666666666666666,\"#ed7953\"],[0.7777777777777778,\"#fb9f3a\"],[0.8888888888888888,\"#fdca26\"],[1.0,\"#f0f921\"]]}],\"choropleth\":[{\"type\":\"choropleth\",\"colorbar\":{\"outlinewidth\":0,\"ticks\":\"\"}}],\"histogram2d\":[{\"type\":\"histogram2d\",\"colorbar\":{\"outlinewidth\":0,\"ticks\":\"\"},\"colorscale\":[[0.0,\"#0d0887\"],[0.1111111111111111,\"#46039f\"],[0.2222222222222222,\"#7201a8\"],[0.3333333333333333,\"#9c179e\"],[0.4444444444444444,\"#bd3786\"],[0.5555555555555556,\"#d8576b\"],[0.6666666666666666,\"#ed7953\"],[0.7777777777777778,\"#fb9f3a\"],[0.8888888888888888,\"#fdca26\"],[1.0,\"#f0f921\"]]}],\"heatmap\":[{\"type\":\"heatmap\",\"colorbar\":{\"outlinewidth\":0,\"ticks\":\"\"},\"colorscale\":[[0.0,\"#0d0887\"],[0.1111111111111111,\"#46039f\"],[0.2222222222222222,\"#7201a8\"],[0.3333333333333333,\"#9c179e\"],[0.4444444444444444,\"#bd3786\"],[0.5555555555555556,\"#d8576b\"],[0.6666666666666666,\"#ed7953\"],[0.7777777777777778,\"#fb9f3a\"],[0.8888888888888888,\"#fdca26\"],[1.0,\"#f0f921\"]]}],\"heatmapgl\":[{\"type\":\"heatmapgl\",\"colorbar\":{\"outlinewidth\":0,\"ticks\":\"\"},\"colorscale\":[[0.0,\"#0d0887\"],[0.1111111111111111,\"#46039f\"],[0.2222222222222222,\"#7201a8\"],[0.3333333333333333,\"#9c179e\"],[0.4444444444444444,\"#bd3786\"],[0.5555555555555556,\"#d8576b\"],[0.6666666666666666,\"#ed7953\"],[0.7777777777777778,\"#fb9f3a\"],[0.8888888888888888,\"#fdca26\"],[1.0,\"#f0f921\"]]}],\"contourcarpet\":[{\"type\":\"contourcarpet\",\"colorbar\":{\"outlinewidth\":0,\"ticks\":\"\"}}],\"contour\":[{\"type\":\"contour\",\"colorbar\":{\"outlinewidth\":0,\"ticks\":\"\"},\"colorscale\":[[0.0,\"#0d0887\"],[0.1111111111111111,\"#46039f\"],[0.2222222222222222,\"#7201a8\"],[0.3333333333333333,\"#9c179e\"],[0.4444444444444444,\"#bd3786\"],[0.5555555555555556,\"#d8576b\"],[0.6666666666666666,\"#ed7953\"],[0.7777777777777778,\"#fb9f3a\"],[0.8888888888888888,\"#fdca26\"],[1.0,\"#f0f921\"]]}],\"surface\":[{\"type\":\"surface\",\"colorbar\":{\"outlinewidth\":0,\"ticks\":\"\"},\"colorscale\":[[0.0,\"#0d0887\"],[0.1111111111111111,\"#46039f\"],[0.2222222222222222,\"#7201a8\"],[0.3333333333333333,\"#9c179e\"],[0.4444444444444444,\"#bd3786\"],[0.5555555555555556,\"#d8576b\"],[0.6666666666666666,\"#ed7953\"],[0.7777777777777778,\"#fb9f3a\"],[0.8888888888888888,\"#fdca26\"],[1.0,\"#f0f921\"]]}],\"mesh3d\":[{\"type\":\"mesh3d\",\"colorbar\":{\"outlinewidth\":0,\"ticks\":\"\"}}],\"scatter\":[{\"fillpattern\":{\"fillmode\":\"overlay\",\"size\":10,\"solidity\":0.2},\"type\":\"scatter\"}],\"parcoords\":[{\"type\":\"parcoords\",\"line\":{\"colorbar\":{\"outlinewidth\":0,\"ticks\":\"\"}}}],\"scatterpolargl\":[{\"type\":\"scatterpolargl\",\"marker\":{\"colorbar\":{\"outlinewidth\":0,\"ticks\":\"\"}}}],\"bar\":[{\"error_x\":{\"color\":\"#2a3f5f\"},\"error_y\":{\"color\":\"#2a3f5f\"},\"marker\":{\"line\":{\"color\":\"#E5ECF6\",\"width\":0.5},\"pattern\":{\"fillmode\":\"overlay\",\"size\":10,\"solidity\":0.2}},\"type\":\"bar\"}],\"scattergeo\":[{\"type\":\"scattergeo\",\"marker\":{\"colorbar\":{\"outlinewidth\":0,\"ticks\":\"\"}}}],\"scatterpolar\":[{\"type\":\"scatterpolar\",\"marker\":{\"colorbar\":{\"outlinewidth\":0,\"ticks\":\"\"}}}],\"histogram\":[{\"marker\":{\"pattern\":{\"fillmode\":\"overlay\",\"size\":10,\"solidity\":0.2}},\"type\":\"histogram\"}],\"scattergl\":[{\"type\":\"scattergl\",\"marker\":{\"colorbar\":{\"outlinewidth\":0,\"ticks\":\"\"}}}],\"scatter3d\":[{\"type\":\"scatter3d\",\"line\":{\"colorbar\":{\"outlinewidth\":0,\"ticks\":\"\"}},\"marker\":{\"colorbar\":{\"outlinewidth\":0,\"ticks\":\"\"}}}],\"scattermapbox\":[{\"type\":\"scattermapbox\",\"marker\":{\"colorbar\":{\"outlinewidth\":0,\"ticks\":\"\"}}}],\"scatterternary\":[{\"type\":\"scatterternary\",\"marker\":{\"colorbar\":{\"outlinewidth\":0,\"ticks\":\"\"}}}],\"scattercarpet\":[{\"type\":\"scattercarpet\",\"marker\":{\"colorbar\":{\"outlinewidth\":0,\"ticks\":\"\"}}}],\"carpet\":[{\"aaxis\":{\"endlinecolor\":\"#2a3f5f\",\"gridcolor\":\"white\",\"linecolor\":\"white\",\"minorgridcolor\":\"white\",\"startlinecolor\":\"#2a3f5f\"},\"baxis\":{\"endlinecolor\":\"#2a3f5f\",\"gridcolor\":\"white\",\"linecolor\":\"white\",\"minorgridcolor\":\"white\",\"startlinecolor\":\"#2a3f5f\"},\"type\":\"carpet\"}],\"table\":[{\"cells\":{\"fill\":{\"color\":\"#EBF0F8\"},\"line\":{\"color\":\"white\"}},\"header\":{\"fill\":{\"color\":\"#C8D4E3\"},\"line\":{\"color\":\"white\"}},\"type\":\"table\"}],\"barpolar\":[{\"marker\":{\"line\":{\"color\":\"#E5ECF6\",\"width\":0.5},\"pattern\":{\"fillmode\":\"overlay\",\"size\":10,\"solidity\":0.2}},\"type\":\"barpolar\"}],\"pie\":[{\"automargin\":true,\"type\":\"pie\"}]},\"layout\":{\"autotypenumbers\":\"strict\",\"colorway\":[\"#636efa\",\"#EF553B\",\"#00cc96\",\"#ab63fa\",\"#FFA15A\",\"#19d3f3\",\"#FF6692\",\"#B6E880\",\"#FF97FF\",\"#FECB52\"],\"font\":{\"color\":\"#2a3f5f\"},\"hovermode\":\"closest\",\"hoverlabel\":{\"align\":\"left\"},\"paper_bgcolor\":\"white\",\"plot_bgcolor\":\"#E5ECF6\",\"polar\":{\"bgcolor\":\"#E5ECF6\",\"angularaxis\":{\"gridcolor\":\"white\",\"linecolor\":\"white\",\"ticks\":\"\"},\"radialaxis\":{\"gridcolor\":\"white\",\"linecolor\":\"white\",\"ticks\":\"\"}},\"ternary\":{\"bgcolor\":\"#E5ECF6\",\"aaxis\":{\"gridcolor\":\"white\",\"linecolor\":\"white\",\"ticks\":\"\"},\"baxis\":{\"gridcolor\":\"white\",\"linecolor\":\"white\",\"ticks\":\"\"},\"caxis\":{\"gridcolor\":\"white\",\"linecolor\":\"white\",\"ticks\":\"\"}},\"coloraxis\":{\"colorbar\":{\"outlinewidth\":0,\"ticks\":\"\"}},\"colorscale\":{\"sequential\":[[0.0,\"#0d0887\"],[0.1111111111111111,\"#46039f\"],[0.2222222222222222,\"#7201a8\"],[0.3333333333333333,\"#9c179e\"],[0.4444444444444444,\"#bd3786\"],[0.5555555555555556,\"#d8576b\"],[0.6666666666666666,\"#ed7953\"],[0.7777777777777778,\"#fb9f3a\"],[0.8888888888888888,\"#fdca26\"],[1.0,\"#f0f921\"]],\"sequentialminus\":[[0.0,\"#0d0887\"],[0.1111111111111111,\"#46039f\"],[0.2222222222222222,\"#7201a8\"],[0.3333333333333333,\"#9c179e\"],[0.4444444444444444,\"#bd3786\"],[0.5555555555555556,\"#d8576b\"],[0.6666666666666666,\"#ed7953\"],[0.7777777777777778,\"#fb9f3a\"],[0.8888888888888888,\"#fdca26\"],[1.0,\"#f0f921\"]],\"diverging\":[[0,\"#8e0152\"],[0.1,\"#c51b7d\"],[0.2,\"#de77ae\"],[0.3,\"#f1b6da\"],[0.4,\"#fde0ef\"],[0.5,\"#f7f7f7\"],[0.6,\"#e6f5d0\"],[0.7,\"#b8e186\"],[0.8,\"#7fbc41\"],[0.9,\"#4d9221\"],[1,\"#276419\"]]},\"xaxis\":{\"gridcolor\":\"white\",\"linecolor\":\"white\",\"ticks\":\"\",\"title\":{\"standoff\":15},\"zerolinecolor\":\"white\",\"automargin\":true,\"zerolinewidth\":2},\"yaxis\":{\"gridcolor\":\"white\",\"linecolor\":\"white\",\"ticks\":\"\",\"title\":{\"standoff\":15},\"zerolinecolor\":\"white\",\"automargin\":true,\"zerolinewidth\":2},\"scene\":{\"xaxis\":{\"backgroundcolor\":\"#E5ECF6\",\"gridcolor\":\"white\",\"linecolor\":\"white\",\"showbackground\":true,\"ticks\":\"\",\"zerolinecolor\":\"white\",\"gridwidth\":2},\"yaxis\":{\"backgroundcolor\":\"#E5ECF6\",\"gridcolor\":\"white\",\"linecolor\":\"white\",\"showbackground\":true,\"ticks\":\"\",\"zerolinecolor\":\"white\",\"gridwidth\":2},\"zaxis\":{\"backgroundcolor\":\"#E5ECF6\",\"gridcolor\":\"white\",\"linecolor\":\"white\",\"showbackground\":true,\"ticks\":\"\",\"zerolinecolor\":\"white\",\"gridwidth\":2}},\"shapedefaults\":{\"line\":{\"color\":\"#2a3f5f\"}},\"annotationdefaults\":{\"arrowcolor\":\"#2a3f5f\",\"arrowhead\":0,\"arrowwidth\":1},\"geo\":{\"bgcolor\":\"white\",\"landcolor\":\"#E5ECF6\",\"subunitcolor\":\"white\",\"showland\":true,\"showlakes\":true,\"lakecolor\":\"white\"},\"title\":{\"x\":0.05},\"mapbox\":{\"style\":\"light\"}}},\"title\":{\"text\":\"TunedLens (state-spaces\\u002fmamba-130m) cross_entropy\",\"x\":0.5},\"width\":840,\"xaxis\":{\"title\":{\"text\":\"Input\"}},\"yaxis\":{\"title\":{\"text\":\"Layer\"}}},                        {\"responsive\": true}                    ).then(function(){\n",
       "                            \n",
       "var gd = document.getElementById('f3dfe7d2-4937-4c58-b895-ada2841eb98e');\n",
       "var x = new MutationObserver(function (mutations, observer) {{\n",
       "        var display = window.getComputedStyle(gd).display;\n",
       "        if (!display || display === 'none') {{\n",
       "            console.log([gd, 'removed!']);\n",
       "            Plotly.purge(gd);\n",
       "            observer.disconnect();\n",
       "        }}\n",
       "}});\n",
       "\n",
       "// Listen for the removal of the full notebook cells\n",
       "var notebookContainer = gd.closest('#notebook-container');\n",
       "if (notebookContainer) {{\n",
       "    x.observe(notebookContainer, {childList: true});\n",
       "}}\n",
       "\n",
       "// Listen for the clearing of the current output cell\n",
       "var outputEl = gd.closest('.output');\n",
       "if (outputEl) {{\n",
       "    x.observe(outputEl, {childList: true});\n",
       "}}\n",
       "\n",
       "                        })                };                });            </script>        </div>"
      ]
     },
     "metadata": {},
     "output_type": "display_data"
    },
    {
     "data": {
      "application/vnd.plotly.v1+json": {
       "config": {
        "plotlyServerURL": "https://plot.ly"
       },
       "data": [
        {
         "colorbar": {
          "title": {
           "side": "right",
           "text": "Cross Entropy (nats)"
          }
         },
         "colorscale": [
          [
           0,
           "rgb(5,48,97)"
          ],
          [
           0.1,
           "rgb(33,102,172)"
          ],
          [
           0.2,
           "rgb(67,147,195)"
          ],
          [
           0.3,
           "rgb(146,197,222)"
          ],
          [
           0.4,
           "rgb(209,229,240)"
          ],
          [
           0.5,
           "rgb(247,247,247)"
          ],
          [
           0.6,
           "rgb(253,219,199)"
          ],
          [
           0.7,
           "rgb(244,165,130)"
          ],
          [
           0.8,
           "rgb(214,96,77)"
          ],
          [
           0.9,
           "rgb(178,24,43)"
          ],
          [
           1,
           "rgb(103,0,31)"
          ]
         ],
         "customdata": [
          [
           [
            "      _I",
            "  99.89%",
            "       I",
            "   0.11%",
            "     _my",
            "   0.00%",
            "      _i",
            "   0.00%",
            "       i",
            "   0.00%",
            "      _(",
            "   0.00%",
            "       ,",
            "   0.00%",
            "     _me",
            "   0.00%",
            "       -",
            "   0.00%",
            "      \\n",
            "   0.00%"
           ],
           [
            "  _start",
            " 100.00%",
            "   start",
            "   0.00%",
            "  _Start",
            "   0.00%",
            " _starts",
            "   0.00%",
            " _start…",
            "   0.00%",
            " _start…",
            "   0.00%",
            "  _begin",
            "   0.00%",
            "   Start",
            "   0.00%",
            "  _begun",
            "   0.00%",
            " _begins",
            "   0.00%"
           ],
           [
            "   _like",
            " 100.00%",
            "    like",
            "   0.00%",
            "   _Like",
            "   0.00%",
            "    Like",
            "   0.00%",
            "   _LIKE",
            "   0.00%",
            "   _such",
            "   0.00%",
            "     _as",
            "   0.00%",
            "       ,",
            "   0.00%",
            "    _and",
            "   0.00%",
            "      _a",
            "   0.00%"
           ],
           [
            "   _this",
            " 100.00%",
            "  _these",
            "   0.00%",
            "    _the",
            "   0.00%",
            "      _a",
            "   0.00%",
            "    this",
            "   0.00%",
            "       ,",
            "   0.00%",
            "   _This",
            "   0.00%",
            "     _in",
            "   0.00%",
            "      _(",
            "   0.00%",
            "    _and",
            "   0.00%"
           ],
           [
            "    _and",
            " 100.00%",
            "       ,",
            "   0.00%",
            "     _in",
            "   0.00%",
            "     _or",
            "   0.00%",
            "      _a",
            "   0.00%",
            "      _(",
            "   0.00%",
            "    _the",
            "   0.00%",
            "     _to",
            "   0.00%",
            "     _as",
            "   0.00%",
            "    _for",
            "   0.00%"
           ],
           [
            "    _end",
            " 100.00%",
            "    _End",
            "   0.00%",
            "     end",
            "   0.00%",
            "   _ends",
            "   0.00%",
            "     End",
            "   0.00%",
            "    _END",
            "   0.00%",
            "  _ended",
            "   0.00%",
            " _ending",
            "   0.00%",
            "     END",
            "   0.00%",
            "    ends",
            "   0.00%"
           ],
           [
            "   _like",
            " 100.00%",
            "    like",
            "   0.00%",
            "   _Like",
            "   0.00%",
            "    Like",
            "   0.00%",
            "   _LIKE",
            "   0.00%",
            "   _such",
            "   0.00%",
            "     _as",
            "   0.00%",
            "       ,",
            "   0.00%",
            " _simil…",
            "   0.00%",
            "    _and",
            "   0.00%"
           ],
           [
            "   _that",
            " 100.00%",
            "    _the",
            "   0.00%",
            "      _a",
            "   0.00%",
            "       ,",
            "   0.00%",
            "   _That",
            "   0.00%",
            "     _in",
            "   0.00%",
            "    that",
            "   0.00%",
            "   _this",
            "   0.00%",
            "    _and",
            "   0.00%",
            "      _(",
            "   0.00%"
           ]
          ],
          [
           [
            "      _I",
            " 100.00%",
            "       I",
            "   0.00%",
            "       ,",
            "   0.00%",
            "      _i",
            "   0.00%",
            "      _(",
            "   0.00%",
            "     _my",
            "   0.00%",
            "       i",
            "   0.00%",
            "       -",
            "   0.00%",
            "    _and",
            "   0.00%",
            "      \\n",
            "   0.00%"
           ],
           [
            "  _start",
            " 100.00%",
            " _starts",
            "   0.00%",
            "  _Start",
            "   0.00%",
            " _start…",
            "   0.00%",
            "   start",
            "   0.00%",
            " _start…",
            "   0.00%",
            "  _begin",
            "   0.00%",
            " _begin…",
            "   0.00%",
            " _begins",
            "   0.00%",
            "    _end",
            "   0.00%"
           ],
           [
            "   _like",
            " 100.00%",
            "    like",
            "   0.00%",
            "       ,",
            "   0.00%",
            "     _in",
            "   0.00%",
            "     _as",
            "   0.00%",
            "      _a",
            "   0.00%",
            "    _and",
            "   0.00%",
            "       -",
            "   0.00%",
            "   _Like",
            "   0.00%",
            "      _(",
            "   0.00%"
           ],
           [
            "   _this",
            " 100.00%",
            "       ,",
            "   0.00%",
            "      _a",
            "   0.00%",
            "    _the",
            "   0.00%",
            "      _(",
            "   0.00%",
            "     _in",
            "   0.00%",
            "    _and",
            "   0.00%",
            "      \\n",
            "   0.00%",
            "     _is",
            "   0.00%",
            "  _these",
            "   0.00%"
           ],
           [
            "    _and",
            " 100.00%",
            "       ,",
            "   0.00%",
            "      _(",
            "   0.00%",
            "      _a",
            "   0.00%",
            "     _in",
            "   0.00%",
            "    _the",
            "   0.00%",
            "     _or",
            "   0.00%",
            "     _to",
            "   0.00%",
            "     _as",
            "   0.00%",
            "       /",
            "   0.00%"
           ],
           [
            "    _end",
            " 100.00%",
            "    _End",
            "   0.00%",
            "     end",
            "   0.00%",
            "   _ends",
            "   0.00%",
            "     End",
            "   0.00%",
            "  _ended",
            "   0.00%",
            "    _END",
            "   0.00%",
            " _ending",
            "   0.00%",
            "     END",
            "   0.00%",
            "    _all",
            "   0.00%"
           ],
           [
            "   _like",
            " 100.00%",
            "    like",
            "   0.00%",
            "       ,",
            "   0.00%",
            "     _as",
            "   0.00%",
            "     _in",
            "   0.00%",
            "   _Like",
            "   0.00%",
            "      _a",
            "   0.00%",
            "    _and",
            "   0.00%",
            "       -",
            "   0.00%",
            "      _(",
            "   0.00%"
           ],
           [
            "   _that",
            " 100.00%",
            "       ,",
            "   0.00%",
            "      _a",
            "   0.00%",
            "    _the",
            "   0.00%",
            "      _(",
            "   0.00%",
            "     _in",
            "   0.00%",
            "    _and",
            "   0.00%",
            "      \\n",
            "   0.00%",
            "      _I",
            "   0.00%",
            "       .",
            "   0.00%"
           ]
          ],
          [
           [
            "      _I",
            " 100.00%",
            "       I",
            "   0.00%",
            "       ,",
            "   0.00%",
            "      _(",
            "   0.00%",
            "    _and",
            "   0.00%",
            "     _my",
            "   0.00%",
            "       -",
            "   0.00%",
            "      _i",
            "   0.00%",
            "     _in",
            "   0.00%",
            "      \\n",
            "   0.00%"
           ],
           [
            "  _start",
            " 100.00%",
            " _starts",
            "   0.00%",
            " _start…",
            "   0.00%",
            "       ,",
            "   0.00%",
            " _start…",
            "   0.00%",
            "     _in",
            "   0.00%",
            "  _Start",
            "   0.00%",
            "    _and",
            "   0.00%",
            "   start",
            "   0.00%",
            "    _end",
            "   0.00%"
           ],
           [
            "   _like",
            " 100.00%",
            "       ,",
            "   0.00%",
            "     _as",
            "   0.00%",
            "      _(",
            "   0.00%",
            "     _in",
            "   0.00%",
            "    _and",
            "   0.00%",
            "       -",
            "   0.00%",
            "      _a",
            "   0.00%",
            "      \\n",
            "   0.00%",
            "    _the",
            "   0.00%"
           ],
           [
            "   _this",
            "  99.33%",
            "       ,",
            "   0.65%",
            "      _(",
            "   0.01%",
            "     _in",
            "   0.00%",
            "    _and",
            "   0.00%",
            "      \\n",
            "   0.00%",
            "       .",
            "   0.00%",
            "      _a",
            "   0.00%",
            "    _the",
            "   0.00%",
            "       -",
            "   0.00%"
           ],
           [
            "    _and",
            " 100.00%",
            "       ,",
            "   0.00%",
            "      _(",
            "   0.00%",
            "     _in",
            "   0.00%",
            "      _a",
            "   0.00%",
            "    _the",
            "   0.00%",
            "     _or",
            "   0.00%",
            "     _to",
            "   0.00%",
            "       /",
            "   0.00%",
            "     _as",
            "   0.00%"
           ],
           [
            "    _end",
            " 100.00%",
            "    _End",
            "   0.00%",
            "     end",
            "   0.00%",
            "   _ends",
            "   0.00%",
            "  _ended",
            "   0.00%",
            "       ,",
            "   0.00%",
            "     End",
            "   0.00%",
            "    _all",
            "   0.00%",
            "     _in",
            "   0.00%",
            "     _of",
            "   0.00%"
           ],
           [
            "   _like",
            " 100.00%",
            "       ,",
            "   0.00%",
            "     _as",
            "   0.00%",
            "     _in",
            "   0.00%",
            "       -",
            "   0.00%",
            "    _and",
            "   0.00%",
            "      _(",
            "   0.00%",
            "      \\n",
            "   0.00%",
            "      _a",
            "   0.00%",
            "    like",
            "   0.00%"
           ],
           [
            "       ,",
            "  97.53%",
            "   _that",
            "   1.61%",
            "      _(",
            "   0.86%",
            "     _in",
            "   0.00%",
            "      \\n",
            "   0.00%",
            "    _and",
            "   0.00%",
            "       .",
            "   0.00%",
            "      _a",
            "   0.00%",
            "    _the",
            "   0.00%",
            "       -",
            "   0.00%"
           ]
          ],
          [
           [
            "      _I",
            " 100.00%",
            "       ,",
            "   0.00%",
            "       I",
            "   0.00%",
            "      _(",
            "   0.00%",
            "       -",
            "   0.00%",
            "    _and",
            "   0.00%",
            "     _in",
            "   0.00%",
            "      \\n",
            "   0.00%",
            "       .",
            "   0.00%",
            "       /",
            "   0.00%"
           ],
           [
            "  _start",
            "  99.92%",
            "       ,",
            "   0.07%",
            "     _in",
            "   0.00%",
            "    _and",
            "   0.00%",
            "      _a",
            "   0.00%",
            "     _to",
            "   0.00%",
            "      _(",
            "   0.00%",
            "     _on",
            "   0.00%",
            "    _the",
            "   0.00%",
            "     _as",
            "   0.00%"
           ],
           [
            "   _like",
            " 100.00%",
            "       ,",
            "   0.00%",
            "     _in",
            "   0.00%",
            "    _and",
            "   0.00%",
            "      _(",
            "   0.00%",
            "       -",
            "   0.00%",
            "     _as",
            "   0.00%",
            "      _a",
            "   0.00%",
            "    _the",
            "   0.00%",
            "      \\n",
            "   0.00%"
           ],
           [
            "       ,",
            "  97.92%",
            "      _(",
            "   2.04%",
            "   _this",
            "   0.03%",
            "     _in",
            "   0.00%",
            "    _and",
            "   0.00%",
            "      \\n",
            "   0.00%",
            "       .",
            "   0.00%",
            "      _a",
            "   0.00%",
            "       -",
            "   0.00%",
            "    _the",
            "   0.00%"
           ],
           [
            "    _and",
            " 100.00%",
            "       ,",
            "   0.00%",
            "      _(",
            "   0.00%",
            "     _in",
            "   0.00%",
            "      _a",
            "   0.00%",
            "    _the",
            "   0.00%",
            "     _to",
            "   0.00%",
            "     _or",
            "   0.00%",
            "     _as",
            "   0.00%",
            "      \\n",
            "   0.00%"
           ],
           [
            "    _end",
            " 100.00%",
            "       ,",
            "   0.00%",
            "     _in",
            "   0.00%",
            "    _and",
            "   0.00%",
            "    _the",
            "   0.00%",
            "    _End",
            "   0.00%",
            "     _of",
            "   0.00%",
            "     _to",
            "   0.00%",
            "    _all",
            "   0.00%",
            "      _a",
            "   0.00%"
           ],
           [
            "   _like",
            " 100.00%",
            "       ,",
            "   0.00%",
            "    _and",
            "   0.00%",
            "     _in",
            "   0.00%",
            "       -",
            "   0.00%",
            "     _as",
            "   0.00%",
            "      _(",
            "   0.00%",
            "      _a",
            "   0.00%",
            "      \\n",
            "   0.00%",
            "     _to",
            "   0.00%"
           ],
           [
            "       ,",
            " 100.00%",
            "      _(",
            "   0.00%",
            "     _in",
            "   0.00%",
            "   _that",
            "   0.00%",
            "       .",
            "   0.00%",
            "    _and",
            "   0.00%",
            "      \\n",
            "   0.00%",
            "       -",
            "   0.00%",
            "      _a",
            "   0.00%",
            "       :",
            "   0.00%"
           ]
          ],
          [
           [
            "      _I",
            "  95.60%",
            "       ,",
            "   4.39%",
            "      _(",
            "   0.00%",
            "    _and",
            "   0.00%",
            "      \\n",
            "   0.00%",
            "     _in",
            "   0.00%",
            "       -",
            "   0.00%",
            "       .",
            "   0.00%",
            "       /",
            "   0.00%",
            "       :",
            "   0.00%"
           ],
           [
            "  _start",
            "  96.64%",
            "       ,",
            "   3.32%",
            "     _in",
            "   0.02%",
            "    _and",
            "   0.01%",
            "      _(",
            "   0.00%",
            "     _to",
            "   0.00%",
            "      _a",
            "   0.00%",
            "    _the",
            "   0.00%",
            "     _at",
            "   0.00%",
            "     _on",
            "   0.00%"
           ],
           [
            "   _like",
            "  99.81%",
            "      _a",
            "   0.11%",
            "       ,",
            "   0.04%",
            "     _in",
            "   0.02%",
            "      _(",
            "   0.01%",
            "    _and",
            "   0.01%",
            "     _as",
            "   0.01%",
            "       -",
            "   0.00%",
            "     _to",
            "   0.00%",
            "    _the",
            "   0.00%"
           ],
           [
            "       ,",
            "  61.13%",
            "      _(",
            "  38.87%",
            "     _in",
            "   0.00%",
            "      \\n",
            "   0.00%",
            "    _and",
            "   0.00%",
            "       -",
            "   0.00%",
            "       :",
            "   0.00%",
            "       .",
            "   0.00%",
            "      _a",
            "   0.00%",
            "      _\"",
            "   0.00%"
           ],
           [
            "    _and",
            " 100.00%",
            "       ,",
            "   0.00%",
            "      _(",
            "   0.00%",
            "     _in",
            "   0.00%",
            "      _a",
            "   0.00%",
            "    _the",
            "   0.00%",
            "     _to",
            "   0.00%",
            "     _as",
            "   0.00%",
            "      \\n",
            "   0.00%",
            "       -",
            "   0.00%"
           ],
           [
            "    _end",
            " 100.00%",
            "       ,",
            "   0.00%",
            "    _the",
            "   0.00%",
            "     _in",
            "   0.00%",
            "     _of",
            "   0.00%",
            "    _and",
            "   0.00%",
            "      _(",
            "   0.00%",
            "    _all",
            "   0.00%",
            "      _a",
            "   0.00%",
            "     _to",
            "   0.00%"
           ],
           [
            "   _like",
            "  99.67%",
            "       ,",
            "   0.32%",
            "    _and",
            "   0.01%",
            "     _in",
            "   0.00%",
            "     _as",
            "   0.00%",
            "       -",
            "   0.00%",
            "      _(",
            "   0.00%",
            "      _a",
            "   0.00%",
            "     _to",
            "   0.00%",
            "    _the",
            "   0.00%"
           ],
           [
            "       ,",
            " 100.00%",
            "      _(",
            "   0.00%",
            "       .",
            "   0.00%",
            "     _in",
            "   0.00%",
            "    _and",
            "   0.00%",
            "      \\n",
            "   0.00%",
            "   _that",
            "   0.00%",
            "       -",
            "   0.00%",
            "       :",
            "   0.00%",
            "      _a",
            "   0.00%"
           ]
          ],
          [
           [
            "       ,",
            "  99.33%",
            "      _I",
            "   0.65%",
            "    _and",
            "   0.02%",
            "      _(",
            "   0.00%",
            "     _in",
            "   0.00%",
            "       -",
            "   0.00%",
            "      \\n",
            "   0.00%",
            "       .",
            "   0.00%",
            "       /",
            "   0.00%",
            "      _\"",
            "   0.00%"
           ],
           [
            "       ,",
            "  98.98%",
            "    _and",
            "   0.68%",
            "     _in",
            "   0.23%",
            "      _(",
            "   0.08%",
            "     _to",
            "   0.02%",
            "  _start",
            "   0.01%",
            "      _a",
            "   0.00%",
            "    _the",
            "   0.00%",
            "     _on",
            "   0.00%",
            "       -",
            "   0.00%"
           ],
           [
            "       ,",
            "  82.65%",
            "    _and",
            "   8.69%",
            "   _like",
            "   2.71%",
            "      _a",
            "   2.57%",
            "     _in",
            "   1.69%",
            "      _(",
            "   1.43%",
            "     _as",
            "   0.15%",
            "       -",
            "   0.12%",
            "     _to",
            "   0.00%",
            "    _the",
            "   0.00%"
           ],
           [
            "       ,",
            "  90.95%",
            "      _(",
            "   9.04%",
            "    _and",
            "   0.01%",
            "     _in",
            "   0.00%",
            "      \\n",
            "   0.00%",
            "       .",
            "   0.00%",
            "       -",
            "   0.00%",
            "       :",
            "   0.00%",
            "      _a",
            "   0.00%",
            "     _to",
            "   0.00%"
           ],
           [
            "    _and",
            "  77.67%",
            "       ,",
            "  14.06%",
            "      _(",
            "   7.72%",
            "     _in",
            "   0.55%",
            "      _a",
            "   0.01%",
            "      _I",
            "   0.00%",
            "       /",
            "   0.00%",
            "    _the",
            "   0.00%",
            "     _to",
            "   0.00%",
            "       -",
            "   0.00%"
           ],
           [
            "    _end",
            " 100.00%",
            "       ,",
            "   0.00%",
            "      _(",
            "   0.00%",
            "     _in",
            "   0.00%",
            "    _the",
            "   0.00%",
            "    _and",
            "   0.00%",
            "      _a",
            "   0.00%",
            "     _to",
            "   0.00%",
            "     _of",
            "   0.00%",
            "       -",
            "   0.00%"
           ],
           [
            "       ,",
            "  89.29%",
            "   _like",
            "   9.14%",
            "      _(",
            "   0.89%",
            "     _in",
            "   0.32%",
            "       -",
            "   0.18%",
            "    _and",
            "   0.13%",
            "     _as",
            "   0.02%",
            "      _a",
            "   0.01%",
            "     _to",
            "   0.00%",
            "    _the",
            "   0.00%"
           ],
           [
            "       ,",
            "  95.79%",
            "      _(",
            "   4.17%",
            "       .",
            "   0.04%",
            "     _in",
            "   0.00%",
            "    _and",
            "   0.00%",
            "      \\n",
            "   0.00%",
            "       -",
            "   0.00%",
            "       :",
            "   0.00%",
            "    _for",
            "   0.00%",
            "      _a",
            "   0.00%"
           ]
          ],
          [
           [
            "       ,",
            "  99.99%",
            "    _and",
            "   0.01%",
            "      _(",
            "   0.00%",
            "      _I",
            "   0.00%",
            "       -",
            "   0.00%",
            "     _in",
            "   0.00%",
            "       .",
            "   0.00%",
            "      \\n",
            "   0.00%",
            "       /",
            "   0.00%",
            "      _\"",
            "   0.00%"
           ],
           [
            "       ,",
            "  95.12%",
            "    _and",
            "   4.24%",
            "     _in",
            "   0.52%",
            "      _(",
            "   0.10%",
            "     _to",
            "   0.01%",
            "      _a",
            "   0.00%",
            "       -",
            "   0.00%",
            "    _the",
            "   0.00%",
            "     _on",
            "   0.00%",
            "     _at",
            "   0.00%"
           ],
           [
            "       ,",
            "  91.64%",
            "      _a",
            "   5.43%",
            "    _and",
            "   1.56%",
            "     _in",
            "   1.09%",
            "      _(",
            "   0.23%",
            "       -",
            "   0.04%",
            "     _as",
            "   0.00%",
            "     _to",
            "   0.00%",
            "   _like",
            "   0.00%",
            "    _the",
            "   0.00%"
           ],
           [
            "       ,",
            "  99.84%",
            "      _(",
            "   0.16%",
            "     _in",
            "   0.00%",
            "    _and",
            "   0.00%",
            "       .",
            "   0.00%",
            "       :",
            "   0.00%",
            "      \\n",
            "   0.00%",
            "       -",
            "   0.00%",
            "     _is",
            "   0.00%",
            "      _a",
            "   0.00%"
           ],
           [
            "       ,",
            "  99.44%",
            "    _and",
            "   0.37%",
            "      _(",
            "   0.18%",
            "     _in",
            "   0.00%",
            "      _a",
            "   0.00%",
            "      _I",
            "   0.00%",
            "       /",
            "   0.00%",
            "      \\n",
            "   0.00%",
            "       -",
            "   0.00%",
            "    _the",
            "   0.00%"
           ],
           [
            "    _end",
            "  94.92%",
            "       ,",
            "   4.96%",
            "      _(",
            "   0.07%",
            "     _in",
            "   0.02%",
            "    _and",
            "   0.01%",
            "       -",
            "   0.01%",
            "    _the",
            "   0.00%",
            "    _all",
            "   0.00%",
            "      _a",
            "   0.00%",
            "      _P",
            "   0.00%"
           ],
           [
            "       ,",
            "  98.88%",
            "     _in",
            "   0.72%",
            "      _(",
            "   0.31%",
            "    _and",
            "   0.04%",
            "      _a",
            "   0.04%",
            "       -",
            "   0.00%",
            "   _like",
            "   0.00%",
            "     _as",
            "   0.00%",
            "    _the",
            "   0.00%",
            "      \\n",
            "   0.00%"
           ],
           [
            "       ,",
            "  99.82%",
            "      _(",
            "   0.17%",
            "       .",
            "   0.01%",
            "     _in",
            "   0.00%",
            "    _and",
            "   0.00%",
            "      \\n",
            "   0.00%",
            "       :",
            "   0.00%",
            "       -",
            "   0.00%",
            "     _as",
            "   0.00%",
            "    _for",
            "   0.00%"
           ]
          ],
          [
           [
            "       ,",
            "  99.97%",
            "    _and",
            "   0.02%",
            "      _(",
            "   0.01%",
            "     _in",
            "   0.00%",
            "       -",
            "   0.00%",
            "      \\n",
            "   0.00%",
            "      _I",
            "   0.00%",
            "       .",
            "   0.00%",
            "      _a",
            "   0.00%",
            "      _\"",
            "   0.00%"
           ],
           [
            "       ,",
            "  97.54%",
            "    _and",
            "   2.11%",
            "     _in",
            "   0.19%",
            "      _(",
            "   0.16%",
            "     _to",
            "   0.00%",
            "      _a",
            "   0.00%",
            "    _the",
            "   0.00%",
            "       -",
            "   0.00%",
            "     _at",
            "   0.00%",
            "      \\n",
            "   0.00%"
           ],
           [
            "      _a",
            "  48.74%",
            "       ,",
            "  48.10%",
            "     _in",
            "   1.98%",
            "    _and",
            "   0.62%",
            "      _(",
            "   0.54%",
            "       -",
            "   0.01%",
            "     _as",
            "   0.00%",
            "     _to",
            "   0.00%",
            "    _the",
            "   0.00%",
            "      \\n",
            "   0.00%"
           ],
           [
            "       ,",
            "  99.87%",
            "      _(",
            "   0.12%",
            "       :",
            "   0.00%",
            "       .",
            "   0.00%",
            "     _in",
            "   0.00%",
            "      \\n",
            "   0.00%",
            "    _and",
            "   0.00%",
            "       -",
            "   0.00%",
            "     _is",
            "   0.00%",
            "      _\"",
            "   0.00%"
           ],
           [
            "       ,",
            "  98.10%",
            "      _(",
            "   1.09%",
            "    _and",
            "   0.80%",
            "     _in",
            "   0.01%",
            "      _I",
            "   0.00%",
            "      _a",
            "   0.00%",
            "      \\n",
            "   0.00%",
            "       /",
            "   0.00%",
            "    _the",
            "   0.00%",
            "     _to",
            "   0.00%"
           ],
           [
            "       ,",
            "  69.31%",
            "     _in",
            "  18.44%",
            "      _(",
            "  10.37%",
            "    _and",
            "   1.84%",
            "       -",
            "   0.02%",
            "     _to",
            "   0.00%",
            "   _with",
            "   0.00%",
            "     _at",
            "   0.00%",
            "    _end",
            "   0.00%",
            "    _the",
            "   0.00%"
           ],
           [
            "       ,",
            "  98.91%",
            "     _in",
            "   0.97%",
            "      _a",
            "   0.05%",
            "      _(",
            "   0.04%",
            "    _and",
            "   0.02%",
            "       -",
            "   0.00%",
            "      \\n",
            "   0.00%",
            "       .",
            "   0.00%",
            "     _to",
            "   0.00%",
            "    _the",
            "   0.00%"
           ],
           [
            "       ,",
            "  99.87%",
            "      _(",
            "   0.12%",
            "       .",
            "   0.00%",
            "    _and",
            "   0.00%",
            "      \\n",
            "   0.00%",
            "     _in",
            "   0.00%",
            "       :",
            "   0.00%",
            "       -",
            "   0.00%",
            "     _is",
            "   0.00%",
            "     _as",
            "   0.00%"
           ]
          ],
          [
           [
            "       ,",
            "  99.93%",
            "      _(",
            "   0.06%",
            "    _and",
            "   0.02%",
            "     _in",
            "   0.00%",
            "       -",
            "   0.00%",
            "      \\n",
            "   0.00%",
            "       .",
            "   0.00%",
            "      _I",
            "   0.00%",
            "      _a",
            "   0.00%",
            "     _to",
            "   0.00%"
           ],
           [
            "       ,",
            "  98.54%",
            "    _and",
            "   1.38%",
            "     _in",
            "   0.04%",
            "      _(",
            "   0.03%",
            "     _to",
            "   0.00%",
            "      _a",
            "   0.00%",
            "       -",
            "   0.00%",
            "    _the",
            "   0.00%",
            "     _at",
            "   0.00%",
            "      \\n",
            "   0.00%"
           ],
           [
            "       ,",
            "  99.52%",
            "      _a",
            "   0.29%",
            "     _in",
            "   0.09%",
            "    _and",
            "   0.07%",
            "      _(",
            "   0.03%",
            "       -",
            "   0.00%",
            "     _as",
            "   0.00%",
            "     _to",
            "   0.00%",
            "    _the",
            "   0.00%",
            "      \\n",
            "   0.00%"
           ],
           [
            "       ,",
            "  99.97%",
            "      _(",
            "   0.03%",
            "       :",
            "   0.00%",
            "    _and",
            "   0.00%",
            "       .",
            "   0.00%",
            "     _in",
            "   0.00%",
            "      \\n",
            "   0.00%",
            "       -",
            "   0.00%",
            "     _is",
            "   0.00%",
            "      _a",
            "   0.00%"
           ],
           [
            "       ,",
            "  99.82%",
            "      _(",
            "   0.11%",
            "    _and",
            "   0.05%",
            "     _in",
            "   0.02%",
            "      _a",
            "   0.00%",
            "      _I",
            "   0.00%",
            "    _the",
            "   0.00%",
            "      \\n",
            "   0.00%",
            "     _to",
            "   0.00%",
            "       /",
            "   0.00%"
           ],
           [
            "       ,",
            "  66.10%",
            "     _in",
            "  32.64%",
            "    _and",
            "   0.82%",
            "      _(",
            "   0.44%",
            "     _as",
            "   0.01%",
            "       -",
            "   0.00%",
            "     _to",
            "   0.00%",
            "       .",
            "   0.00%",
            "      \\n",
            "   0.00%",
            "      _a",
            "   0.00%"
           ],
           [
            "       ,",
            "  99.87%",
            "     _in",
            "   0.12%",
            "      _(",
            "   0.00%",
            "    _and",
            "   0.00%",
            "      _a",
            "   0.00%",
            "      \\n",
            "   0.00%",
            "   _this",
            "   0.00%",
            "       -",
            "   0.00%",
            "       .",
            "   0.00%",
            "     _as",
            "   0.00%"
           ],
           [
            "       ,",
            "  99.98%",
            "      _(",
            "   0.02%",
            "       .",
            "   0.00%",
            "    _and",
            "   0.00%",
            "      \\n",
            "   0.00%",
            "     _in",
            "   0.00%",
            "       :",
            "   0.00%",
            "       -",
            "   0.00%",
            "     _is",
            "   0.00%",
            "     _as",
            "   0.00%"
           ]
          ],
          [
           [
            "       ,",
            "  99.96%",
            "      _(",
            "   0.04%",
            "    _and",
            "   0.01%",
            "       -",
            "   0.00%",
            "     _in",
            "   0.00%",
            "      \\n",
            "   0.00%",
            "       .",
            "   0.00%",
            "      _I",
            "   0.00%",
            "      _a",
            "   0.00%",
            "     _to",
            "   0.00%"
           ],
           [
            "       ,",
            "  98.86%",
            "    _and",
            "   1.06%",
            "      _(",
            "   0.05%",
            "     _in",
            "   0.02%",
            "     _to",
            "   0.00%",
            "      _a",
            "   0.00%",
            "       -",
            "   0.00%",
            "     _at",
            "   0.00%",
            "    _the",
            "   0.00%",
            "      \\n",
            "   0.00%"
           ],
           [
            "       ,",
            "  99.86%",
            "      _a",
            "   0.05%",
            "      _(",
            "   0.05%",
            "     _in",
            "   0.04%",
            "    _and",
            "   0.00%",
            "       -",
            "   0.00%",
            "     _to",
            "   0.00%",
            "    _the",
            "   0.00%",
            "      \\n",
            "   0.00%",
            "     _as",
            "   0.00%"
           ],
           [
            "       ,",
            " 100.00%",
            "      _(",
            "   0.00%",
            "       :",
            "   0.00%",
            "    _and",
            "   0.00%",
            "      \\n",
            "   0.00%",
            "       .",
            "   0.00%",
            "     _in",
            "   0.00%",
            "       -",
            "   0.00%",
            "      _\"",
            "   0.00%",
            "     _is",
            "   0.00%"
           ],
           [
            "       ,",
            "  99.42%",
            "      _(",
            "   0.55%",
            "    _and",
            "   0.03%",
            "     _in",
            "   0.01%",
            "      _I",
            "   0.00%",
            "      _a",
            "   0.00%",
            "      \\n",
            "   0.00%",
            "     _as",
            "   0.00%",
            "    _the",
            "   0.00%",
            "     _to",
            "   0.00%"
           ],
           [
            "     _in",
            "  57.12%",
            "       ,",
            "  42.29%",
            "    _and",
            "   0.37%",
            "      _(",
            "   0.19%",
            "     _as",
            "   0.03%",
            "       -",
            "   0.00%",
            "     _to",
            "   0.00%",
            "     _at",
            "   0.00%",
            "       .",
            "   0.00%",
            "     _on",
            "   0.00%"
           ],
           [
            "   _this",
            " 100.00%",
            "       ,",
            "   0.00%",
            "      _(",
            "   0.00%",
            "     _in",
            "   0.00%",
            "   _that",
            "   0.00%",
            "      \\n",
            "   0.00%",
            "    _and",
            "   0.00%",
            "       -",
            "   0.00%",
            "      _a",
            "   0.00%",
            "       .",
            "   0.00%"
           ],
           [
            "       ,",
            " 100.00%",
            "      _(",
            "   0.00%",
            "       .",
            "   0.00%",
            "    _and",
            "   0.00%",
            "      \\n",
            "   0.00%",
            "       :",
            "   0.00%",
            "     _in",
            "   0.00%",
            "       -",
            "   0.00%",
            "      _\"",
            "   0.00%",
            "     _as",
            "   0.00%"
           ]
          ],
          [
           [
            "       ,",
            "  98.47%",
            "      _(",
            "   1.22%",
            "    _and",
            "   0.12%",
            "       -",
            "   0.10%",
            "      _I",
            "   0.07%",
            "      \\n",
            "   0.02%",
            "       .",
            "   0.00%",
            "       /",
            "   0.00%",
            "     _in",
            "   0.00%",
            "     _is",
            "   0.00%"
           ],
           [
            "       ,",
            "  61.07%",
            "     _to",
            "  37.88%",
            "    _and",
            "   0.50%",
            "     _in",
            "   0.30%",
            "   _with",
            "   0.20%",
            "      _a",
            "   0.03%",
            "      _(",
            "   0.02%",
            "    _the",
            "   0.01%",
            "     _at",
            "   0.00%",
            "       -",
            "   0.00%"
           ],
           [
            "      _a",
            "  93.50%",
            "       ,",
            "   6.49%",
            "     _in",
            "   0.00%",
            "      _(",
            "   0.00%",
            "   _that",
            "   0.00%",
            "   _this",
            "   0.00%",
            "    _the",
            "   0.00%",
            "    _and",
            "   0.00%",
            "       -",
            "   0.00%",
            "     _to",
            "   0.00%"
           ],
           [
            "       ,",
            "  94.55%",
            "       :",
            "   5.44%",
            "      _(",
            "   0.01%",
            "       .",
            "   0.00%",
            "      \\n",
            "   0.00%",
            "    _and",
            "   0.00%",
            "     _in",
            "   0.00%",
            "       -",
            "   0.00%",
            "     _to",
            "   0.00%",
            "     _is",
            "   0.00%"
           ],
           [
            "      _I",
            "  97.66%",
            "       ,",
            "   2.24%",
            "     _in",
            "   0.06%",
            "    _the",
            "   0.03%",
            "      _(",
            "   0.00%",
            "     _it",
            "   0.00%",
            "    _and",
            "   0.00%",
            "      _a",
            "   0.00%",
            "     _as",
            "   0.00%",
            "      \\n",
            "   0.00%"
           ],
           [
            "     _in",
            "  54.97%",
            "   _like",
            "  44.22%",
            "     _as",
            "   0.49%",
            "       ,",
            "   0.25%",
            "   _with",
            "   0.08%",
            "      _(",
            "   0.00%",
            "    _and",
            "   0.00%",
            "     _at",
            "   0.00%",
            "    _the",
            "   0.00%",
            "       -",
            "   0.00%"
           ],
           [
            "   _this",
            " 100.00%",
            "   _that",
            "   0.00%",
            "       ,",
            "   0.00%",
            "      _(",
            "   0.00%",
            "     _in",
            "   0.00%",
            "      _a",
            "   0.00%",
            "    _the",
            "   0.00%",
            "      \\n",
            "   0.00%",
            "    _and",
            "   0.00%",
            "     _to",
            "   0.00%"
           ],
           [
            "       ,",
            "  99.64%",
            "       :",
            "   0.31%",
            "       .",
            "   0.03%",
            "      _(",
            "   0.02%",
            "      \\n",
            "   0.00%",
            "    _and",
            "   0.00%",
            "     _in",
            "   0.00%",
            "       -",
            "   0.00%",
            "     _as",
            "   0.00%",
            "     _to",
            "   0.00%"
           ]
          ],
          [
           [
            "   apopt",
            "  14.33%",
            " _incor…",
            "  13.88%",
            " artifa…",
            "   6.61%",
            "    onen",
            "   6.60%",
            " stanbul",
            "   5.17%",
            "   emplo",
            "   3.74%",
            " _subse…",
            "   2.79%",
            "      'm",
            "   2.59%",
            "    _was",
            "   1.77%",
            "     Ä±m",
            "   1.74%"
           ],
           [
            "   _with",
            "  60.91%",
            "     yma",
            "  10.11%",
            "     _to",
            "   7.66%",
            "     _my",
            "   7.53%",
            "    _off",
            "   5.22%",
            "    _out",
            "   1.27%",
            "     _up",
            "   0.58%",
            "  lament",
            "   0.50%",
            " odegrad",
            "   0.50%",
            "   _from",
            "   0.49%"
           ],
           [
            "   _this",
            "  92.92%",
            "   _that",
            "   2.84%",
            "   cknow",
            "   2.24%",
            "      _a",
            "   0.34%",
            " zheimer",
            "   0.32%",
            "     yma",
            "   0.32%",
            "     jee",
            "   0.27%",
            "    ptin",
            "   0.21%",
            "  Ð½Ð°Ñĩ",
            "   0.13%",
            " unnumb…",
            "   0.13%"
           ],
           [
            "       :",
            "  86.91%",
            " zheimer",
            "   3.81%",
            "   rades",
            "   3.63%",
            " otheti…",
            "   1.65%",
            "       ,",
            "   1.27%",
            "       .",
            "   0.61%",
            "  anchez",
            "   0.41%",
            "   elesc",
            "   0.19%",
            "       ;",
            "   0.08%",
            "   emplo",
            "   0.08%"
           ],
           [
            "      _I",
            "  31.96%",
            "     _it",
            "  29.87%",
            "   _then",
            "  16.20%",
            "  _never",
            "   2.85%",
            " _every…",
            "   2.03%",
            " pendic…",
            "   1.93%",
            " _immed…",
            "   1.87%",
            "    _you",
            "   1.69%",
            " _quick…",
            "   1.11%",
            "     _my",
            "   1.09%"
           ],
           [
            "   _like",
            "  99.82%",
            "     _up",
            "   0.14%",
            "   _with",
            "   0.02%",
            " pendic…",
            "   0.01%",
            "     _as",
            "   0.00%",
            "   odont",
            "   0.00%",
            "     _in",
            "   0.00%",
            "   acerb",
            "   0.00%",
            " quisite",
            "   0.00%",
            "  achine",
            "   0.00%"
           ],
           [
            "   _this",
            "  99.99%",
            "   _that",
            "   0.01%",
            " zheimer",
            "   0.00%",
            "  _these",
            "   0.00%",
            " pendic…",
            "   0.00%",
            "  uximab",
            "   0.00%",
            "    this",
            "   0.00%",
            " athetic",
            "   0.00%",
            "   ctica",
            "   0.00%",
            " ocyana…",
            "   0.00%"
           ],
           [
            "   elesc",
            "  27.66%",
            "  formin",
            "  18.37%",
            "  infall",
            "  12.43%",
            "       :",
            "  12.30%",
            " zheimer",
            "   9.41%",
            "       .",
            "   8.32%",
            "  ielder",
            "   3.23%",
            "       ,",
            "   2.16%",
            "   uture",
            "   0.69%",
            " missib…",
            "   0.51%"
           ]
          ],
          [
           [
            "      'm",
            "   8.20%",
            "   _have",
            "   4.82%",
            "     _am",
            "   3.55%",
            "    _was",
            "   3.36%",
            "  _think",
            "   2.98%",
            "    _don",
            "   2.68%",
            "    _can",
            "   2.25%",
            "       .",
            "   2.02%",
            "     've",
            "   2.00%",
            "   _will",
            "   1.52%"
           ],
           [
            "     _to",
            "  13.31%",
            "   _with",
            "  12.41%",
            "    _the",
            "   3.99%",
            "    _out",
            "   3.74%",
            "    _off",
            "   2.98%",
            "     _my",
            "   2.77%",
            "      _a",
            "   2.48%",
            "   _from",
            "   1.75%",
            " _think…",
            "   1.75%",
            "     _at",
            "   1.57%"
           ],
           [
            "   _this",
            "  42.04%",
            "   _that",
            "  11.74%",
            "      _a",
            "  10.50%",
            "      _I",
            "   3.59%",
            "    _you",
            "   1.98%",
            "       ,",
            "   1.92%",
            "    _the",
            "   1.79%",
            "     _an",
            "   1.71%",
            "     _it",
            "   1.33%",
            "      \\n",
            "   0.77%"
           ],
           [
            "       :",
            "  32.09%",
            "       ,",
            "  10.34%",
            "       .",
            "  10.16%",
            "      .\"",
            "   4.01%",
            "      \\n",
            "   3.33%",
            "       \"",
            "   2.58%",
            "     ...",
            "   2.36%",
            "      ,\"",
            "   2.15%",
            "    _and",
            "   2.06%",
            "    ...\"",
            "   1.29%"
           ],
           [
            "      _I",
            "  19.52%",
            "     _it",
            "  11.89%",
            "   _then",
            "   3.53%",
            "    _the",
            "   2.87%",
            "    _you",
            "   2.68%",
            "    _end",
            "   2.11%",
            "    _get",
            "   1.81%",
            "     _my",
            "   1.39%",
            "   _have",
            "   1.29%",
            "    _don",
            "   1.20%"
           ],
           [
            "   _like",
            "  76.06%",
            "     _up",
            "  10.99%",
            "   _with",
            "   2.72%",
            "     _in",
            "   1.74%",
            "     _as",
            "   1.38%",
            "    _the",
            "   0.67%",
            "     _at",
            "   0.44%",
            "     _it",
            "   0.33%",
            "     _on",
            "   0.31%",
            "      \\n",
            "   0.22%"
           ],
           [
            "   _this",
            "  86.03%",
            "   _that",
            "  10.40%",
            "    _the",
            "   0.36%",
            "      \\n",
            "   0.33%",
            "      _I",
            "   0.21%",
            "     _it",
            "   0.14%",
            "      _a",
            "   0.14%",
            "  _these",
            "   0.14%",
            "       :",
            "   0.10%",
            "    _you",
            "   0.10%"
           ],
           [
            "       .",
            "  24.79%",
            "       :",
            "  11.96%",
            "       ,",
            "  11.62%",
            "      .\"",
            "   5.02%",
            "      \\n",
            "   3.84%",
            "      ,\"",
            "   2.38%",
            "       \"",
            "   2.27%",
            "     ...",
            "   2.19%",
            "    _and",
            "   2.12%",
            "       ?",
            "   1.22%"
           ]
          ]
         ],
         "hoverlabel": {
          "bgcolor": "rgb(42, 42, 50)",
          "font": {
           "family": "Monospace"
          }
         },
         "hovertemplate": "%{customdata[0]}%{customdata[1]}<br>%{customdata[2]}%{customdata[3]}<br>%{customdata[4]}%{customdata[5]}<br>%{customdata[6]}%{customdata[7]}<br>%{customdata[8]}%{customdata[9]}<br>%{customdata[10]}%{customdata[11]}<br>%{customdata[12]}%{customdata[13]}<br>%{customdata[14]}%{customdata[15]}<br>%{customdata[16]}%{customdata[17]}<br>%{customdata[18]}%{customdata[19]}<br><extra></extra>",
         "text": [
          [
           "_I",
           "_start",
           "_like",
           "_this",
           "_and",
           "_end",
           "_like",
           "_that"
          ],
          [
           "_I",
           "_start",
           "_like",
           "_this",
           "_and",
           "_end",
           "_like",
           "_that"
          ],
          [
           "_I",
           "_start",
           "_like",
           "_this",
           "_and",
           "_end",
           "_like",
           ","
          ],
          [
           "_I",
           "_start",
           "_like",
           ",",
           "_and",
           "_end",
           "_like",
           ","
          ],
          [
           "_I",
           "_start",
           "_like",
           ",",
           "_and",
           "_end",
           "_like",
           ","
          ],
          [
           ",",
           ",",
           ",",
           ",",
           "_and",
           "_end",
           ",",
           ","
          ],
          [
           ",",
           ",",
           ",",
           ",",
           ",",
           "_end",
           ",",
           ","
          ],
          [
           ",",
           ",",
           "_a",
           ",",
           ",",
           ",",
           ",",
           ","
          ],
          [
           ",",
           ",",
           ",",
           ",",
           ",",
           ",",
           ",",
           ","
          ],
          [
           ",",
           ",",
           ",",
           ",",
           ",",
           "_in",
           "_this",
           ","
          ],
          [
           ",",
           ",",
           "_a",
           ",",
           "_I",
           "_in",
           "_this",
           ","
          ],
          [
           "apopt",
           "_with",
           "_this",
           ":",
           "_I",
           "_like",
           "_this",
           "elesc"
          ],
          [
           "'m",
           "_to",
           "_this",
           ":",
           "_I",
           "_like",
           "_this",
           "."
          ]
         ],
         "texttemplate": "<b>%{text}</b>",
         "type": "heatmap",
         "x": [
          "I",
          "_start‌",
          "_like‌‌",
          "_this‌‌‌",
          "_and‌‌‌‌",
          "_end‌‌‌‌‌",
          "_like‌‌‌‌‌‌",
          "_that‌‌‌‌‌‌‌"
         ],
         "y": [
          "0",
          "2",
          "4",
          "6",
          "8",
          "10",
          "12",
          "14",
          "16",
          "18",
          "20",
          "22",
          "output"
         ],
         "z": [
          [
           129.51332092285156,
           104.74528503417969,
           125.54325866699219,
           90.87338256835938,
           117.51115417480469,
           130.95481872558594,
           129.35052490234375,
           154.85012817382812
          ],
          [
           95.66070556640625,
           81.11091613769531,
           91.08932495117188,
           47.698577880859375,
           94.44265747070312,
           117.61900329589844,
           89.50253295898438,
           99.40516662597656
          ],
          [
           90.06653594970703,
           65.7757568359375,
           71.58866882324219,
           15.27662467956543,
           89.16856384277344,
           99.14170837402344,
           70.7990493774414,
           79.00457763671875
          ],
          [
           84.14741516113281,
           44.9863166809082,
           53.436134338378906,
           11.005749702453613,
           82.80117797851562,
           75.8705062866211,
           48.661415100097656,
           82.25743103027344
          ],
          [
           59.846641540527344,
           38.965179443359375,
           38.86579132080078,
           13.0441255569458,
           72.28532409667969,
           58.056419372558594,
           37.23521041870117,
           77.66755676269531
          ],
          [
           55.23040771484375,
           38.277679443359375,
           33.361473083496094,
           9.789935111999512,
           46.72534942626953,
           49.63501739501953,
           28.3162899017334,
           64.7557601928711
          ],
          [
           59.76369857788086,
           37.262142181396484,
           36.98038101196289,
           12.08769416809082,
           47.2801399230957,
           40.94561004638672,
           25.223926544189453,
           66.72743225097656
          ],
          [
           64.8414077758789,
           45.51436996459961,
           34.06852722167969,
           14.607277870178223,
           45.48554611206055,
           39.54621887207031,
           27.68433380126953,
           69.88272857666016
          ],
          [
           65.08358001708984,
           48.94340515136719,
           39.600425720214844,
           13.424745559692383,
           40.72880554199219,
           32.38792037963867,
           26.33273696899414,
           69.56147766113281
          ],
          [
           68.79802703857422,
           49.382816314697266,
           31.725839614868164,
           14.892295837402344,
           39.37370681762695,
           20.716501235961914,
           24.184722900390625,
           76.22122955322266
          ],
          [
           45.107337951660156,
           36.11782455444336,
           13.288599014282227,
           16.778064727783203,
           25.856054306030273,
           0.8160415887832642,
           18.381206512451172,
           54.23615264892578
          ],
          [
           13.611364364624023,
           8.386646270751953,
           0.07345770299434662,
           9.141691207885742,
           4.649266242980957,
           0.0017590539064258337,
           9.16526985168457,
           15.10550594329834
          ],
          [
           7.81534481048584,
           6.207776069641113,
           0.8664448857307434,
           3.8807713985443115,
           3.8602347373962402,
           0.27360716462135315,
           2.263324737548828,
           7.15303897857666
          ]
         ],
         "zmax": 154.85012817382812,
         "zmin": 0.0017590539064258337
        }
       ],
       "layout": {
        "template": {
         "data": {
          "bar": [
           {
            "error_x": {
             "color": "#2a3f5f"
            },
            "error_y": {
             "color": "#2a3f5f"
            },
            "marker": {
             "line": {
              "color": "#E5ECF6",
              "width": 0.5
             },
             "pattern": {
              "fillmode": "overlay",
              "size": 10,
              "solidity": 0.2
             }
            },
            "type": "bar"
           }
          ],
          "barpolar": [
           {
            "marker": {
             "line": {
              "color": "#E5ECF6",
              "width": 0.5
             },
             "pattern": {
              "fillmode": "overlay",
              "size": 10,
              "solidity": 0.2
             }
            },
            "type": "barpolar"
           }
          ],
          "carpet": [
           {
            "aaxis": {
             "endlinecolor": "#2a3f5f",
             "gridcolor": "white",
             "linecolor": "white",
             "minorgridcolor": "white",
             "startlinecolor": "#2a3f5f"
            },
            "baxis": {
             "endlinecolor": "#2a3f5f",
             "gridcolor": "white",
             "linecolor": "white",
             "minorgridcolor": "white",
             "startlinecolor": "#2a3f5f"
            },
            "type": "carpet"
           }
          ],
          "choropleth": [
           {
            "colorbar": {
             "outlinewidth": 0,
             "ticks": ""
            },
            "type": "choropleth"
           }
          ],
          "contour": [
           {
            "colorbar": {
             "outlinewidth": 0,
             "ticks": ""
            },
            "colorscale": [
             [
              0,
              "#0d0887"
             ],
             [
              0.1111111111111111,
              "#46039f"
             ],
             [
              0.2222222222222222,
              "#7201a8"
             ],
             [
              0.3333333333333333,
              "#9c179e"
             ],
             [
              0.4444444444444444,
              "#bd3786"
             ],
             [
              0.5555555555555556,
              "#d8576b"
             ],
             [
              0.6666666666666666,
              "#ed7953"
             ],
             [
              0.7777777777777778,
              "#fb9f3a"
             ],
             [
              0.8888888888888888,
              "#fdca26"
             ],
             [
              1,
              "#f0f921"
             ]
            ],
            "type": "contour"
           }
          ],
          "contourcarpet": [
           {
            "colorbar": {
             "outlinewidth": 0,
             "ticks": ""
            },
            "type": "contourcarpet"
           }
          ],
          "heatmap": [
           {
            "colorbar": {
             "outlinewidth": 0,
             "ticks": ""
            },
            "colorscale": [
             [
              0,
              "#0d0887"
             ],
             [
              0.1111111111111111,
              "#46039f"
             ],
             [
              0.2222222222222222,
              "#7201a8"
             ],
             [
              0.3333333333333333,
              "#9c179e"
             ],
             [
              0.4444444444444444,
              "#bd3786"
             ],
             [
              0.5555555555555556,
              "#d8576b"
             ],
             [
              0.6666666666666666,
              "#ed7953"
             ],
             [
              0.7777777777777778,
              "#fb9f3a"
             ],
             [
              0.8888888888888888,
              "#fdca26"
             ],
             [
              1,
              "#f0f921"
             ]
            ],
            "type": "heatmap"
           }
          ],
          "heatmapgl": [
           {
            "colorbar": {
             "outlinewidth": 0,
             "ticks": ""
            },
            "colorscale": [
             [
              0,
              "#0d0887"
             ],
             [
              0.1111111111111111,
              "#46039f"
             ],
             [
              0.2222222222222222,
              "#7201a8"
             ],
             [
              0.3333333333333333,
              "#9c179e"
             ],
             [
              0.4444444444444444,
              "#bd3786"
             ],
             [
              0.5555555555555556,
              "#d8576b"
             ],
             [
              0.6666666666666666,
              "#ed7953"
             ],
             [
              0.7777777777777778,
              "#fb9f3a"
             ],
             [
              0.8888888888888888,
              "#fdca26"
             ],
             [
              1,
              "#f0f921"
             ]
            ],
            "type": "heatmapgl"
           }
          ],
          "histogram": [
           {
            "marker": {
             "pattern": {
              "fillmode": "overlay",
              "size": 10,
              "solidity": 0.2
             }
            },
            "type": "histogram"
           }
          ],
          "histogram2d": [
           {
            "colorbar": {
             "outlinewidth": 0,
             "ticks": ""
            },
            "colorscale": [
             [
              0,
              "#0d0887"
             ],
             [
              0.1111111111111111,
              "#46039f"
             ],
             [
              0.2222222222222222,
              "#7201a8"
             ],
             [
              0.3333333333333333,
              "#9c179e"
             ],
             [
              0.4444444444444444,
              "#bd3786"
             ],
             [
              0.5555555555555556,
              "#d8576b"
             ],
             [
              0.6666666666666666,
              "#ed7953"
             ],
             [
              0.7777777777777778,
              "#fb9f3a"
             ],
             [
              0.8888888888888888,
              "#fdca26"
             ],
             [
              1,
              "#f0f921"
             ]
            ],
            "type": "histogram2d"
           }
          ],
          "histogram2dcontour": [
           {
            "colorbar": {
             "outlinewidth": 0,
             "ticks": ""
            },
            "colorscale": [
             [
              0,
              "#0d0887"
             ],
             [
              0.1111111111111111,
              "#46039f"
             ],
             [
              0.2222222222222222,
              "#7201a8"
             ],
             [
              0.3333333333333333,
              "#9c179e"
             ],
             [
              0.4444444444444444,
              "#bd3786"
             ],
             [
              0.5555555555555556,
              "#d8576b"
             ],
             [
              0.6666666666666666,
              "#ed7953"
             ],
             [
              0.7777777777777778,
              "#fb9f3a"
             ],
             [
              0.8888888888888888,
              "#fdca26"
             ],
             [
              1,
              "#f0f921"
             ]
            ],
            "type": "histogram2dcontour"
           }
          ],
          "mesh3d": [
           {
            "colorbar": {
             "outlinewidth": 0,
             "ticks": ""
            },
            "type": "mesh3d"
           }
          ],
          "parcoords": [
           {
            "line": {
             "colorbar": {
              "outlinewidth": 0,
              "ticks": ""
             }
            },
            "type": "parcoords"
           }
          ],
          "pie": [
           {
            "automargin": true,
            "type": "pie"
           }
          ],
          "scatter": [
           {
            "fillpattern": {
             "fillmode": "overlay",
             "size": 10,
             "solidity": 0.2
            },
            "type": "scatter"
           }
          ],
          "scatter3d": [
           {
            "line": {
             "colorbar": {
              "outlinewidth": 0,
              "ticks": ""
             }
            },
            "marker": {
             "colorbar": {
              "outlinewidth": 0,
              "ticks": ""
             }
            },
            "type": "scatter3d"
           }
          ],
          "scattercarpet": [
           {
            "marker": {
             "colorbar": {
              "outlinewidth": 0,
              "ticks": ""
             }
            },
            "type": "scattercarpet"
           }
          ],
          "scattergeo": [
           {
            "marker": {
             "colorbar": {
              "outlinewidth": 0,
              "ticks": ""
             }
            },
            "type": "scattergeo"
           }
          ],
          "scattergl": [
           {
            "marker": {
             "colorbar": {
              "outlinewidth": 0,
              "ticks": ""
             }
            },
            "type": "scattergl"
           }
          ],
          "scattermapbox": [
           {
            "marker": {
             "colorbar": {
              "outlinewidth": 0,
              "ticks": ""
             }
            },
            "type": "scattermapbox"
           }
          ],
          "scatterpolar": [
           {
            "marker": {
             "colorbar": {
              "outlinewidth": 0,
              "ticks": ""
             }
            },
            "type": "scatterpolar"
           }
          ],
          "scatterpolargl": [
           {
            "marker": {
             "colorbar": {
              "outlinewidth": 0,
              "ticks": ""
             }
            },
            "type": "scatterpolargl"
           }
          ],
          "scatterternary": [
           {
            "marker": {
             "colorbar": {
              "outlinewidth": 0,
              "ticks": ""
             }
            },
            "type": "scatterternary"
           }
          ],
          "surface": [
           {
            "colorbar": {
             "outlinewidth": 0,
             "ticks": ""
            },
            "colorscale": [
             [
              0,
              "#0d0887"
             ],
             [
              0.1111111111111111,
              "#46039f"
             ],
             [
              0.2222222222222222,
              "#7201a8"
             ],
             [
              0.3333333333333333,
              "#9c179e"
             ],
             [
              0.4444444444444444,
              "#bd3786"
             ],
             [
              0.5555555555555556,
              "#d8576b"
             ],
             [
              0.6666666666666666,
              "#ed7953"
             ],
             [
              0.7777777777777778,
              "#fb9f3a"
             ],
             [
              0.8888888888888888,
              "#fdca26"
             ],
             [
              1,
              "#f0f921"
             ]
            ],
            "type": "surface"
           }
          ],
          "table": [
           {
            "cells": {
             "fill": {
              "color": "#EBF0F8"
             },
             "line": {
              "color": "white"
             }
            },
            "header": {
             "fill": {
              "color": "#C8D4E3"
             },
             "line": {
              "color": "white"
             }
            },
            "type": "table"
           }
          ]
         },
         "layout": {
          "annotationdefaults": {
           "arrowcolor": "#2a3f5f",
           "arrowhead": 0,
           "arrowwidth": 1
          },
          "autotypenumbers": "strict",
          "coloraxis": {
           "colorbar": {
            "outlinewidth": 0,
            "ticks": ""
           }
          },
          "colorscale": {
           "diverging": [
            [
             0,
             "#8e0152"
            ],
            [
             0.1,
             "#c51b7d"
            ],
            [
             0.2,
             "#de77ae"
            ],
            [
             0.3,
             "#f1b6da"
            ],
            [
             0.4,
             "#fde0ef"
            ],
            [
             0.5,
             "#f7f7f7"
            ],
            [
             0.6,
             "#e6f5d0"
            ],
            [
             0.7,
             "#b8e186"
            ],
            [
             0.8,
             "#7fbc41"
            ],
            [
             0.9,
             "#4d9221"
            ],
            [
             1,
             "#276419"
            ]
           ],
           "sequential": [
            [
             0,
             "#0d0887"
            ],
            [
             0.1111111111111111,
             "#46039f"
            ],
            [
             0.2222222222222222,
             "#7201a8"
            ],
            [
             0.3333333333333333,
             "#9c179e"
            ],
            [
             0.4444444444444444,
             "#bd3786"
            ],
            [
             0.5555555555555556,
             "#d8576b"
            ],
            [
             0.6666666666666666,
             "#ed7953"
            ],
            [
             0.7777777777777778,
             "#fb9f3a"
            ],
            [
             0.8888888888888888,
             "#fdca26"
            ],
            [
             1,
             "#f0f921"
            ]
           ],
           "sequentialminus": [
            [
             0,
             "#0d0887"
            ],
            [
             0.1111111111111111,
             "#46039f"
            ],
            [
             0.2222222222222222,
             "#7201a8"
            ],
            [
             0.3333333333333333,
             "#9c179e"
            ],
            [
             0.4444444444444444,
             "#bd3786"
            ],
            [
             0.5555555555555556,
             "#d8576b"
            ],
            [
             0.6666666666666666,
             "#ed7953"
            ],
            [
             0.7777777777777778,
             "#fb9f3a"
            ],
            [
             0.8888888888888888,
             "#fdca26"
            ],
            [
             1,
             "#f0f921"
            ]
           ]
          },
          "colorway": [
           "#636efa",
           "#EF553B",
           "#00cc96",
           "#ab63fa",
           "#FFA15A",
           "#19d3f3",
           "#FF6692",
           "#B6E880",
           "#FF97FF",
           "#FECB52"
          ],
          "font": {
           "color": "#2a3f5f"
          },
          "geo": {
           "bgcolor": "white",
           "lakecolor": "white",
           "landcolor": "#E5ECF6",
           "showlakes": true,
           "showland": true,
           "subunitcolor": "white"
          },
          "hoverlabel": {
           "align": "left"
          },
          "hovermode": "closest",
          "mapbox": {
           "style": "light"
          },
          "paper_bgcolor": "white",
          "plot_bgcolor": "#E5ECF6",
          "polar": {
           "angularaxis": {
            "gridcolor": "white",
            "linecolor": "white",
            "ticks": ""
           },
           "bgcolor": "#E5ECF6",
           "radialaxis": {
            "gridcolor": "white",
            "linecolor": "white",
            "ticks": ""
           }
          },
          "scene": {
           "xaxis": {
            "backgroundcolor": "#E5ECF6",
            "gridcolor": "white",
            "gridwidth": 2,
            "linecolor": "white",
            "showbackground": true,
            "ticks": "",
            "zerolinecolor": "white"
           },
           "yaxis": {
            "backgroundcolor": "#E5ECF6",
            "gridcolor": "white",
            "gridwidth": 2,
            "linecolor": "white",
            "showbackground": true,
            "ticks": "",
            "zerolinecolor": "white"
           },
           "zaxis": {
            "backgroundcolor": "#E5ECF6",
            "gridcolor": "white",
            "gridwidth": 2,
            "linecolor": "white",
            "showbackground": true,
            "ticks": "",
            "zerolinecolor": "white"
           }
          },
          "shapedefaults": {
           "line": {
            "color": "#2a3f5f"
           }
          },
          "ternary": {
           "aaxis": {
            "gridcolor": "white",
            "linecolor": "white",
            "ticks": ""
           },
           "baxis": {
            "gridcolor": "white",
            "linecolor": "white",
            "ticks": ""
           },
           "bgcolor": "#E5ECF6",
           "caxis": {
            "gridcolor": "white",
            "linecolor": "white",
            "ticks": ""
           }
          },
          "title": {
           "x": 0.05
          },
          "xaxis": {
           "automargin": true,
           "gridcolor": "white",
           "linecolor": "white",
           "ticks": "",
           "title": {
            "standoff": 15
           },
           "zerolinecolor": "white",
           "zerolinewidth": 2
          },
          "yaxis": {
           "automargin": true,
           "gridcolor": "white",
           "linecolor": "white",
           "ticks": "",
           "title": {
            "standoff": 15
           },
           "zerolinecolor": "white",
           "zerolinewidth": 2
          }
         }
        },
        "title": {
         "text": "LogitLens (state-spaces/mamba-130m) cross_entropy",
         "x": 0.5
        },
        "width": 840,
        "xaxis": {
         "title": {
          "text": "Input"
         }
        },
        "yaxis": {
         "title": {
          "text": "Layer"
         }
        }
       }
      },
      "text/html": [
       "<div>                            <div id=\"f8549407-dad2-4aa5-aa84-9dbf8e525ef1\" class=\"plotly-graph-div\" style=\"height:525px; width:840px;\"></div>            <script type=\"text/javascript\">                require([\"plotly\"], function(Plotly) {                    window.PLOTLYENV=window.PLOTLYENV || {};                                    if (document.getElementById(\"f8549407-dad2-4aa5-aa84-9dbf8e525ef1\")) {                    Plotly.newPlot(                        \"f8549407-dad2-4aa5-aa84-9dbf8e525ef1\",                        [{\"colorbar\":{\"title\":{\"side\":\"right\",\"text\":\"Cross Entropy (nats)\"}},\"colorscale\":[[0.0,\"rgb(5,48,97)\"],[0.1,\"rgb(33,102,172)\"],[0.2,\"rgb(67,147,195)\"],[0.3,\"rgb(146,197,222)\"],[0.4,\"rgb(209,229,240)\"],[0.5,\"rgb(247,247,247)\"],[0.6,\"rgb(253,219,199)\"],[0.7,\"rgb(244,165,130)\"],[0.8,\"rgb(214,96,77)\"],[0.9,\"rgb(178,24,43)\"],[1.0,\"rgb(103,0,31)\"]],\"customdata\":[[[\"      _I\",\"  99.89%\",\"       I\",\"   0.11%\",\"     _my\",\"   0.00%\",\"      _i\",\"   0.00%\",\"       i\",\"   0.00%\",\"      _(\",\"   0.00%\",\"       ,\",\"   0.00%\",\"     _me\",\"   0.00%\",\"       -\",\"   0.00%\",\"      \\\\n\",\"   0.00%\"],[\"  _start\",\" 100.00%\",\"   start\",\"   0.00%\",\"  _Start\",\"   0.00%\",\" _starts\",\"   0.00%\",\" _start\\u2026\",\"   0.00%\",\" _start\\u2026\",\"   0.00%\",\"  _begin\",\"   0.00%\",\"   Start\",\"   0.00%\",\"  _begun\",\"   0.00%\",\" _begins\",\"   0.00%\"],[\"   _like\",\" 100.00%\",\"    like\",\"   0.00%\",\"   _Like\",\"   0.00%\",\"    Like\",\"   0.00%\",\"   _LIKE\",\"   0.00%\",\"   _such\",\"   0.00%\",\"     _as\",\"   0.00%\",\"       ,\",\"   0.00%\",\"    _and\",\"   0.00%\",\"      _a\",\"   0.00%\"],[\"   _this\",\" 100.00%\",\"  _these\",\"   0.00%\",\"    _the\",\"   0.00%\",\"      _a\",\"   0.00%\",\"    this\",\"   0.00%\",\"       ,\",\"   0.00%\",\"   _This\",\"   0.00%\",\"     _in\",\"   0.00%\",\"      _(\",\"   0.00%\",\"    _and\",\"   0.00%\"],[\"    _and\",\" 100.00%\",\"       ,\",\"   0.00%\",\"     _in\",\"   0.00%\",\"     _or\",\"   0.00%\",\"      _a\",\"   0.00%\",\"      _(\",\"   0.00%\",\"    _the\",\"   0.00%\",\"     _to\",\"   0.00%\",\"     _as\",\"   0.00%\",\"    _for\",\"   0.00%\"],[\"    _end\",\" 100.00%\",\"    _End\",\"   0.00%\",\"     end\",\"   0.00%\",\"   _ends\",\"   0.00%\",\"     End\",\"   0.00%\",\"    _END\",\"   0.00%\",\"  _ended\",\"   0.00%\",\" _ending\",\"   0.00%\",\"     END\",\"   0.00%\",\"    ends\",\"   0.00%\"],[\"   _like\",\" 100.00%\",\"    like\",\"   0.00%\",\"   _Like\",\"   0.00%\",\"    Like\",\"   0.00%\",\"   _LIKE\",\"   0.00%\",\"   _such\",\"   0.00%\",\"     _as\",\"   0.00%\",\"       ,\",\"   0.00%\",\" _simil\\u2026\",\"   0.00%\",\"    _and\",\"   0.00%\"],[\"   _that\",\" 100.00%\",\"    _the\",\"   0.00%\",\"      _a\",\"   0.00%\",\"       ,\",\"   0.00%\",\"   _That\",\"   0.00%\",\"     _in\",\"   0.00%\",\"    that\",\"   0.00%\",\"   _this\",\"   0.00%\",\"    _and\",\"   0.00%\",\"      _(\",\"   0.00%\"]],[[\"      _I\",\" 100.00%\",\"       I\",\"   0.00%\",\"       ,\",\"   0.00%\",\"      _i\",\"   0.00%\",\"      _(\",\"   0.00%\",\"     _my\",\"   0.00%\",\"       i\",\"   0.00%\",\"       -\",\"   0.00%\",\"    _and\",\"   0.00%\",\"      \\\\n\",\"   0.00%\"],[\"  _start\",\" 100.00%\",\" _starts\",\"   0.00%\",\"  _Start\",\"   0.00%\",\" _start\\u2026\",\"   0.00%\",\"   start\",\"   0.00%\",\" _start\\u2026\",\"   0.00%\",\"  _begin\",\"   0.00%\",\" _begin\\u2026\",\"   0.00%\",\" _begins\",\"   0.00%\",\"    _end\",\"   0.00%\"],[\"   _like\",\" 100.00%\",\"    like\",\"   0.00%\",\"       ,\",\"   0.00%\",\"     _in\",\"   0.00%\",\"     _as\",\"   0.00%\",\"      _a\",\"   0.00%\",\"    _and\",\"   0.00%\",\"       -\",\"   0.00%\",\"   _Like\",\"   0.00%\",\"      _(\",\"   0.00%\"],[\"   _this\",\" 100.00%\",\"       ,\",\"   0.00%\",\"      _a\",\"   0.00%\",\"    _the\",\"   0.00%\",\"      _(\",\"   0.00%\",\"     _in\",\"   0.00%\",\"    _and\",\"   0.00%\",\"      \\\\n\",\"   0.00%\",\"     _is\",\"   0.00%\",\"  _these\",\"   0.00%\"],[\"    _and\",\" 100.00%\",\"       ,\",\"   0.00%\",\"      _(\",\"   0.00%\",\"      _a\",\"   0.00%\",\"     _in\",\"   0.00%\",\"    _the\",\"   0.00%\",\"     _or\",\"   0.00%\",\"     _to\",\"   0.00%\",\"     _as\",\"   0.00%\",\"       \\u002f\",\"   0.00%\"],[\"    _end\",\" 100.00%\",\"    _End\",\"   0.00%\",\"     end\",\"   0.00%\",\"   _ends\",\"   0.00%\",\"     End\",\"   0.00%\",\"  _ended\",\"   0.00%\",\"    _END\",\"   0.00%\",\" _ending\",\"   0.00%\",\"     END\",\"   0.00%\",\"    _all\",\"   0.00%\"],[\"   _like\",\" 100.00%\",\"    like\",\"   0.00%\",\"       ,\",\"   0.00%\",\"     _as\",\"   0.00%\",\"     _in\",\"   0.00%\",\"   _Like\",\"   0.00%\",\"      _a\",\"   0.00%\",\"    _and\",\"   0.00%\",\"       -\",\"   0.00%\",\"      _(\",\"   0.00%\"],[\"   _that\",\" 100.00%\",\"       ,\",\"   0.00%\",\"      _a\",\"   0.00%\",\"    _the\",\"   0.00%\",\"      _(\",\"   0.00%\",\"     _in\",\"   0.00%\",\"    _and\",\"   0.00%\",\"      \\\\n\",\"   0.00%\",\"      _I\",\"   0.00%\",\"       .\",\"   0.00%\"]],[[\"      _I\",\" 100.00%\",\"       I\",\"   0.00%\",\"       ,\",\"   0.00%\",\"      _(\",\"   0.00%\",\"    _and\",\"   0.00%\",\"     _my\",\"   0.00%\",\"       -\",\"   0.00%\",\"      _i\",\"   0.00%\",\"     _in\",\"   0.00%\",\"      \\\\n\",\"   0.00%\"],[\"  _start\",\" 100.00%\",\" _starts\",\"   0.00%\",\" _start\\u2026\",\"   0.00%\",\"       ,\",\"   0.00%\",\" _start\\u2026\",\"   0.00%\",\"     _in\",\"   0.00%\",\"  _Start\",\"   0.00%\",\"    _and\",\"   0.00%\",\"   start\",\"   0.00%\",\"    _end\",\"   0.00%\"],[\"   _like\",\" 100.00%\",\"       ,\",\"   0.00%\",\"     _as\",\"   0.00%\",\"      _(\",\"   0.00%\",\"     _in\",\"   0.00%\",\"    _and\",\"   0.00%\",\"       -\",\"   0.00%\",\"      _a\",\"   0.00%\",\"      \\\\n\",\"   0.00%\",\"    _the\",\"   0.00%\"],[\"   _this\",\"  99.33%\",\"       ,\",\"   0.65%\",\"      _(\",\"   0.01%\",\"     _in\",\"   0.00%\",\"    _and\",\"   0.00%\",\"      \\\\n\",\"   0.00%\",\"       .\",\"   0.00%\",\"      _a\",\"   0.00%\",\"    _the\",\"   0.00%\",\"       -\",\"   0.00%\"],[\"    _and\",\" 100.00%\",\"       ,\",\"   0.00%\",\"      _(\",\"   0.00%\",\"     _in\",\"   0.00%\",\"      _a\",\"   0.00%\",\"    _the\",\"   0.00%\",\"     _or\",\"   0.00%\",\"     _to\",\"   0.00%\",\"       \\u002f\",\"   0.00%\",\"     _as\",\"   0.00%\"],[\"    _end\",\" 100.00%\",\"    _End\",\"   0.00%\",\"     end\",\"   0.00%\",\"   _ends\",\"   0.00%\",\"  _ended\",\"   0.00%\",\"       ,\",\"   0.00%\",\"     End\",\"   0.00%\",\"    _all\",\"   0.00%\",\"     _in\",\"   0.00%\",\"     _of\",\"   0.00%\"],[\"   _like\",\" 100.00%\",\"       ,\",\"   0.00%\",\"     _as\",\"   0.00%\",\"     _in\",\"   0.00%\",\"       -\",\"   0.00%\",\"    _and\",\"   0.00%\",\"      _(\",\"   0.00%\",\"      \\\\n\",\"   0.00%\",\"      _a\",\"   0.00%\",\"    like\",\"   0.00%\"],[\"       ,\",\"  97.53%\",\"   _that\",\"   1.61%\",\"      _(\",\"   0.86%\",\"     _in\",\"   0.00%\",\"      \\\\n\",\"   0.00%\",\"    _and\",\"   0.00%\",\"       .\",\"   0.00%\",\"      _a\",\"   0.00%\",\"    _the\",\"   0.00%\",\"       -\",\"   0.00%\"]],[[\"      _I\",\" 100.00%\",\"       ,\",\"   0.00%\",\"       I\",\"   0.00%\",\"      _(\",\"   0.00%\",\"       -\",\"   0.00%\",\"    _and\",\"   0.00%\",\"     _in\",\"   0.00%\",\"      \\\\n\",\"   0.00%\",\"       .\",\"   0.00%\",\"       \\u002f\",\"   0.00%\"],[\"  _start\",\"  99.92%\",\"       ,\",\"   0.07%\",\"     _in\",\"   0.00%\",\"    _and\",\"   0.00%\",\"      _a\",\"   0.00%\",\"     _to\",\"   0.00%\",\"      _(\",\"   0.00%\",\"     _on\",\"   0.00%\",\"    _the\",\"   0.00%\",\"     _as\",\"   0.00%\"],[\"   _like\",\" 100.00%\",\"       ,\",\"   0.00%\",\"     _in\",\"   0.00%\",\"    _and\",\"   0.00%\",\"      _(\",\"   0.00%\",\"       -\",\"   0.00%\",\"     _as\",\"   0.00%\",\"      _a\",\"   0.00%\",\"    _the\",\"   0.00%\",\"      \\\\n\",\"   0.00%\"],[\"       ,\",\"  97.92%\",\"      _(\",\"   2.04%\",\"   _this\",\"   0.03%\",\"     _in\",\"   0.00%\",\"    _and\",\"   0.00%\",\"      \\\\n\",\"   0.00%\",\"       .\",\"   0.00%\",\"      _a\",\"   0.00%\",\"       -\",\"   0.00%\",\"    _the\",\"   0.00%\"],[\"    _and\",\" 100.00%\",\"       ,\",\"   0.00%\",\"      _(\",\"   0.00%\",\"     _in\",\"   0.00%\",\"      _a\",\"   0.00%\",\"    _the\",\"   0.00%\",\"     _to\",\"   0.00%\",\"     _or\",\"   0.00%\",\"     _as\",\"   0.00%\",\"      \\\\n\",\"   0.00%\"],[\"    _end\",\" 100.00%\",\"       ,\",\"   0.00%\",\"     _in\",\"   0.00%\",\"    _and\",\"   0.00%\",\"    _the\",\"   0.00%\",\"    _End\",\"   0.00%\",\"     _of\",\"   0.00%\",\"     _to\",\"   0.00%\",\"    _all\",\"   0.00%\",\"      _a\",\"   0.00%\"],[\"   _like\",\" 100.00%\",\"       ,\",\"   0.00%\",\"    _and\",\"   0.00%\",\"     _in\",\"   0.00%\",\"       -\",\"   0.00%\",\"     _as\",\"   0.00%\",\"      _(\",\"   0.00%\",\"      _a\",\"   0.00%\",\"      \\\\n\",\"   0.00%\",\"     _to\",\"   0.00%\"],[\"       ,\",\" 100.00%\",\"      _(\",\"   0.00%\",\"     _in\",\"   0.00%\",\"   _that\",\"   0.00%\",\"       .\",\"   0.00%\",\"    _and\",\"   0.00%\",\"      \\\\n\",\"   0.00%\",\"       -\",\"   0.00%\",\"      _a\",\"   0.00%\",\"       :\",\"   0.00%\"]],[[\"      _I\",\"  95.60%\",\"       ,\",\"   4.39%\",\"      _(\",\"   0.00%\",\"    _and\",\"   0.00%\",\"      \\\\n\",\"   0.00%\",\"     _in\",\"   0.00%\",\"       -\",\"   0.00%\",\"       .\",\"   0.00%\",\"       \\u002f\",\"   0.00%\",\"       :\",\"   0.00%\"],[\"  _start\",\"  96.64%\",\"       ,\",\"   3.32%\",\"     _in\",\"   0.02%\",\"    _and\",\"   0.01%\",\"      _(\",\"   0.00%\",\"     _to\",\"   0.00%\",\"      _a\",\"   0.00%\",\"    _the\",\"   0.00%\",\"     _at\",\"   0.00%\",\"     _on\",\"   0.00%\"],[\"   _like\",\"  99.81%\",\"      _a\",\"   0.11%\",\"       ,\",\"   0.04%\",\"     _in\",\"   0.02%\",\"      _(\",\"   0.01%\",\"    _and\",\"   0.01%\",\"     _as\",\"   0.01%\",\"       -\",\"   0.00%\",\"     _to\",\"   0.00%\",\"    _the\",\"   0.00%\"],[\"       ,\",\"  61.13%\",\"      _(\",\"  38.87%\",\"     _in\",\"   0.00%\",\"      \\\\n\",\"   0.00%\",\"    _and\",\"   0.00%\",\"       -\",\"   0.00%\",\"       :\",\"   0.00%\",\"       .\",\"   0.00%\",\"      _a\",\"   0.00%\",\"      _\\\"\",\"   0.00%\"],[\"    _and\",\" 100.00%\",\"       ,\",\"   0.00%\",\"      _(\",\"   0.00%\",\"     _in\",\"   0.00%\",\"      _a\",\"   0.00%\",\"    _the\",\"   0.00%\",\"     _to\",\"   0.00%\",\"     _as\",\"   0.00%\",\"      \\\\n\",\"   0.00%\",\"       -\",\"   0.00%\"],[\"    _end\",\" 100.00%\",\"       ,\",\"   0.00%\",\"    _the\",\"   0.00%\",\"     _in\",\"   0.00%\",\"     _of\",\"   0.00%\",\"    _and\",\"   0.00%\",\"      _(\",\"   0.00%\",\"    _all\",\"   0.00%\",\"      _a\",\"   0.00%\",\"     _to\",\"   0.00%\"],[\"   _like\",\"  99.67%\",\"       ,\",\"   0.32%\",\"    _and\",\"   0.01%\",\"     _in\",\"   0.00%\",\"     _as\",\"   0.00%\",\"       -\",\"   0.00%\",\"      _(\",\"   0.00%\",\"      _a\",\"   0.00%\",\"     _to\",\"   0.00%\",\"    _the\",\"   0.00%\"],[\"       ,\",\" 100.00%\",\"      _(\",\"   0.00%\",\"       .\",\"   0.00%\",\"     _in\",\"   0.00%\",\"    _and\",\"   0.00%\",\"      \\\\n\",\"   0.00%\",\"   _that\",\"   0.00%\",\"       -\",\"   0.00%\",\"       :\",\"   0.00%\",\"      _a\",\"   0.00%\"]],[[\"       ,\",\"  99.33%\",\"      _I\",\"   0.65%\",\"    _and\",\"   0.02%\",\"      _(\",\"   0.00%\",\"     _in\",\"   0.00%\",\"       -\",\"   0.00%\",\"      \\\\n\",\"   0.00%\",\"       .\",\"   0.00%\",\"       \\u002f\",\"   0.00%\",\"      _\\\"\",\"   0.00%\"],[\"       ,\",\"  98.98%\",\"    _and\",\"   0.68%\",\"     _in\",\"   0.23%\",\"      _(\",\"   0.08%\",\"     _to\",\"   0.02%\",\"  _start\",\"   0.01%\",\"      _a\",\"   0.00%\",\"    _the\",\"   0.00%\",\"     _on\",\"   0.00%\",\"       -\",\"   0.00%\"],[\"       ,\",\"  82.65%\",\"    _and\",\"   8.69%\",\"   _like\",\"   2.71%\",\"      _a\",\"   2.57%\",\"     _in\",\"   1.69%\",\"      _(\",\"   1.43%\",\"     _as\",\"   0.15%\",\"       -\",\"   0.12%\",\"     _to\",\"   0.00%\",\"    _the\",\"   0.00%\"],[\"       ,\",\"  90.95%\",\"      _(\",\"   9.04%\",\"    _and\",\"   0.01%\",\"     _in\",\"   0.00%\",\"      \\\\n\",\"   0.00%\",\"       .\",\"   0.00%\",\"       -\",\"   0.00%\",\"       :\",\"   0.00%\",\"      _a\",\"   0.00%\",\"     _to\",\"   0.00%\"],[\"    _and\",\"  77.67%\",\"       ,\",\"  14.06%\",\"      _(\",\"   7.72%\",\"     _in\",\"   0.55%\",\"      _a\",\"   0.01%\",\"      _I\",\"   0.00%\",\"       \\u002f\",\"   0.00%\",\"    _the\",\"   0.00%\",\"     _to\",\"   0.00%\",\"       -\",\"   0.00%\"],[\"    _end\",\" 100.00%\",\"       ,\",\"   0.00%\",\"      _(\",\"   0.00%\",\"     _in\",\"   0.00%\",\"    _the\",\"   0.00%\",\"    _and\",\"   0.00%\",\"      _a\",\"   0.00%\",\"     _to\",\"   0.00%\",\"     _of\",\"   0.00%\",\"       -\",\"   0.00%\"],[\"       ,\",\"  89.29%\",\"   _like\",\"   9.14%\",\"      _(\",\"   0.89%\",\"     _in\",\"   0.32%\",\"       -\",\"   0.18%\",\"    _and\",\"   0.13%\",\"     _as\",\"   0.02%\",\"      _a\",\"   0.01%\",\"     _to\",\"   0.00%\",\"    _the\",\"   0.00%\"],[\"       ,\",\"  95.79%\",\"      _(\",\"   4.17%\",\"       .\",\"   0.04%\",\"     _in\",\"   0.00%\",\"    _and\",\"   0.00%\",\"      \\\\n\",\"   0.00%\",\"       -\",\"   0.00%\",\"       :\",\"   0.00%\",\"    _for\",\"   0.00%\",\"      _a\",\"   0.00%\"]],[[\"       ,\",\"  99.99%\",\"    _and\",\"   0.01%\",\"      _(\",\"   0.00%\",\"      _I\",\"   0.00%\",\"       -\",\"   0.00%\",\"     _in\",\"   0.00%\",\"       .\",\"   0.00%\",\"      \\\\n\",\"   0.00%\",\"       \\u002f\",\"   0.00%\",\"      _\\\"\",\"   0.00%\"],[\"       ,\",\"  95.12%\",\"    _and\",\"   4.24%\",\"     _in\",\"   0.52%\",\"      _(\",\"   0.10%\",\"     _to\",\"   0.01%\",\"      _a\",\"   0.00%\",\"       -\",\"   0.00%\",\"    _the\",\"   0.00%\",\"     _on\",\"   0.00%\",\"     _at\",\"   0.00%\"],[\"       ,\",\"  91.64%\",\"      _a\",\"   5.43%\",\"    _and\",\"   1.56%\",\"     _in\",\"   1.09%\",\"      _(\",\"   0.23%\",\"       -\",\"   0.04%\",\"     _as\",\"   0.00%\",\"     _to\",\"   0.00%\",\"   _like\",\"   0.00%\",\"    _the\",\"   0.00%\"],[\"       ,\",\"  99.84%\",\"      _(\",\"   0.16%\",\"     _in\",\"   0.00%\",\"    _and\",\"   0.00%\",\"       .\",\"   0.00%\",\"       :\",\"   0.00%\",\"      \\\\n\",\"   0.00%\",\"       -\",\"   0.00%\",\"     _is\",\"   0.00%\",\"      _a\",\"   0.00%\"],[\"       ,\",\"  99.44%\",\"    _and\",\"   0.37%\",\"      _(\",\"   0.18%\",\"     _in\",\"   0.00%\",\"      _a\",\"   0.00%\",\"      _I\",\"   0.00%\",\"       \\u002f\",\"   0.00%\",\"      \\\\n\",\"   0.00%\",\"       -\",\"   0.00%\",\"    _the\",\"   0.00%\"],[\"    _end\",\"  94.92%\",\"       ,\",\"   4.96%\",\"      _(\",\"   0.07%\",\"     _in\",\"   0.02%\",\"    _and\",\"   0.01%\",\"       -\",\"   0.01%\",\"    _the\",\"   0.00%\",\"    _all\",\"   0.00%\",\"      _a\",\"   0.00%\",\"      _P\",\"   0.00%\"],[\"       ,\",\"  98.88%\",\"     _in\",\"   0.72%\",\"      _(\",\"   0.31%\",\"    _and\",\"   0.04%\",\"      _a\",\"   0.04%\",\"       -\",\"   0.00%\",\"   _like\",\"   0.00%\",\"     _as\",\"   0.00%\",\"    _the\",\"   0.00%\",\"      \\\\n\",\"   0.00%\"],[\"       ,\",\"  99.82%\",\"      _(\",\"   0.17%\",\"       .\",\"   0.01%\",\"     _in\",\"   0.00%\",\"    _and\",\"   0.00%\",\"      \\\\n\",\"   0.00%\",\"       :\",\"   0.00%\",\"       -\",\"   0.00%\",\"     _as\",\"   0.00%\",\"    _for\",\"   0.00%\"]],[[\"       ,\",\"  99.97%\",\"    _and\",\"   0.02%\",\"      _(\",\"   0.01%\",\"     _in\",\"   0.00%\",\"       -\",\"   0.00%\",\"      \\\\n\",\"   0.00%\",\"      _I\",\"   0.00%\",\"       .\",\"   0.00%\",\"      _a\",\"   0.00%\",\"      _\\\"\",\"   0.00%\"],[\"       ,\",\"  97.54%\",\"    _and\",\"   2.11%\",\"     _in\",\"   0.19%\",\"      _(\",\"   0.16%\",\"     _to\",\"   0.00%\",\"      _a\",\"   0.00%\",\"    _the\",\"   0.00%\",\"       -\",\"   0.00%\",\"     _at\",\"   0.00%\",\"      \\\\n\",\"   0.00%\"],[\"      _a\",\"  48.74%\",\"       ,\",\"  48.10%\",\"     _in\",\"   1.98%\",\"    _and\",\"   0.62%\",\"      _(\",\"   0.54%\",\"       -\",\"   0.01%\",\"     _as\",\"   0.00%\",\"     _to\",\"   0.00%\",\"    _the\",\"   0.00%\",\"      \\\\n\",\"   0.00%\"],[\"       ,\",\"  99.87%\",\"      _(\",\"   0.12%\",\"       :\",\"   0.00%\",\"       .\",\"   0.00%\",\"     _in\",\"   0.00%\",\"      \\\\n\",\"   0.00%\",\"    _and\",\"   0.00%\",\"       -\",\"   0.00%\",\"     _is\",\"   0.00%\",\"      _\\\"\",\"   0.00%\"],[\"       ,\",\"  98.10%\",\"      _(\",\"   1.09%\",\"    _and\",\"   0.80%\",\"     _in\",\"   0.01%\",\"      _I\",\"   0.00%\",\"      _a\",\"   0.00%\",\"      \\\\n\",\"   0.00%\",\"       \\u002f\",\"   0.00%\",\"    _the\",\"   0.00%\",\"     _to\",\"   0.00%\"],[\"       ,\",\"  69.31%\",\"     _in\",\"  18.44%\",\"      _(\",\"  10.37%\",\"    _and\",\"   1.84%\",\"       -\",\"   0.02%\",\"     _to\",\"   0.00%\",\"   _with\",\"   0.00%\",\"     _at\",\"   0.00%\",\"    _end\",\"   0.00%\",\"    _the\",\"   0.00%\"],[\"       ,\",\"  98.91%\",\"     _in\",\"   0.97%\",\"      _a\",\"   0.05%\",\"      _(\",\"   0.04%\",\"    _and\",\"   0.02%\",\"       -\",\"   0.00%\",\"      \\\\n\",\"   0.00%\",\"       .\",\"   0.00%\",\"     _to\",\"   0.00%\",\"    _the\",\"   0.00%\"],[\"       ,\",\"  99.87%\",\"      _(\",\"   0.12%\",\"       .\",\"   0.00%\",\"    _and\",\"   0.00%\",\"      \\\\n\",\"   0.00%\",\"     _in\",\"   0.00%\",\"       :\",\"   0.00%\",\"       -\",\"   0.00%\",\"     _is\",\"   0.00%\",\"     _as\",\"   0.00%\"]],[[\"       ,\",\"  99.93%\",\"      _(\",\"   0.06%\",\"    _and\",\"   0.02%\",\"     _in\",\"   0.00%\",\"       -\",\"   0.00%\",\"      \\\\n\",\"   0.00%\",\"       .\",\"   0.00%\",\"      _I\",\"   0.00%\",\"      _a\",\"   0.00%\",\"     _to\",\"   0.00%\"],[\"       ,\",\"  98.54%\",\"    _and\",\"   1.38%\",\"     _in\",\"   0.04%\",\"      _(\",\"   0.03%\",\"     _to\",\"   0.00%\",\"      _a\",\"   0.00%\",\"       -\",\"   0.00%\",\"    _the\",\"   0.00%\",\"     _at\",\"   0.00%\",\"      \\\\n\",\"   0.00%\"],[\"       ,\",\"  99.52%\",\"      _a\",\"   0.29%\",\"     _in\",\"   0.09%\",\"    _and\",\"   0.07%\",\"      _(\",\"   0.03%\",\"       -\",\"   0.00%\",\"     _as\",\"   0.00%\",\"     _to\",\"   0.00%\",\"    _the\",\"   0.00%\",\"      \\\\n\",\"   0.00%\"],[\"       ,\",\"  99.97%\",\"      _(\",\"   0.03%\",\"       :\",\"   0.00%\",\"    _and\",\"   0.00%\",\"       .\",\"   0.00%\",\"     _in\",\"   0.00%\",\"      \\\\n\",\"   0.00%\",\"       -\",\"   0.00%\",\"     _is\",\"   0.00%\",\"      _a\",\"   0.00%\"],[\"       ,\",\"  99.82%\",\"      _(\",\"   0.11%\",\"    _and\",\"   0.05%\",\"     _in\",\"   0.02%\",\"      _a\",\"   0.00%\",\"      _I\",\"   0.00%\",\"    _the\",\"   0.00%\",\"      \\\\n\",\"   0.00%\",\"     _to\",\"   0.00%\",\"       \\u002f\",\"   0.00%\"],[\"       ,\",\"  66.10%\",\"     _in\",\"  32.64%\",\"    _and\",\"   0.82%\",\"      _(\",\"   0.44%\",\"     _as\",\"   0.01%\",\"       -\",\"   0.00%\",\"     _to\",\"   0.00%\",\"       .\",\"   0.00%\",\"      \\\\n\",\"   0.00%\",\"      _a\",\"   0.00%\"],[\"       ,\",\"  99.87%\",\"     _in\",\"   0.12%\",\"      _(\",\"   0.00%\",\"    _and\",\"   0.00%\",\"      _a\",\"   0.00%\",\"      \\\\n\",\"   0.00%\",\"   _this\",\"   0.00%\",\"       -\",\"   0.00%\",\"       .\",\"   0.00%\",\"     _as\",\"   0.00%\"],[\"       ,\",\"  99.98%\",\"      _(\",\"   0.02%\",\"       .\",\"   0.00%\",\"    _and\",\"   0.00%\",\"      \\\\n\",\"   0.00%\",\"     _in\",\"   0.00%\",\"       :\",\"   0.00%\",\"       -\",\"   0.00%\",\"     _is\",\"   0.00%\",\"     _as\",\"   0.00%\"]],[[\"       ,\",\"  99.96%\",\"      _(\",\"   0.04%\",\"    _and\",\"   0.01%\",\"       -\",\"   0.00%\",\"     _in\",\"   0.00%\",\"      \\\\n\",\"   0.00%\",\"       .\",\"   0.00%\",\"      _I\",\"   0.00%\",\"      _a\",\"   0.00%\",\"     _to\",\"   0.00%\"],[\"       ,\",\"  98.86%\",\"    _and\",\"   1.06%\",\"      _(\",\"   0.05%\",\"     _in\",\"   0.02%\",\"     _to\",\"   0.00%\",\"      _a\",\"   0.00%\",\"       -\",\"   0.00%\",\"     _at\",\"   0.00%\",\"    _the\",\"   0.00%\",\"      \\\\n\",\"   0.00%\"],[\"       ,\",\"  99.86%\",\"      _a\",\"   0.05%\",\"      _(\",\"   0.05%\",\"     _in\",\"   0.04%\",\"    _and\",\"   0.00%\",\"       -\",\"   0.00%\",\"     _to\",\"   0.00%\",\"    _the\",\"   0.00%\",\"      \\\\n\",\"   0.00%\",\"     _as\",\"   0.00%\"],[\"       ,\",\" 100.00%\",\"      _(\",\"   0.00%\",\"       :\",\"   0.00%\",\"    _and\",\"   0.00%\",\"      \\\\n\",\"   0.00%\",\"       .\",\"   0.00%\",\"     _in\",\"   0.00%\",\"       -\",\"   0.00%\",\"      _\\\"\",\"   0.00%\",\"     _is\",\"   0.00%\"],[\"       ,\",\"  99.42%\",\"      _(\",\"   0.55%\",\"    _and\",\"   0.03%\",\"     _in\",\"   0.01%\",\"      _I\",\"   0.00%\",\"      _a\",\"   0.00%\",\"      \\\\n\",\"   0.00%\",\"     _as\",\"   0.00%\",\"    _the\",\"   0.00%\",\"     _to\",\"   0.00%\"],[\"     _in\",\"  57.12%\",\"       ,\",\"  42.29%\",\"    _and\",\"   0.37%\",\"      _(\",\"   0.19%\",\"     _as\",\"   0.03%\",\"       -\",\"   0.00%\",\"     _to\",\"   0.00%\",\"     _at\",\"   0.00%\",\"       .\",\"   0.00%\",\"     _on\",\"   0.00%\"],[\"   _this\",\" 100.00%\",\"       ,\",\"   0.00%\",\"      _(\",\"   0.00%\",\"     _in\",\"   0.00%\",\"   _that\",\"   0.00%\",\"      \\\\n\",\"   0.00%\",\"    _and\",\"   0.00%\",\"       -\",\"   0.00%\",\"      _a\",\"   0.00%\",\"       .\",\"   0.00%\"],[\"       ,\",\" 100.00%\",\"      _(\",\"   0.00%\",\"       .\",\"   0.00%\",\"    _and\",\"   0.00%\",\"      \\\\n\",\"   0.00%\",\"       :\",\"   0.00%\",\"     _in\",\"   0.00%\",\"       -\",\"   0.00%\",\"      _\\\"\",\"   0.00%\",\"     _as\",\"   0.00%\"]],[[\"       ,\",\"  98.47%\",\"      _(\",\"   1.22%\",\"    _and\",\"   0.12%\",\"       -\",\"   0.10%\",\"      _I\",\"   0.07%\",\"      \\\\n\",\"   0.02%\",\"       .\",\"   0.00%\",\"       \\u002f\",\"   0.00%\",\"     _in\",\"   0.00%\",\"     _is\",\"   0.00%\"],[\"       ,\",\"  61.07%\",\"     _to\",\"  37.88%\",\"    _and\",\"   0.50%\",\"     _in\",\"   0.30%\",\"   _with\",\"   0.20%\",\"      _a\",\"   0.03%\",\"      _(\",\"   0.02%\",\"    _the\",\"   0.01%\",\"     _at\",\"   0.00%\",\"       -\",\"   0.00%\"],[\"      _a\",\"  93.50%\",\"       ,\",\"   6.49%\",\"     _in\",\"   0.00%\",\"      _(\",\"   0.00%\",\"   _that\",\"   0.00%\",\"   _this\",\"   0.00%\",\"    _the\",\"   0.00%\",\"    _and\",\"   0.00%\",\"       -\",\"   0.00%\",\"     _to\",\"   0.00%\"],[\"       ,\",\"  94.55%\",\"       :\",\"   5.44%\",\"      _(\",\"   0.01%\",\"       .\",\"   0.00%\",\"      \\\\n\",\"   0.00%\",\"    _and\",\"   0.00%\",\"     _in\",\"   0.00%\",\"       -\",\"   0.00%\",\"     _to\",\"   0.00%\",\"     _is\",\"   0.00%\"],[\"      _I\",\"  97.66%\",\"       ,\",\"   2.24%\",\"     _in\",\"   0.06%\",\"    _the\",\"   0.03%\",\"      _(\",\"   0.00%\",\"     _it\",\"   0.00%\",\"    _and\",\"   0.00%\",\"      _a\",\"   0.00%\",\"     _as\",\"   0.00%\",\"      \\\\n\",\"   0.00%\"],[\"     _in\",\"  54.97%\",\"   _like\",\"  44.22%\",\"     _as\",\"   0.49%\",\"       ,\",\"   0.25%\",\"   _with\",\"   0.08%\",\"      _(\",\"   0.00%\",\"    _and\",\"   0.00%\",\"     _at\",\"   0.00%\",\"    _the\",\"   0.00%\",\"       -\",\"   0.00%\"],[\"   _this\",\" 100.00%\",\"   _that\",\"   0.00%\",\"       ,\",\"   0.00%\",\"      _(\",\"   0.00%\",\"     _in\",\"   0.00%\",\"      _a\",\"   0.00%\",\"    _the\",\"   0.00%\",\"      \\\\n\",\"   0.00%\",\"    _and\",\"   0.00%\",\"     _to\",\"   0.00%\"],[\"       ,\",\"  99.64%\",\"       :\",\"   0.31%\",\"       .\",\"   0.03%\",\"      _(\",\"   0.02%\",\"      \\\\n\",\"   0.00%\",\"    _and\",\"   0.00%\",\"     _in\",\"   0.00%\",\"       -\",\"   0.00%\",\"     _as\",\"   0.00%\",\"     _to\",\"   0.00%\"]],[[\"   apopt\",\"  14.33%\",\" _incor\\u2026\",\"  13.88%\",\" artifa\\u2026\",\"   6.61%\",\"    onen\",\"   6.60%\",\" stanbul\",\"   5.17%\",\"   emplo\",\"   3.74%\",\" _subse\\u2026\",\"   2.79%\",\"      'm\",\"   2.59%\",\"    _was\",\"   1.77%\",\"     \\u00c4\\u00b1m\",\"   1.74%\"],[\"   _with\",\"  60.91%\",\"     yma\",\"  10.11%\",\"     _to\",\"   7.66%\",\"     _my\",\"   7.53%\",\"    _off\",\"   5.22%\",\"    _out\",\"   1.27%\",\"     _up\",\"   0.58%\",\"  lament\",\"   0.50%\",\" odegrad\",\"   0.50%\",\"   _from\",\"   0.49%\"],[\"   _this\",\"  92.92%\",\"   _that\",\"   2.84%\",\"   cknow\",\"   2.24%\",\"      _a\",\"   0.34%\",\" zheimer\",\"   0.32%\",\"     yma\",\"   0.32%\",\"     jee\",\"   0.27%\",\"    ptin\",\"   0.21%\",\"  \\u00d0\\u00bd\\u00d0\\u00b0\\u00d1\\u0129\",\"   0.13%\",\" unnumb\\u2026\",\"   0.13%\"],[\"       :\",\"  86.91%\",\" zheimer\",\"   3.81%\",\"   rades\",\"   3.63%\",\" otheti\\u2026\",\"   1.65%\",\"       ,\",\"   1.27%\",\"       .\",\"   0.61%\",\"  anchez\",\"   0.41%\",\"   elesc\",\"   0.19%\",\"       ;\",\"   0.08%\",\"   emplo\",\"   0.08%\"],[\"      _I\",\"  31.96%\",\"     _it\",\"  29.87%\",\"   _then\",\"  16.20%\",\"  _never\",\"   2.85%\",\" _every\\u2026\",\"   2.03%\",\" pendic\\u2026\",\"   1.93%\",\" _immed\\u2026\",\"   1.87%\",\"    _you\",\"   1.69%\",\" _quick\\u2026\",\"   1.11%\",\"     _my\",\"   1.09%\"],[\"   _like\",\"  99.82%\",\"     _up\",\"   0.14%\",\"   _with\",\"   0.02%\",\" pendic\\u2026\",\"   0.01%\",\"     _as\",\"   0.00%\",\"   odont\",\"   0.00%\",\"     _in\",\"   0.00%\",\"   acerb\",\"   0.00%\",\" quisite\",\"   0.00%\",\"  achine\",\"   0.00%\"],[\"   _this\",\"  99.99%\",\"   _that\",\"   0.01%\",\" zheimer\",\"   0.00%\",\"  _these\",\"   0.00%\",\" pendic\\u2026\",\"   0.00%\",\"  uximab\",\"   0.00%\",\"    this\",\"   0.00%\",\" athetic\",\"   0.00%\",\"   ctica\",\"   0.00%\",\" ocyana\\u2026\",\"   0.00%\"],[\"   elesc\",\"  27.66%\",\"  formin\",\"  18.37%\",\"  infall\",\"  12.43%\",\"       :\",\"  12.30%\",\" zheimer\",\"   9.41%\",\"       .\",\"   8.32%\",\"  ielder\",\"   3.23%\",\"       ,\",\"   2.16%\",\"   uture\",\"   0.69%\",\" missib\\u2026\",\"   0.51%\"]],[[\"      'm\",\"   8.20%\",\"   _have\",\"   4.82%\",\"     _am\",\"   3.55%\",\"    _was\",\"   3.36%\",\"  _think\",\"   2.98%\",\"    _don\",\"   2.68%\",\"    _can\",\"   2.25%\",\"       .\",\"   2.02%\",\"     've\",\"   2.00%\",\"   _will\",\"   1.52%\"],[\"     _to\",\"  13.31%\",\"   _with\",\"  12.41%\",\"    _the\",\"   3.99%\",\"    _out\",\"   3.74%\",\"    _off\",\"   2.98%\",\"     _my\",\"   2.77%\",\"      _a\",\"   2.48%\",\"   _from\",\"   1.75%\",\" _think\\u2026\",\"   1.75%\",\"     _at\",\"   1.57%\"],[\"   _this\",\"  42.04%\",\"   _that\",\"  11.74%\",\"      _a\",\"  10.50%\",\"      _I\",\"   3.59%\",\"    _you\",\"   1.98%\",\"       ,\",\"   1.92%\",\"    _the\",\"   1.79%\",\"     _an\",\"   1.71%\",\"     _it\",\"   1.33%\",\"      \\\\n\",\"   0.77%\"],[\"       :\",\"  32.09%\",\"       ,\",\"  10.34%\",\"       .\",\"  10.16%\",\"      .\\\"\",\"   4.01%\",\"      \\\\n\",\"   3.33%\",\"       \\\"\",\"   2.58%\",\"     ...\",\"   2.36%\",\"      ,\\\"\",\"   2.15%\",\"    _and\",\"   2.06%\",\"    ...\\\"\",\"   1.29%\"],[\"      _I\",\"  19.52%\",\"     _it\",\"  11.89%\",\"   _then\",\"   3.53%\",\"    _the\",\"   2.87%\",\"    _you\",\"   2.68%\",\"    _end\",\"   2.11%\",\"    _get\",\"   1.81%\",\"     _my\",\"   1.39%\",\"   _have\",\"   1.29%\",\"    _don\",\"   1.20%\"],[\"   _like\",\"  76.06%\",\"     _up\",\"  10.99%\",\"   _with\",\"   2.72%\",\"     _in\",\"   1.74%\",\"     _as\",\"   1.38%\",\"    _the\",\"   0.67%\",\"     _at\",\"   0.44%\",\"     _it\",\"   0.33%\",\"     _on\",\"   0.31%\",\"      \\\\n\",\"   0.22%\"],[\"   _this\",\"  86.03%\",\"   _that\",\"  10.40%\",\"    _the\",\"   0.36%\",\"      \\\\n\",\"   0.33%\",\"      _I\",\"   0.21%\",\"     _it\",\"   0.14%\",\"      _a\",\"   0.14%\",\"  _these\",\"   0.14%\",\"       :\",\"   0.10%\",\"    _you\",\"   0.10%\"],[\"       .\",\"  24.79%\",\"       :\",\"  11.96%\",\"       ,\",\"  11.62%\",\"      .\\\"\",\"   5.02%\",\"      \\\\n\",\"   3.84%\",\"      ,\\\"\",\"   2.38%\",\"       \\\"\",\"   2.27%\",\"     ...\",\"   2.19%\",\"    _and\",\"   2.12%\",\"       ?\",\"   1.22%\"]]],\"hoverlabel\":{\"bgcolor\":\"rgb(42, 42, 50)\",\"font\":{\"family\":\"Monospace\"}},\"hovertemplate\":\"%{customdata[0]}%{customdata[1]}\\u003cbr\\u003e%{customdata[2]}%{customdata[3]}\\u003cbr\\u003e%{customdata[4]}%{customdata[5]}\\u003cbr\\u003e%{customdata[6]}%{customdata[7]}\\u003cbr\\u003e%{customdata[8]}%{customdata[9]}\\u003cbr\\u003e%{customdata[10]}%{customdata[11]}\\u003cbr\\u003e%{customdata[12]}%{customdata[13]}\\u003cbr\\u003e%{customdata[14]}%{customdata[15]}\\u003cbr\\u003e%{customdata[16]}%{customdata[17]}\\u003cbr\\u003e%{customdata[18]}%{customdata[19]}\\u003cbr\\u003e\\u003cextra\\u003e\\u003c\\u002fextra\\u003e\",\"text\":[[\"_I\",\"_start\",\"_like\",\"_this\",\"_and\",\"_end\",\"_like\",\"_that\"],[\"_I\",\"_start\",\"_like\",\"_this\",\"_and\",\"_end\",\"_like\",\"_that\"],[\"_I\",\"_start\",\"_like\",\"_this\",\"_and\",\"_end\",\"_like\",\",\"],[\"_I\",\"_start\",\"_like\",\",\",\"_and\",\"_end\",\"_like\",\",\"],[\"_I\",\"_start\",\"_like\",\",\",\"_and\",\"_end\",\"_like\",\",\"],[\",\",\",\",\",\",\",\",\"_and\",\"_end\",\",\",\",\"],[\",\",\",\",\",\",\",\",\",\",\"_end\",\",\",\",\"],[\",\",\",\",\"_a\",\",\",\",\",\",\",\",\",\",\"],[\",\",\",\",\",\",\",\",\",\",\",\",\",\",\",\"],[\",\",\",\",\",\",\",\",\",\",\"_in\",\"_this\",\",\"],[\",\",\",\",\"_a\",\",\",\"_I\",\"_in\",\"_this\",\",\"],[\"apopt\",\"_with\",\"_this\",\":\",\"_I\",\"_like\",\"_this\",\"elesc\"],[\"'m\",\"_to\",\"_this\",\":\",\"_I\",\"_like\",\"_this\",\".\"]],\"texttemplate\":\"\\u003cb\\u003e%{text}\\u003c\\u002fb\\u003e\",\"x\":[\"I\",\"_start\\u200c\",\"_like\\u200c\\u200c\",\"_this\\u200c\\u200c\\u200c\",\"_and\\u200c\\u200c\\u200c\\u200c\",\"_end\\u200c\\u200c\\u200c\\u200c\\u200c\",\"_like\\u200c\\u200c\\u200c\\u200c\\u200c\\u200c\",\"_that\\u200c\\u200c\\u200c\\u200c\\u200c\\u200c\\u200c\"],\"y\":[\"0\",\"2\",\"4\",\"6\",\"8\",\"10\",\"12\",\"14\",\"16\",\"18\",\"20\",\"22\",\"output\"],\"z\":[[129.51332092285156,104.74528503417969,125.54325866699219,90.87338256835938,117.51115417480469,130.95481872558594,129.35052490234375,154.85012817382812],[95.66070556640625,81.11091613769531,91.08932495117188,47.698577880859375,94.44265747070312,117.61900329589844,89.50253295898438,99.40516662597656],[90.06653594970703,65.7757568359375,71.58866882324219,15.27662467956543,89.16856384277344,99.14170837402344,70.7990493774414,79.00457763671875],[84.14741516113281,44.9863166809082,53.436134338378906,11.005749702453613,82.80117797851562,75.8705062866211,48.661415100097656,82.25743103027344],[59.846641540527344,38.965179443359375,38.86579132080078,13.0441255569458,72.28532409667969,58.056419372558594,37.23521041870117,77.66755676269531],[55.23040771484375,38.277679443359375,33.361473083496094,9.789935111999512,46.72534942626953,49.63501739501953,28.3162899017334,64.7557601928711],[59.76369857788086,37.262142181396484,36.98038101196289,12.08769416809082,47.2801399230957,40.94561004638672,25.223926544189453,66.72743225097656],[64.8414077758789,45.51436996459961,34.06852722167969,14.607277870178223,45.48554611206055,39.54621887207031,27.68433380126953,69.88272857666016],[65.08358001708984,48.94340515136719,39.600425720214844,13.424745559692383,40.72880554199219,32.38792037963867,26.33273696899414,69.56147766113281],[68.79802703857422,49.382816314697266,31.725839614868164,14.892295837402344,39.37370681762695,20.716501235961914,24.184722900390625,76.22122955322266],[45.107337951660156,36.11782455444336,13.288599014282227,16.778064727783203,25.856054306030273,0.8160415887832642,18.381206512451172,54.23615264892578],[13.611364364624023,8.386646270751953,0.07345770299434662,9.141691207885742,4.649266242980957,0.0017590539064258337,9.16526985168457,15.10550594329834],[7.81534481048584,6.207776069641113,0.8664448857307434,3.8807713985443115,3.8602347373962402,0.27360716462135315,2.263324737548828,7.15303897857666]],\"zmax\":154.85012817382812,\"zmin\":0.0017590539064258337,\"type\":\"heatmap\"}],                        {\"template\":{\"data\":{\"histogram2dcontour\":[{\"type\":\"histogram2dcontour\",\"colorbar\":{\"outlinewidth\":0,\"ticks\":\"\"},\"colorscale\":[[0.0,\"#0d0887\"],[0.1111111111111111,\"#46039f\"],[0.2222222222222222,\"#7201a8\"],[0.3333333333333333,\"#9c179e\"],[0.4444444444444444,\"#bd3786\"],[0.5555555555555556,\"#d8576b\"],[0.6666666666666666,\"#ed7953\"],[0.7777777777777778,\"#fb9f3a\"],[0.8888888888888888,\"#fdca26\"],[1.0,\"#f0f921\"]]}],\"choropleth\":[{\"type\":\"choropleth\",\"colorbar\":{\"outlinewidth\":0,\"ticks\":\"\"}}],\"histogram2d\":[{\"type\":\"histogram2d\",\"colorbar\":{\"outlinewidth\":0,\"ticks\":\"\"},\"colorscale\":[[0.0,\"#0d0887\"],[0.1111111111111111,\"#46039f\"],[0.2222222222222222,\"#7201a8\"],[0.3333333333333333,\"#9c179e\"],[0.4444444444444444,\"#bd3786\"],[0.5555555555555556,\"#d8576b\"],[0.6666666666666666,\"#ed7953\"],[0.7777777777777778,\"#fb9f3a\"],[0.8888888888888888,\"#fdca26\"],[1.0,\"#f0f921\"]]}],\"heatmap\":[{\"type\":\"heatmap\",\"colorbar\":{\"outlinewidth\":0,\"ticks\":\"\"},\"colorscale\":[[0.0,\"#0d0887\"],[0.1111111111111111,\"#46039f\"],[0.2222222222222222,\"#7201a8\"],[0.3333333333333333,\"#9c179e\"],[0.4444444444444444,\"#bd3786\"],[0.5555555555555556,\"#d8576b\"],[0.6666666666666666,\"#ed7953\"],[0.7777777777777778,\"#fb9f3a\"],[0.8888888888888888,\"#fdca26\"],[1.0,\"#f0f921\"]]}],\"heatmapgl\":[{\"type\":\"heatmapgl\",\"colorbar\":{\"outlinewidth\":0,\"ticks\":\"\"},\"colorscale\":[[0.0,\"#0d0887\"],[0.1111111111111111,\"#46039f\"],[0.2222222222222222,\"#7201a8\"],[0.3333333333333333,\"#9c179e\"],[0.4444444444444444,\"#bd3786\"],[0.5555555555555556,\"#d8576b\"],[0.6666666666666666,\"#ed7953\"],[0.7777777777777778,\"#fb9f3a\"],[0.8888888888888888,\"#fdca26\"],[1.0,\"#f0f921\"]]}],\"contourcarpet\":[{\"type\":\"contourcarpet\",\"colorbar\":{\"outlinewidth\":0,\"ticks\":\"\"}}],\"contour\":[{\"type\":\"contour\",\"colorbar\":{\"outlinewidth\":0,\"ticks\":\"\"},\"colorscale\":[[0.0,\"#0d0887\"],[0.1111111111111111,\"#46039f\"],[0.2222222222222222,\"#7201a8\"],[0.3333333333333333,\"#9c179e\"],[0.4444444444444444,\"#bd3786\"],[0.5555555555555556,\"#d8576b\"],[0.6666666666666666,\"#ed7953\"],[0.7777777777777778,\"#fb9f3a\"],[0.8888888888888888,\"#fdca26\"],[1.0,\"#f0f921\"]]}],\"surface\":[{\"type\":\"surface\",\"colorbar\":{\"outlinewidth\":0,\"ticks\":\"\"},\"colorscale\":[[0.0,\"#0d0887\"],[0.1111111111111111,\"#46039f\"],[0.2222222222222222,\"#7201a8\"],[0.3333333333333333,\"#9c179e\"],[0.4444444444444444,\"#bd3786\"],[0.5555555555555556,\"#d8576b\"],[0.6666666666666666,\"#ed7953\"],[0.7777777777777778,\"#fb9f3a\"],[0.8888888888888888,\"#fdca26\"],[1.0,\"#f0f921\"]]}],\"mesh3d\":[{\"type\":\"mesh3d\",\"colorbar\":{\"outlinewidth\":0,\"ticks\":\"\"}}],\"scatter\":[{\"fillpattern\":{\"fillmode\":\"overlay\",\"size\":10,\"solidity\":0.2},\"type\":\"scatter\"}],\"parcoords\":[{\"type\":\"parcoords\",\"line\":{\"colorbar\":{\"outlinewidth\":0,\"ticks\":\"\"}}}],\"scatterpolargl\":[{\"type\":\"scatterpolargl\",\"marker\":{\"colorbar\":{\"outlinewidth\":0,\"ticks\":\"\"}}}],\"bar\":[{\"error_x\":{\"color\":\"#2a3f5f\"},\"error_y\":{\"color\":\"#2a3f5f\"},\"marker\":{\"line\":{\"color\":\"#E5ECF6\",\"width\":0.5},\"pattern\":{\"fillmode\":\"overlay\",\"size\":10,\"solidity\":0.2}},\"type\":\"bar\"}],\"scattergeo\":[{\"type\":\"scattergeo\",\"marker\":{\"colorbar\":{\"outlinewidth\":0,\"ticks\":\"\"}}}],\"scatterpolar\":[{\"type\":\"scatterpolar\",\"marker\":{\"colorbar\":{\"outlinewidth\":0,\"ticks\":\"\"}}}],\"histogram\":[{\"marker\":{\"pattern\":{\"fillmode\":\"overlay\",\"size\":10,\"solidity\":0.2}},\"type\":\"histogram\"}],\"scattergl\":[{\"type\":\"scattergl\",\"marker\":{\"colorbar\":{\"outlinewidth\":0,\"ticks\":\"\"}}}],\"scatter3d\":[{\"type\":\"scatter3d\",\"line\":{\"colorbar\":{\"outlinewidth\":0,\"ticks\":\"\"}},\"marker\":{\"colorbar\":{\"outlinewidth\":0,\"ticks\":\"\"}}}],\"scattermapbox\":[{\"type\":\"scattermapbox\",\"marker\":{\"colorbar\":{\"outlinewidth\":0,\"ticks\":\"\"}}}],\"scatterternary\":[{\"type\":\"scatterternary\",\"marker\":{\"colorbar\":{\"outlinewidth\":0,\"ticks\":\"\"}}}],\"scattercarpet\":[{\"type\":\"scattercarpet\",\"marker\":{\"colorbar\":{\"outlinewidth\":0,\"ticks\":\"\"}}}],\"carpet\":[{\"aaxis\":{\"endlinecolor\":\"#2a3f5f\",\"gridcolor\":\"white\",\"linecolor\":\"white\",\"minorgridcolor\":\"white\",\"startlinecolor\":\"#2a3f5f\"},\"baxis\":{\"endlinecolor\":\"#2a3f5f\",\"gridcolor\":\"white\",\"linecolor\":\"white\",\"minorgridcolor\":\"white\",\"startlinecolor\":\"#2a3f5f\"},\"type\":\"carpet\"}],\"table\":[{\"cells\":{\"fill\":{\"color\":\"#EBF0F8\"},\"line\":{\"color\":\"white\"}},\"header\":{\"fill\":{\"color\":\"#C8D4E3\"},\"line\":{\"color\":\"white\"}},\"type\":\"table\"}],\"barpolar\":[{\"marker\":{\"line\":{\"color\":\"#E5ECF6\",\"width\":0.5},\"pattern\":{\"fillmode\":\"overlay\",\"size\":10,\"solidity\":0.2}},\"type\":\"barpolar\"}],\"pie\":[{\"automargin\":true,\"type\":\"pie\"}]},\"layout\":{\"autotypenumbers\":\"strict\",\"colorway\":[\"#636efa\",\"#EF553B\",\"#00cc96\",\"#ab63fa\",\"#FFA15A\",\"#19d3f3\",\"#FF6692\",\"#B6E880\",\"#FF97FF\",\"#FECB52\"],\"font\":{\"color\":\"#2a3f5f\"},\"hovermode\":\"closest\",\"hoverlabel\":{\"align\":\"left\"},\"paper_bgcolor\":\"white\",\"plot_bgcolor\":\"#E5ECF6\",\"polar\":{\"bgcolor\":\"#E5ECF6\",\"angularaxis\":{\"gridcolor\":\"white\",\"linecolor\":\"white\",\"ticks\":\"\"},\"radialaxis\":{\"gridcolor\":\"white\",\"linecolor\":\"white\",\"ticks\":\"\"}},\"ternary\":{\"bgcolor\":\"#E5ECF6\",\"aaxis\":{\"gridcolor\":\"white\",\"linecolor\":\"white\",\"ticks\":\"\"},\"baxis\":{\"gridcolor\":\"white\",\"linecolor\":\"white\",\"ticks\":\"\"},\"caxis\":{\"gridcolor\":\"white\",\"linecolor\":\"white\",\"ticks\":\"\"}},\"coloraxis\":{\"colorbar\":{\"outlinewidth\":0,\"ticks\":\"\"}},\"colorscale\":{\"sequential\":[[0.0,\"#0d0887\"],[0.1111111111111111,\"#46039f\"],[0.2222222222222222,\"#7201a8\"],[0.3333333333333333,\"#9c179e\"],[0.4444444444444444,\"#bd3786\"],[0.5555555555555556,\"#d8576b\"],[0.6666666666666666,\"#ed7953\"],[0.7777777777777778,\"#fb9f3a\"],[0.8888888888888888,\"#fdca26\"],[1.0,\"#f0f921\"]],\"sequentialminus\":[[0.0,\"#0d0887\"],[0.1111111111111111,\"#46039f\"],[0.2222222222222222,\"#7201a8\"],[0.3333333333333333,\"#9c179e\"],[0.4444444444444444,\"#bd3786\"],[0.5555555555555556,\"#d8576b\"],[0.6666666666666666,\"#ed7953\"],[0.7777777777777778,\"#fb9f3a\"],[0.8888888888888888,\"#fdca26\"],[1.0,\"#f0f921\"]],\"diverging\":[[0,\"#8e0152\"],[0.1,\"#c51b7d\"],[0.2,\"#de77ae\"],[0.3,\"#f1b6da\"],[0.4,\"#fde0ef\"],[0.5,\"#f7f7f7\"],[0.6,\"#e6f5d0\"],[0.7,\"#b8e186\"],[0.8,\"#7fbc41\"],[0.9,\"#4d9221\"],[1,\"#276419\"]]},\"xaxis\":{\"gridcolor\":\"white\",\"linecolor\":\"white\",\"ticks\":\"\",\"title\":{\"standoff\":15},\"zerolinecolor\":\"white\",\"automargin\":true,\"zerolinewidth\":2},\"yaxis\":{\"gridcolor\":\"white\",\"linecolor\":\"white\",\"ticks\":\"\",\"title\":{\"standoff\":15},\"zerolinecolor\":\"white\",\"automargin\":true,\"zerolinewidth\":2},\"scene\":{\"xaxis\":{\"backgroundcolor\":\"#E5ECF6\",\"gridcolor\":\"white\",\"linecolor\":\"white\",\"showbackground\":true,\"ticks\":\"\",\"zerolinecolor\":\"white\",\"gridwidth\":2},\"yaxis\":{\"backgroundcolor\":\"#E5ECF6\",\"gridcolor\":\"white\",\"linecolor\":\"white\",\"showbackground\":true,\"ticks\":\"\",\"zerolinecolor\":\"white\",\"gridwidth\":2},\"zaxis\":{\"backgroundcolor\":\"#E5ECF6\",\"gridcolor\":\"white\",\"linecolor\":\"white\",\"showbackground\":true,\"ticks\":\"\",\"zerolinecolor\":\"white\",\"gridwidth\":2}},\"shapedefaults\":{\"line\":{\"color\":\"#2a3f5f\"}},\"annotationdefaults\":{\"arrowcolor\":\"#2a3f5f\",\"arrowhead\":0,\"arrowwidth\":1},\"geo\":{\"bgcolor\":\"white\",\"landcolor\":\"#E5ECF6\",\"subunitcolor\":\"white\",\"showland\":true,\"showlakes\":true,\"lakecolor\":\"white\"},\"title\":{\"x\":0.05},\"mapbox\":{\"style\":\"light\"}}},\"title\":{\"text\":\"LogitLens (state-spaces\\u002fmamba-130m) cross_entropy\",\"x\":0.5},\"width\":840,\"xaxis\":{\"title\":{\"text\":\"Input\"}},\"yaxis\":{\"title\":{\"text\":\"Layer\"}}},                        {\"responsive\": true}                    ).then(function(){\n",
       "                            \n",
       "var gd = document.getElementById('f8549407-dad2-4aa5-aa84-9dbf8e525ef1');\n",
       "var x = new MutationObserver(function (mutations, observer) {{\n",
       "        var display = window.getComputedStyle(gd).display;\n",
       "        if (!display || display === 'none') {{\n",
       "            console.log([gd, 'removed!']);\n",
       "            Plotly.purge(gd);\n",
       "            observer.disconnect();\n",
       "        }}\n",
       "}});\n",
       "\n",
       "// Listen for the removal of the full notebook cells\n",
       "var notebookContainer = gd.closest('#notebook-container');\n",
       "if (notebookContainer) {{\n",
       "    x.observe(notebookContainer, {childList: true});\n",
       "}}\n",
       "\n",
       "// Listen for the clearing of the current output cell\n",
       "var outputEl = gd.closest('.output');\n",
       "if (outputEl) {{\n",
       "    x.observe(outputEl, {childList: true});\n",
       "}}\n",
       "\n",
       "                        })                };                });            </script>        </div>"
      ]
     },
     "metadata": {},
     "output_type": "display_data"
    }
   ],
   "source": [
    "update_token_range()\n",
    "\n",
    "token_range_wdg.value = [0, token_range_wdg.max]\n",
    "text_wdg.observe(update_token_range, 'value')\n",
    "\n",
    "interact = widgets.interact.options(manual_name='Run Lens', manual=True)\n",
    "\n",
    "plot = interact(\n",
    "    make_plot,\n",
    "    text=text_wdg,\n",
    "    statistic=statistic_wdg,\n",
    "    lens=lens_wdg,\n",
    "    layer_stride=layer_stride_wdg,\n",
    "    token_range=token_range_wdg,\n",
    ")"
   ]
  },
  {
   "cell_type": "code",
   "execution_count": 7,
   "metadata": {},
   "outputs": [],
   "source": [
    "fig = make_plot(tuned_lens, \"I start like this and end like that\", 2, \"entropy\", [0,8])"
   ]
  },
  {
   "cell_type": "code",
   "execution_count": 8,
   "metadata": {},
   "outputs": [],
   "source": [
    "fig.write_image(\"tuned_lens.svg\")"
   ]
  },
  {
   "cell_type": "code",
   "execution_count": null,
   "metadata": {},
   "outputs": [],
   "source": []
  }
 ],
 "metadata": {
  "kernelspec": {
   "display_name": "base",
   "language": "python",
   "name": "python3"
  },
  "language_info": {
   "codemirror_mode": {
    "name": "ipython",
    "version": 3
   },
   "file_extension": ".py",
   "mimetype": "text/x-python",
   "name": "python",
   "nbconvert_exporter": "python",
   "pygments_lexer": "ipython3",
   "version": "3.10.13"
  }
 },
 "nbformat": 4,
 "nbformat_minor": 2
}
