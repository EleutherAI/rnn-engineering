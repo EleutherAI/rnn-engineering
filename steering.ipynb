{
 "cells": [
  {
   "cell_type": "code",
   "execution_count": 1,
   "metadata": {},
   "outputs": [
    {
     "name": "stderr",
     "output_type": "stream",
     "text": [
      "/mnt/ssd-1/gpaulo/miniconda3/lib/python3.11/site-packages/tqdm/auto.py:21: TqdmWarning: IProgress not found. Please update jupyter and ipywidgets. See https://ipywidgets.readthedocs.io/en/stable/user_install.html\n",
      "  from .autonotebook import tqdm as notebook_tqdm\n",
      "/mnt/ssd-1/gpaulo/miniconda3/lib/python3.11/site-packages/diffusers/utils/outputs.py:63: UserWarning: torch.utils._pytree._register_pytree_node is deprecated. Please use torch.utils._pytree.register_pytree_node instead.\n",
      "  torch.utils._pytree._register_pytree_node(\n"
     ]
    }
   ],
   "source": [
    "import mamba_ssm\n",
    "from nnsight import LanguageModel, util\n",
    "from nnsight.tracing.Proxy import Proxy\n",
    "from nnsight.models.Mamba import MambaInterp\n",
    "from transformers import AutoTokenizer\n",
    "import numpy as np\n",
    "import torch as t\n",
    "import torch.nn.functional as F\n",
    "import einops\n",
    "from tqdm import tqdm\n",
    "from functools import partial\n",
    "\n",
    "from rich import print as rprint\n",
    "from rich.table import Table\n",
    "\n",
    "from typing import List, Callable, Union\n",
    "\n",
    "device = t.device(\"cuda:7\" if t.cuda.is_available() else \"cpu\")"
   ]
  },
  {
   "cell_type": "code",
   "execution_count": 2,
   "metadata": {},
   "outputs": [
    {
     "name": "stderr",
     "output_type": "stream",
     "text": [
      "Special tokens have been added in the vocabulary, make sure the associated word embeddings are fine-tuned or trained.\n"
     ]
    }
   ],
   "source": [
    "tokenizer = AutoTokenizer.from_pretrained(\"EleutherAI/gpt-neox-20b\", padding_side=\"left\")\n",
    "tokenizer.pad_token_id = tokenizer.eos_token_id\n",
    "mamba_model = MambaInterp(\"state-spaces/mamba-2.8b\", device=device, tokenizer=tokenizer)\n",
    "sampling_kwargs = {\n",
    "    \"top_p\": 0.3,\n",
    "    \"top_k\": 0,\n",
    "    \"repetition_penalty\": 1.1,\n",
    "} # in mamba_ssm/utils/generation.py"
   ]
  },
  {
   "cell_type": "code",
   "execution_count": 3,
   "metadata": {},
   "outputs": [],
   "source": [
    "def print_steering_table(unsteered_completions, steered_completions, layer, coeff):\n",
    "    table = Table(\"Unsteered\", \"Steered\", title=f\"Completions for steering at layer {layer}, coefficient {coeff}\", show_lines=True)\n",
    "    for usc, sc in zip(unsteered_completions, steered_completions):\n",
    "        table.add_row(usc, sc)\n",
    "    rprint(table)"
   ]
  },
  {
   "cell_type": "code",
   "execution_count": 66,
   "metadata": {},
   "outputs": [],
   "source": [
    "def apply_steering_vector(\n",
    "    model: LanguageModel,\n",
    "    layer: int,\n",
    "    new_token_length: int,\n",
    "    steering_prompts: List[str],\n",
    "    steering_coefficients: List[float],\n",
    "    prompts: List[str],\n",
    "    apply_only_at_end=False,\n",
    "):\n",
    "    with model.invoke(prompts) as invoker:\n",
    "        seq_lens = [len(invoker.input[\"input_ids\"][i]) for i in range(len(prompts))]\n",
    "        prompt_seq_len = max(seq_lens)\n",
    "    n_steers = len(steering_prompts)\n",
    "    n_completions = len(prompts)\n",
    "\n",
    "    \n",
    "    with model.generate(max_length=prompt_seq_len+new_token_length, **sampling_kwargs) as generator:\n",
    "        print(\"Generating vectors\")\n",
    "        with generator.invoke(steering_prompts) as invoker:\n",
    "            seq_lens = [len(invoker.input[\"input_ids\"][i]) for i in range(n_steers)]\n",
    "            max_len = max(seq_lens)\n",
    "\n",
    "            extracted_vectors = []\n",
    "            extracted_state_vectors=[[] for _ in range(max_len)]\n",
    "            #hidden_state = model.backbone.layers[layer].mixer.ssm.hx\n",
    "            hidden_state = model.backbone.layers[layer].mixer\n",
    "            ssm_state = hidden_state.ssm.hx\n",
    "            for batch in range(n_steers):\n",
    "                vec = hidden_state.output[batch,  ...]\n",
    "                extracted_vectors.append(vec)\n",
    "            for position in tqdm(range(max_len)):\n",
    "                for batch in range(n_steers):\n",
    "                    prompt_len = seq_lens[batch]\n",
    "                    if position < prompt_len:\n",
    "                        if apply_only_at_end and position != prompt_len - 1:\n",
    "                            extracted_state_vectors[position].append(None)\n",
    "                        else:\n",
    "                            vec = ssm_state.output[batch, ...]\n",
    "                            extracted_state_vectors[position].append(vec)\n",
    "                    ssm_state = ssm_state.next()\n",
    "\n",
    "        with generator.invoke(prompts) as invoker:\n",
    "            pass\n",
    "\n",
    "        print(\"Steering step\")\n",
    "        with generator.invoke(prompts) as invoker:\n",
    "            hidden_state = model.backbone.layers[layer].mixer\n",
    "            ssm_state = hidden_state.ssm.hx\n",
    "            for steer_batch in range(n_steers):\n",
    "                coeff = steering_coefficients[steer_batch]  \n",
    "                for prompt_batch in range(n_completions):\n",
    "                    vec = extracted_vectors[steer_batch]\n",
    "                    for i in range(len(vec)):\n",
    "                        pos = len(invoker.input[\"input_ids\"][prompt_batch]) - len(vec) + i\n",
    "                        hidden_state.output[prompt_batch,pos, ...] += coeff * vec[i]\n",
    "                    #hidden_state.output[prompt_batch,:len(vec), ...] += coeff * vec\n",
    "            for j in range(len(invoker.input[\"input_ids\"][prompt_batch]) - len(vec)):\n",
    "                ssm_state = ssm_state.next()\n",
    "            for position in tqdm(range(max_len)):\n",
    "\n",
    "                for steer_batch in range(n_steers):\n",
    "                    coeff = steering_coefficients[steer_batch]\n",
    "                    for prompt_batch in range(n_completions):\n",
    "                        vec = extracted_state_vectors[position][steer_batch]\n",
    "                        if vec is None:\n",
    "                            continue\n",
    "                        ssm_state.output[prompt_batch, ...] += coeff * vec\n",
    "\n",
    "                ssm_state = ssm_state.next()\n",
    "    unsteered_completions = generator.output[n_steers:-n_completions]\n",
    "    steered_completions = generator.output[-n_completions:]\n",
    "\n",
    "    return unsteered_completions, steered_completions"
   ]
  },
  {
   "cell_type": "code",
   "execution_count": 71,
   "metadata": {},
   "outputs": [
    {
     "name": "stdout",
     "output_type": "stream",
     "text": [
      "Generating vectors\n"
     ]
    },
    {
     "name": "stderr",
     "output_type": "stream",
     "text": [
      "100%|██████████| 5/5 [00:00<00:00, 18.20it/s]\n"
     ]
    },
    {
     "name": "stdout",
     "output_type": "stream",
     "text": [
      "Steering step\n"
     ]
    },
    {
     "name": "stderr",
     "output_type": "stream",
     "text": [
      "100%|██████████| 5/5 [00:01<00:00,  2.88it/s]\n"
     ]
    },
    {
     "data": {
      "text/html": [
       "<pre style=\"white-space:pre;overflow-x:auto;line-height:normal;font-family:Menlo,'DejaVu Sans Mono',consolas,'Courier New',monospace\"><span style=\"font-style: italic\">                               Completions for steering at layer 16, coefficient 10                                </span>\n",
       "┏━━━━━━━━━━━━━━━━━━━━━━━━━━━━━━━━━━━━━━━━━━━━━━━━━━━━━━━━┳━━━━━━━━━━━━━━━━━━━━━━━━━━━━━━━━━━━━━━━━━━━━━━━━━━━━━━━━┓\n",
       "┃<span style=\"font-weight: bold\"> Unsteered                                              </span>┃<span style=\"font-weight: bold\"> Steered                                                </span>┃\n",
       "┡━━━━━━━━━━━━━━━━━━━━━━━━━━━━━━━━━━━━━━━━━━━━━━━━━━━━━━━━╇━━━━━━━━━━━━━━━━━━━━━━━━━━━━━━━━━━━━━━━━━━━━━━━━━━━━━━━━┩\n",
       "│ When I think of you I think of a rose.\" \"And when the  │ When I think of you I think of the following:          │\n",
       "│ sun shines on it, It glows like gold\" \"It's so         │                                                        │\n",
       "│ beautiful!\" \"I'll make this                            │ A list of all features that are not in any other       │\n",
       "│                                                        │ version.                                               │\n",
       "│                                                        │ The minimum set of features required to be able to run │\n",
       "├────────────────────────────────────────────────────────┼────────────────────────────────────────────────────────┤\n",
       "│ When I think of you I think of a man who is both very  │ When I think of you I think of the time when it was    │\n",
       "│ rich and                                               │ just me and my mom.                                    │\n",
       "│ very poor.  He has everything, but he wants nothing;   │ I remember how she would always tell us to be good     │\n",
       "│ his heart will be                                      │ girls, not like her. She                               │\n",
       "│ always open to                                         │                                                        │\n",
       "├────────────────────────────────────────────────────────┼────────────────────────────────────────────────────────┤\n",
       "│ When I think of you I think of all the good times we   │ When I think of you I think of your love               │\n",
       "│ had.\" \"You know, when it was just us and no one else   │ I'm a little bit in the dark but it's okay, oh yeah.   │\n",
       "│ around?\" \"Yeah...\" \"I remember those days              │ Yeah, when we touch each other all that time           │\n",
       "└────────────────────────────────────────────────────────┴────────────────────────────────────────────────────────┘\n",
       "</pre>\n"
      ],
      "text/plain": [
       "\u001b[3m                               Completions for steering at layer 16, coefficient 10                                \u001b[0m\n",
       "┏━━━━━━━━━━━━━━━━━━━━━━━━━━━━━━━━━━━━━━━━━━━━━━━━━━━━━━━━┳━━━━━━━━━━━━━━━━━━━━━━━━━━━━━━━━━━━━━━━━━━━━━━━━━━━━━━━━┓\n",
       "┃\u001b[1m \u001b[0m\u001b[1mUnsteered                                             \u001b[0m\u001b[1m \u001b[0m┃\u001b[1m \u001b[0m\u001b[1mSteered                                               \u001b[0m\u001b[1m \u001b[0m┃\n",
       "┡━━━━━━━━━━━━━━━━━━━━━━━━━━━━━━━━━━━━━━━━━━━━━━━━━━━━━━━━╇━━━━━━━━━━━━━━━━━━━━━━━━━━━━━━━━━━━━━━━━━━━━━━━━━━━━━━━━┩\n",
       "│ When I think of you I think of a rose.\" \"And when the  │ When I think of you I think of the following:          │\n",
       "│ sun shines on it, It glows like gold\" \"It's so         │                                                        │\n",
       "│ beautiful!\" \"I'll make this                            │ A list of all features that are not in any other       │\n",
       "│                                                        │ version.                                               │\n",
       "│                                                        │ The minimum set of features required to be able to run │\n",
       "├────────────────────────────────────────────────────────┼────────────────────────────────────────────────────────┤\n",
       "│ When I think of you I think of a man who is both very  │ When I think of you I think of the time when it was    │\n",
       "│ rich and                                               │ just me and my mom.                                    │\n",
       "│ very poor.  He has everything, but he wants nothing;   │ I remember how she would always tell us to be good     │\n",
       "│ his heart will be                                      │ girls, not like her. She                               │\n",
       "│ always open to                                         │                                                        │\n",
       "├────────────────────────────────────────────────────────┼────────────────────────────────────────────────────────┤\n",
       "│ When I think of you I think of all the good times we   │ When I think of you I think of your love               │\n",
       "│ had.\" \"You know, when it was just us and no one else   │ I'm a little bit in the dark but it's okay, oh yeah.   │\n",
       "│ around?\" \"Yeah...\" \"I remember those days              │ Yeah, when we touch each other all that time           │\n",
       "└────────────────────────────────────────────────────────┴────────────────────────────────────────────────────────┘\n"
      ]
     },
     "metadata": {},
     "output_type": "display_data"
    },
    {
     "name": "stdout",
     "output_type": "stream",
     "text": [
      "Generating vectors\n"
     ]
    },
    {
     "name": "stderr",
     "output_type": "stream",
     "text": [
      "100%|██████████| 5/5 [00:00<00:00, 18.15it/s]\n"
     ]
    },
    {
     "name": "stdout",
     "output_type": "stream",
     "text": [
      "Steering step\n"
     ]
    },
    {
     "name": "stderr",
     "output_type": "stream",
     "text": [
      "100%|██████████| 5/5 [00:01<00:00,  2.88it/s]\n"
     ]
    },
    {
     "data": {
      "text/html": [
       "<pre style=\"white-space:pre;overflow-x:auto;line-height:normal;font-family:Menlo,'DejaVu Sans Mono',consolas,'Courier New',monospace\"><span style=\"font-style: italic\">                               Completions for steering at layer 24, coefficient 10                                </span>\n",
       "┏━━━━━━━━━━━━━━━━━━━━━━━━━━━━━━━━━━━━━━━━━━━━━━━━━━━━━━━━┳━━━━━━━━━━━━━━━━━━━━━━━━━━━━━━━━━━━━━━━━━━━━━━━━━━━━━━━━┓\n",
       "┃<span style=\"font-weight: bold\"> Unsteered                                              </span>┃<span style=\"font-weight: bold\"> Steered                                                </span>┃\n",
       "┡━━━━━━━━━━━━━━━━━━━━━━━━━━━━━━━━━━━━━━━━━━━━━━━━━━━━━━━━╇━━━━━━━━━━━━━━━━━━━━━━━━━━━━━━━━━━━━━━━━━━━━━━━━━━━━━━━━┩\n",
       "│ When I think of you I think of the stars.\" \"And when   │ When I think of you I think of the following:          │\n",
       "│ I'm with you, they shine brighter than ever before.\"   │   I'm gonna have to get a hold on myself.              │\n",
       "│ \"But it's not just about them shining bright in my     │                                                        │\n",
       "│                                                        │ &lt;|endoftext|&gt;Amino acid-based peptidomimetics as       │\n",
       "├────────────────────────────────────────────────────────┼────────────────────────────────────────────────────────┤\n",
       "│ When I think of you I think of the moon,               │ When I think of you I think of a bunch of dead people, │\n",
       "│   And how it shines in a clear sky.                    │ and it's not the way that we're going to do things.\"   │\n",
       "│                                                        │ \"What?\" \"No!\" \"It was my                               │\n",
       "│     I see your face when my eyes are closed;           │                                                        │\n",
       "│   Your                                                 │                                                        │\n",
       "├────────────────────────────────────────────────────────┼────────────────────────────────────────────────────────┤\n",
       "│ When I think of you I think of that night.\" \"I can't   │ When I think of you I think of your father,            │\n",
       "│ get it out of my head, how beautiful and strong you    │   And when the moon is bright and clear.               │\n",
       "│ were... like a wild animal in the moonlight.\" \"        │ I wish that we were in a boat;                         │\n",
       "│                                                        │ Oh! would my heart                                     │\n",
       "└────────────────────────────────────────────────────────┴────────────────────────────────────────────────────────┘\n",
       "</pre>\n"
      ],
      "text/plain": [
       "\u001b[3m                               Completions for steering at layer 24, coefficient 10                                \u001b[0m\n",
       "┏━━━━━━━━━━━━━━━━━━━━━━━━━━━━━━━━━━━━━━━━━━━━━━━━━━━━━━━━┳━━━━━━━━━━━━━━━━━━━━━━━━━━━━━━━━━━━━━━━━━━━━━━━━━━━━━━━━┓\n",
       "┃\u001b[1m \u001b[0m\u001b[1mUnsteered                                             \u001b[0m\u001b[1m \u001b[0m┃\u001b[1m \u001b[0m\u001b[1mSteered                                               \u001b[0m\u001b[1m \u001b[0m┃\n",
       "┡━━━━━━━━━━━━━━━━━━━━━━━━━━━━━━━━━━━━━━━━━━━━━━━━━━━━━━━━╇━━━━━━━━━━━━━━━━━━━━━━━━━━━━━━━━━━━━━━━━━━━━━━━━━━━━━━━━┩\n",
       "│ When I think of you I think of the stars.\" \"And when   │ When I think of you I think of the following:          │\n",
       "│ I'm with you, they shine brighter than ever before.\"   │   I'm gonna have to get a hold on myself.              │\n",
       "│ \"But it's not just about them shining bright in my     │                                                        │\n",
       "│                                                        │ <|endoftext|>Amino acid-based peptidomimetics as       │\n",
       "├────────────────────────────────────────────────────────┼────────────────────────────────────────────────────────┤\n",
       "│ When I think of you I think of the moon,               │ When I think of you I think of a bunch of dead people, │\n",
       "│   And how it shines in a clear sky.                    │ and it's not the way that we're going to do things.\"   │\n",
       "│                                                        │ \"What?\" \"No!\" \"It was my                               │\n",
       "│     I see your face when my eyes are closed;           │                                                        │\n",
       "│   Your                                                 │                                                        │\n",
       "├────────────────────────────────────────────────────────┼────────────────────────────────────────────────────────┤\n",
       "│ When I think of you I think of that night.\" \"I can't   │ When I think of you I think of your father,            │\n",
       "│ get it out of my head, how beautiful and strong you    │   And when the moon is bright and clear.               │\n",
       "│ were... like a wild animal in the moonlight.\" \"        │ I wish that we were in a boat;                         │\n",
       "│                                                        │ Oh! would my heart                                     │\n",
       "└────────────────────────────────────────────────────────┴────────────────────────────────────────────────────────┘\n"
      ]
     },
     "metadata": {},
     "output_type": "display_data"
    },
    {
     "name": "stdout",
     "output_type": "stream",
     "text": [
      "Generating vectors\n"
     ]
    },
    {
     "name": "stderr",
     "output_type": "stream",
     "text": [
      "100%|██████████| 5/5 [00:00<00:00, 18.41it/s]\n"
     ]
    },
    {
     "name": "stdout",
     "output_type": "stream",
     "text": [
      "Steering step\n"
     ]
    },
    {
     "name": "stderr",
     "output_type": "stream",
     "text": [
      "100%|██████████| 5/5 [00:01<00:00,  2.91it/s]\n"
     ]
    },
    {
     "data": {
      "text/html": [
       "<pre style=\"white-space:pre;overflow-x:auto;line-height:normal;font-family:Menlo,'DejaVu Sans Mono',consolas,'Courier New',monospace\"><span style=\"font-style: italic\">                               Completions for steering at layer 40, coefficient 10                                </span>\n",
       "┏━━━━━━━━━━━━━━━━━━━━━━━━━━━━━━━━━━━━━━━━━━━━━━━━━━━━━┳━━━━━━━━━━━━━━━━━━━━━━━━━━━━━━━━━━━━━━━━━━━━━━━━━━━━━━━━━━━┓\n",
       "┃<span style=\"font-weight: bold\"> Unsteered                                           </span>┃<span style=\"font-weight: bold\"> Steered                                                   </span>┃\n",
       "┡━━━━━━━━━━━━━━━━━━━━━━━━━━━━━━━━━━━━━━━━━━━━━━━━━━━━━╇━━━━━━━━━━━━━━━━━━━━━━━━━━━━━━━━━━━━━━━━━━━━━━━━━━━━━━━━━━━┩\n",
       "│ When I think of you I think of love,                │ When I think of you I think of this place, the only home  │\n",
       "│     And then the world is full o' roses.            │ we had together. The house where my mother and father     │\n",
       "│                                                     │ were born.\"                                               │\n",
       "│   \"I'm sorry for my heart to-day;                   │                                                           │\n",
       "│     For                                             │ \"You mean that's why it was                               │\n",
       "├─────────────────────────────────────────────────────┼───────────────────────────────────────────────────────────┤\n",
       "│ When I think of you I think of my life,             │ When I think of you I think of the day we first met       │\n",
       "│ And the love that is left to me.                    │ And now, after all these years it seems like yesterday.   │\n",
       "│ I am a man who has lost his way;                    │ I know that your heart is filled with love for me         │\n",
       "│ The world’s in                                      │                                                           │\n",
       "├─────────────────────────────────────────────────────┼───────────────────────────────────────────────────────────┤\n",
       "│ When I think of you I think of the sky              │ When I think of you I think of the past,                  │\n",
       "│ And when I'm not with you, my heart aches so bad.   │   The present and my future.                              │\n",
       "│ I can't wait to see your face again...&lt;|endoftext|&gt; │                                                           │\n",
       "│                                                     │   I know that all is not lost;                            │\n",
       "│                                                     │     All will be well in time!                             │\n",
       "└─────────────────────────────────────────────────────┴───────────────────────────────────────────────────────────┘\n",
       "</pre>\n"
      ],
      "text/plain": [
       "\u001b[3m                               Completions for steering at layer 40, coefficient 10                                \u001b[0m\n",
       "┏━━━━━━━━━━━━━━━━━━━━━━━━━━━━━━━━━━━━━━━━━━━━━━━━━━━━━┳━━━━━━━━━━━━━━━━━━━━━━━━━━━━━━━━━━━━━━━━━━━━━━━━━━━━━━━━━━━┓\n",
       "┃\u001b[1m \u001b[0m\u001b[1mUnsteered                                          \u001b[0m\u001b[1m \u001b[0m┃\u001b[1m \u001b[0m\u001b[1mSteered                                                  \u001b[0m\u001b[1m \u001b[0m┃\n",
       "┡━━━━━━━━━━━━━━━━━━━━━━━━━━━━━━━━━━━━━━━━━━━━━━━━━━━━━╇━━━━━━━━━━━━━━━━━━━━━━━━━━━━━━━━━━━━━━━━━━━━━━━━━━━━━━━━━━━┩\n",
       "│ When I think of you I think of love,                │ When I think of you I think of this place, the only home  │\n",
       "│     And then the world is full o' roses.            │ we had together. The house where my mother and father     │\n",
       "│                                                     │ were born.\"                                               │\n",
       "│   \"I'm sorry for my heart to-day;                   │                                                           │\n",
       "│     For                                             │ \"You mean that's why it was                               │\n",
       "├─────────────────────────────────────────────────────┼───────────────────────────────────────────────────────────┤\n",
       "│ When I think of you I think of my life,             │ When I think of you I think of the day we first met       │\n",
       "│ And the love that is left to me.                    │ And now, after all these years it seems like yesterday.   │\n",
       "│ I am a man who has lost his way;                    │ I know that your heart is filled with love for me         │\n",
       "│ The world’s in                                      │                                                           │\n",
       "├─────────────────────────────────────────────────────┼───────────────────────────────────────────────────────────┤\n",
       "│ When I think of you I think of the sky              │ When I think of you I think of the past,                  │\n",
       "│ And when I'm not with you, my heart aches so bad.   │   The present and my future.                              │\n",
       "│ I can't wait to see your face again...<|endoftext|> │                                                           │\n",
       "│                                                     │   I know that all is not lost;                            │\n",
       "│                                                     │     All will be well in time!                             │\n",
       "└─────────────────────────────────────────────────────┴───────────────────────────────────────────────────────────┘\n"
      ]
     },
     "metadata": {},
     "output_type": "display_data"
    },
    {
     "name": "stdout",
     "output_type": "stream",
     "text": [
      "Generating vectors\n"
     ]
    },
    {
     "name": "stderr",
     "output_type": "stream",
     "text": [
      "100%|██████████| 5/5 [00:00<00:00, 18.47it/s]\n"
     ]
    },
    {
     "name": "stdout",
     "output_type": "stream",
     "text": [
      "Steering step\n"
     ]
    },
    {
     "name": "stderr",
     "output_type": "stream",
     "text": [
      "100%|██████████| 5/5 [00:01<00:00,  2.91it/s]\n"
     ]
    },
    {
     "data": {
      "text/html": [
       "<pre style=\"white-space:pre;overflow-x:auto;line-height:normal;font-family:Menlo,'DejaVu Sans Mono',consolas,'Courier New',monospace\"><span style=\"font-style: italic\">                               Completions for steering at layer 60, coefficient 10                                </span>\n",
       "┏━━━━━━━━━━━━━━━━━━━━━━━━━━━━━━━━━━━━━━━━━━━━━━━━━━━━━━━━┳━━━━━━━━━━━━━━━━━━━━━━━━━━━━━━━━━━━━━━━━━━━━━━━━━━━━━━━━┓\n",
       "┃<span style=\"font-weight: bold\"> Unsteered                                              </span>┃<span style=\"font-weight: bold\"> Steered                                                </span>┃\n",
       "┡━━━━━━━━━━━━━━━━━━━━━━━━━━━━━━━━━━━━━━━━━━━━━━━━━━━━━━━━╇━━━━━━━━━━━━━━━━━━━━━━━━━━━━━━━━━━━━━━━━━━━━━━━━━━━━━━━━┩\n",
       "│ When I think of you I think of all the things we've    │ When I think of you I think of a                       │\n",
       "│ done together, and how much fun it was.\" \"And then...\" │ big-hearted, caring man.  You have always been there   │\n",
       "│ \"I just feel like such a fool for letting this         │ for me and my family in the past few years when we     │\n",
       "│                                                        │ needed it                                              │\n",
       "├────────────────────────────────────────────────────────┼────────────────────────────────────────────────────────┤\n",
       "│ When I think of you I think of a little boy, who is in │ When I think of you I think of                         │\n",
       "│ need.                                                  │ a house with no roof.                                  │\n",
       "│ You have been very kind to me and I am sure that we    │                                                        │\n",
       "│ can be friends for life.\"&lt;|endoftext|&gt;                 │ English:                                               │\n",
       "│                                                        │ You are the one who made me forget my home, and all    │\n",
       "│                                                        │ that was dear                                          │\n",
       "├────────────────────────────────────────────────────────┼────────────────────────────────────────────────────────┤\n",
       "│ When I think of you I think of that,                   │ When I think of you I think of                         │\n",
       "│ And when the day is done and night has come.           │ a person who is a kind, generous and good friend.      │\n",
       "│ I’ll sit here by myself in my lonely                   │                                                        │\n",
       "│ room.”&lt;|endoftext|&gt;Q:                                  │ A:                                                     │\n",
       "│                                                        │                                                        │\n",
       "│                                                        │ The phrase \"I'm thinking about\" can be                 │\n",
       "└────────────────────────────────────────────────────────┴────────────────────────────────────────────────────────┘\n",
       "</pre>\n"
      ],
      "text/plain": [
       "\u001b[3m                               Completions for steering at layer 60, coefficient 10                                \u001b[0m\n",
       "┏━━━━━━━━━━━━━━━━━━━━━━━━━━━━━━━━━━━━━━━━━━━━━━━━━━━━━━━━┳━━━━━━━━━━━━━━━━━━━━━━━━━━━━━━━━━━━━━━━━━━━━━━━━━━━━━━━━┓\n",
       "┃\u001b[1m \u001b[0m\u001b[1mUnsteered                                             \u001b[0m\u001b[1m \u001b[0m┃\u001b[1m \u001b[0m\u001b[1mSteered                                               \u001b[0m\u001b[1m \u001b[0m┃\n",
       "┡━━━━━━━━━━━━━━━━━━━━━━━━━━━━━━━━━━━━━━━━━━━━━━━━━━━━━━━━╇━━━━━━━━━━━━━━━━━━━━━━━━━━━━━━━━━━━━━━━━━━━━━━━━━━━━━━━━┩\n",
       "│ When I think of you I think of all the things we've    │ When I think of you I think of a                       │\n",
       "│ done together, and how much fun it was.\" \"And then...\" │ big-hearted, caring man.  You have always been there   │\n",
       "│ \"I just feel like such a fool for letting this         │ for me and my family in the past few years when we     │\n",
       "│                                                        │ needed it                                              │\n",
       "├────────────────────────────────────────────────────────┼────────────────────────────────────────────────────────┤\n",
       "│ When I think of you I think of a little boy, who is in │ When I think of you I think of                         │\n",
       "│ need.                                                  │ a house with no roof.                                  │\n",
       "│ You have been very kind to me and I am sure that we    │                                                        │\n",
       "│ can be friends for life.\"<|endoftext|>                 │ English:                                               │\n",
       "│                                                        │ You are the one who made me forget my home, and all    │\n",
       "│                                                        │ that was dear                                          │\n",
       "├────────────────────────────────────────────────────────┼────────────────────────────────────────────────────────┤\n",
       "│ When I think of you I think of that,                   │ When I think of you I think of                         │\n",
       "│ And when the day is done and night has come.           │ a person who is a kind, generous and good friend.      │\n",
       "│ I’ll sit here by myself in my lonely                   │                                                        │\n",
       "│ room.”<|endoftext|>Q:                                  │ A:                                                     │\n",
       "│                                                        │                                                        │\n",
       "│                                                        │ The phrase \"I'm thinking about\" can be                 │\n",
       "└────────────────────────────────────────────────────────┴────────────────────────────────────────────────────────┘\n"
      ]
     },
     "metadata": {},
     "output_type": "display_data"
    }
   ],
   "source": [
    "\n",
    "\n",
    "num_prompts = 3\n",
    "new_tokens = 30 # Number of new tokens to generate\n",
    "\n",
    "for layer, coeff in [\n",
    "    (16, 10),\n",
    "    (24, 10),\n",
    "    (40, 10),\n",
    "    (60, 10)\n",
    "  ]:\n",
    "    steering_info = [\n",
    "        ('I think I love you', +coeff),\n",
    "        ('I think I hate you', -coeff)\n",
    "    ]\n",
    "    steering_prompts, steering_coefficients = zip(*steering_info)\n",
    "    unsteered_completions, steered_completions = apply_steering_vector(\n",
    "        mamba_model,\n",
    "        layer,\n",
    "        new_tokens,\n",
    "        steering_prompts,\n",
    "        steering_coefficients,\n",
    "        [\"When I think of you I think of\" for _ in range(num_prompts)],\n",
    "        apply_only_at_end=False\n",
    "    )\n",
    "\n",
    "    unsteered_sents = tokenizer.batch_decode(unsteered_completions)\n",
    "    steered_sents = tokenizer.batch_decode(steered_completions)\n",
    "\n",
    "    print_steering_table(unsteered_sents, steered_sents, layer, coeff)"
   ]
  },
  {
   "cell_type": "code",
   "execution_count": 10,
   "metadata": {},
   "outputs": [
    {
     "data": {
      "text/plain": [
       "MambaLMHeadModel(\n",
       "  (backbone): MixerModel(\n",
       "    (embedding): Embedding(50280, 2560)\n",
       "    (layers): ModuleList(\n",
       "      (0-63): 64 x Block(\n",
       "        (mixer): MambaModuleInterp(\n",
       "          (in_proj): Linear(in_features=2560, out_features=10240, bias=False)\n",
       "          (conv1d): Conv1d(5120, 5120, kernel_size=(4,), stride=(1,), padding=(3,), groups=5120)\n",
       "          (act): SiLU()\n",
       "          (x_proj): Linear(in_features=5120, out_features=192, bias=False)\n",
       "          (dt_proj): Linear(in_features=160, out_features=5120, bias=True)\n",
       "          (out_proj): Linear(in_features=5120, out_features=2560, bias=False)\n",
       "          (dt): WrapperModule()\n",
       "          (B): WrapperModule()\n",
       "          (C): WrapperModule()\n",
       "          (ssm): SSM(\n",
       "            (discA): DiscA()\n",
       "            (discB): DiscB()\n",
       "            (hx): Hx(\n",
       "              (bx): Bx()\n",
       "              (ah): Ah()\n",
       "            )\n",
       "            (yh): Yh()\n",
       "          )\n",
       "          (delta_softplus): Softplus(beta=1, threshold=20)\n",
       "        )\n",
       "        (norm): RMSNorm()\n",
       "      )\n",
       "    )\n",
       "    (norm_f): RMSNorm()\n",
       "  )\n",
       "  (lm_head): Linear(in_features=2560, out_features=50280, bias=False)\n",
       ")"
      ]
     },
     "execution_count": 10,
     "metadata": {},
     "output_type": "execute_result"
    }
   ],
   "source": [
    "mamba_model"
   ]
  },
  {
   "cell_type": "code",
   "execution_count": null,
   "metadata": {},
   "outputs": [],
   "source": []
  }
 ],
 "metadata": {
  "kernelspec": {
   "display_name": "base",
   "language": "python",
   "name": "python3"
  },
  "language_info": {
   "codemirror_mode": {
    "name": "ipython",
    "version": 3
   },
   "file_extension": ".py",
   "mimetype": "text/x-python",
   "name": "python",
   "nbconvert_exporter": "python",
   "pygments_lexer": "ipython3",
   "version": "3.11.5"
  }
 },
 "nbformat": 4,
 "nbformat_minor": 2
}
